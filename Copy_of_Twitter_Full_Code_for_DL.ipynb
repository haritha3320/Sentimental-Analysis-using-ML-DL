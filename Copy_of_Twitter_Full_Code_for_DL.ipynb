{
  "nbformat": 4,
  "nbformat_minor": 0,
  "metadata": {
    "colab": {
      "provenance": []
    },
    "kernelspec": {
      "name": "python3",
      "display_name": "Python 3"
    },
    "language_info": {
      "name": "python"
    }
  },
  "cells": [
    {
      "cell_type": "code",
      "source": [
        "!pip install textblob\n",
        "!pip install emoji\n",
        "!pip install keras\n",
        "!pip install tensorflow"
      ],
      "metadata": {
        "id": "UnRXL3OjoiXd",
        "colab": {
          "base_uri": "https://localhost:8080/"
        },
        "outputId": "40740752-286a-4f5f-9e62-aa362ecd4f7b"
      },
      "execution_count": null,
      "outputs": [
        {
          "output_type": "stream",
          "name": "stdout",
          "text": [
            "Requirement already satisfied: textblob in /usr/local/lib/python3.10/dist-packages (0.17.1)\n",
            "Requirement already satisfied: nltk>=3.1 in /usr/local/lib/python3.10/dist-packages (from textblob) (3.8.1)\n",
            "Requirement already satisfied: click in /usr/local/lib/python3.10/dist-packages (from nltk>=3.1->textblob) (8.1.7)\n",
            "Requirement already satisfied: joblib in /usr/local/lib/python3.10/dist-packages (from nltk>=3.1->textblob) (1.3.2)\n",
            "Requirement already satisfied: regex>=2021.8.3 in /usr/local/lib/python3.10/dist-packages (from nltk>=3.1->textblob) (2023.12.25)\n",
            "Requirement already satisfied: tqdm in /usr/local/lib/python3.10/dist-packages (from nltk>=3.1->textblob) (4.66.2)\n",
            "Collecting emoji\n",
            "  Downloading emoji-2.10.1-py2.py3-none-any.whl (421 kB)\n",
            "\u001b[2K     \u001b[90m━━━━━━━━━━━━━━━━━━━━━━━━━━━━━━━━━━━━━━━━\u001b[0m \u001b[32m421.5/421.5 kB\u001b[0m \u001b[31m3.4 MB/s\u001b[0m eta \u001b[36m0:00:00\u001b[0m\n",
            "\u001b[?25hInstalling collected packages: emoji\n",
            "Successfully installed emoji-2.10.1\n",
            "Requirement already satisfied: keras in /usr/local/lib/python3.10/dist-packages (2.15.0)\n",
            "Requirement already satisfied: tensorflow in /usr/local/lib/python3.10/dist-packages (2.15.0)\n",
            "Requirement already satisfied: absl-py>=1.0.0 in /usr/local/lib/python3.10/dist-packages (from tensorflow) (1.4.0)\n",
            "Requirement already satisfied: astunparse>=1.6.0 in /usr/local/lib/python3.10/dist-packages (from tensorflow) (1.6.3)\n",
            "Requirement already satisfied: flatbuffers>=23.5.26 in /usr/local/lib/python3.10/dist-packages (from tensorflow) (24.3.7)\n",
            "Requirement already satisfied: gast!=0.5.0,!=0.5.1,!=0.5.2,>=0.2.1 in /usr/local/lib/python3.10/dist-packages (from tensorflow) (0.5.4)\n",
            "Requirement already satisfied: google-pasta>=0.1.1 in /usr/local/lib/python3.10/dist-packages (from tensorflow) (0.2.0)\n",
            "Requirement already satisfied: h5py>=2.9.0 in /usr/local/lib/python3.10/dist-packages (from tensorflow) (3.9.0)\n",
            "Requirement already satisfied: libclang>=13.0.0 in /usr/local/lib/python3.10/dist-packages (from tensorflow) (16.0.6)\n",
            "Requirement already satisfied: ml-dtypes~=0.2.0 in /usr/local/lib/python3.10/dist-packages (from tensorflow) (0.2.0)\n",
            "Requirement already satisfied: numpy<2.0.0,>=1.23.5 in /usr/local/lib/python3.10/dist-packages (from tensorflow) (1.25.2)\n",
            "Requirement already satisfied: opt-einsum>=2.3.2 in /usr/local/lib/python3.10/dist-packages (from tensorflow) (3.3.0)\n",
            "Requirement already satisfied: packaging in /usr/local/lib/python3.10/dist-packages (from tensorflow) (24.0)\n",
            "Requirement already satisfied: protobuf!=4.21.0,!=4.21.1,!=4.21.2,!=4.21.3,!=4.21.4,!=4.21.5,<5.0.0dev,>=3.20.3 in /usr/local/lib/python3.10/dist-packages (from tensorflow) (3.20.3)\n",
            "Requirement already satisfied: setuptools in /usr/local/lib/python3.10/dist-packages (from tensorflow) (67.7.2)\n",
            "Requirement already satisfied: six>=1.12.0 in /usr/local/lib/python3.10/dist-packages (from tensorflow) (1.16.0)\n",
            "Requirement already satisfied: termcolor>=1.1.0 in /usr/local/lib/python3.10/dist-packages (from tensorflow) (2.4.0)\n",
            "Requirement already satisfied: typing-extensions>=3.6.6 in /usr/local/lib/python3.10/dist-packages (from tensorflow) (4.10.0)\n",
            "Requirement already satisfied: wrapt<1.15,>=1.11.0 in /usr/local/lib/python3.10/dist-packages (from tensorflow) (1.14.1)\n",
            "Requirement already satisfied: tensorflow-io-gcs-filesystem>=0.23.1 in /usr/local/lib/python3.10/dist-packages (from tensorflow) (0.36.0)\n",
            "Requirement already satisfied: grpcio<2.0,>=1.24.3 in /usr/local/lib/python3.10/dist-packages (from tensorflow) (1.62.1)\n",
            "Requirement already satisfied: tensorboard<2.16,>=2.15 in /usr/local/lib/python3.10/dist-packages (from tensorflow) (2.15.2)\n",
            "Requirement already satisfied: tensorflow-estimator<2.16,>=2.15.0 in /usr/local/lib/python3.10/dist-packages (from tensorflow) (2.15.0)\n",
            "Requirement already satisfied: keras<2.16,>=2.15.0 in /usr/local/lib/python3.10/dist-packages (from tensorflow) (2.15.0)\n",
            "Requirement already satisfied: wheel<1.0,>=0.23.0 in /usr/local/lib/python3.10/dist-packages (from astunparse>=1.6.0->tensorflow) (0.43.0)\n",
            "Requirement already satisfied: google-auth<3,>=1.6.3 in /usr/local/lib/python3.10/dist-packages (from tensorboard<2.16,>=2.15->tensorflow) (2.27.0)\n",
            "Requirement already satisfied: google-auth-oauthlib<2,>=0.5 in /usr/local/lib/python3.10/dist-packages (from tensorboard<2.16,>=2.15->tensorflow) (1.2.0)\n",
            "Requirement already satisfied: markdown>=2.6.8 in /usr/local/lib/python3.10/dist-packages (from tensorboard<2.16,>=2.15->tensorflow) (3.5.2)\n",
            "Requirement already satisfied: requests<3,>=2.21.0 in /usr/local/lib/python3.10/dist-packages (from tensorboard<2.16,>=2.15->tensorflow) (2.31.0)\n",
            "Requirement already satisfied: tensorboard-data-server<0.8.0,>=0.7.0 in /usr/local/lib/python3.10/dist-packages (from tensorboard<2.16,>=2.15->tensorflow) (0.7.2)\n",
            "Requirement already satisfied: werkzeug>=1.0.1 in /usr/local/lib/python3.10/dist-packages (from tensorboard<2.16,>=2.15->tensorflow) (3.0.1)\n",
            "Requirement already satisfied: cachetools<6.0,>=2.0.0 in /usr/local/lib/python3.10/dist-packages (from google-auth<3,>=1.6.3->tensorboard<2.16,>=2.15->tensorflow) (5.3.3)\n",
            "Requirement already satisfied: pyasn1-modules>=0.2.1 in /usr/local/lib/python3.10/dist-packages (from google-auth<3,>=1.6.3->tensorboard<2.16,>=2.15->tensorflow) (0.3.0)\n",
            "Requirement already satisfied: rsa<5,>=3.1.4 in /usr/local/lib/python3.10/dist-packages (from google-auth<3,>=1.6.3->tensorboard<2.16,>=2.15->tensorflow) (4.9)\n",
            "Requirement already satisfied: requests-oauthlib>=0.7.0 in /usr/local/lib/python3.10/dist-packages (from google-auth-oauthlib<2,>=0.5->tensorboard<2.16,>=2.15->tensorflow) (1.4.0)\n",
            "Requirement already satisfied: charset-normalizer<4,>=2 in /usr/local/lib/python3.10/dist-packages (from requests<3,>=2.21.0->tensorboard<2.16,>=2.15->tensorflow) (3.3.2)\n",
            "Requirement already satisfied: idna<4,>=2.5 in /usr/local/lib/python3.10/dist-packages (from requests<3,>=2.21.0->tensorboard<2.16,>=2.15->tensorflow) (3.6)\n",
            "Requirement already satisfied: urllib3<3,>=1.21.1 in /usr/local/lib/python3.10/dist-packages (from requests<3,>=2.21.0->tensorboard<2.16,>=2.15->tensorflow) (2.0.7)\n",
            "Requirement already satisfied: certifi>=2017.4.17 in /usr/local/lib/python3.10/dist-packages (from requests<3,>=2.21.0->tensorboard<2.16,>=2.15->tensorflow) (2024.2.2)\n",
            "Requirement already satisfied: MarkupSafe>=2.1.1 in /usr/local/lib/python3.10/dist-packages (from werkzeug>=1.0.1->tensorboard<2.16,>=2.15->tensorflow) (2.1.5)\n",
            "Requirement already satisfied: pyasn1<0.6.0,>=0.4.6 in /usr/local/lib/python3.10/dist-packages (from pyasn1-modules>=0.2.1->google-auth<3,>=1.6.3->tensorboard<2.16,>=2.15->tensorflow) (0.5.1)\n",
            "Requirement already satisfied: oauthlib>=3.0.0 in /usr/local/lib/python3.10/dist-packages (from requests-oauthlib>=0.7.0->google-auth-oauthlib<2,>=0.5->tensorboard<2.16,>=2.15->tensorflow) (3.2.2)\n"
          ]
        }
      ]
    },
    {
      "cell_type": "code",
      "source": [
        "!wget http://nlp.stanford.edu/data/glove.6B.zip\n",
        "!unzip glove.6B.zip"
      ],
      "metadata": {
        "colab": {
          "base_uri": "https://localhost:8080/"
        },
        "id": "oVy6BiVMBA4I",
        "outputId": "4d539369-e649-475e-f334-71757c38f091"
      },
      "execution_count": null,
      "outputs": [
        {
          "output_type": "stream",
          "name": "stdout",
          "text": [
            "--2024-03-14 13:48:04--  http://nlp.stanford.edu/data/glove.6B.zip\n",
            "Resolving nlp.stanford.edu (nlp.stanford.edu)... 171.64.67.140\n",
            "Connecting to nlp.stanford.edu (nlp.stanford.edu)|171.64.67.140|:80... connected.\n",
            "HTTP request sent, awaiting response... 302 Found\n",
            "Location: https://nlp.stanford.edu/data/glove.6B.zip [following]\n",
            "--2024-03-14 13:48:05--  https://nlp.stanford.edu/data/glove.6B.zip\n",
            "Connecting to nlp.stanford.edu (nlp.stanford.edu)|171.64.67.140|:443... connected.\n",
            "HTTP request sent, awaiting response... 301 Moved Permanently\n",
            "Location: https://downloads.cs.stanford.edu/nlp/data/glove.6B.zip [following]\n",
            "--2024-03-14 13:48:05--  https://downloads.cs.stanford.edu/nlp/data/glove.6B.zip\n",
            "Resolving downloads.cs.stanford.edu (downloads.cs.stanford.edu)... 171.64.64.22\n",
            "Connecting to downloads.cs.stanford.edu (downloads.cs.stanford.edu)|171.64.64.22|:443... connected.\n",
            "HTTP request sent, awaiting response... 200 OK\n",
            "Length: 862182613 (822M) [application/zip]\n",
            "Saving to: ‘glove.6B.zip’\n",
            "\n",
            "glove.6B.zip        100%[===================>] 822.24M  4.98MB/s    in 2m 39s  \n",
            "\n",
            "2024-03-14 13:50:44 (5.16 MB/s) - ‘glove.6B.zip’ saved [862182613/862182613]\n",
            "\n",
            "Archive:  glove.6B.zip\n",
            "  inflating: glove.6B.50d.txt        \n",
            "  inflating: glove.6B.100d.txt       \n",
            "  inflating: glove.6B.200d.txt       \n",
            "  inflating: glove.6B.300d.txt       \n"
          ]
        }
      ]
    },
    {
      "cell_type": "markdown",
      "source": [
        "Working Code with word embeddings and confusion matrix-unlabelled"
      ],
      "metadata": {
        "id": "f0UXqY0yBeZQ"
      }
    },
    {
      "cell_type": "code",
      "source": [
        "import pandas as pd\n",
        "import re\n",
        "import nltk\n",
        "import emoji\n",
        "import numpy as np\n",
        "from nltk.corpus import stopwords\n",
        "from nltk.tokenize import word_tokenize\n",
        "from nltk.stem import WordNetLemmatizer\n",
        "from textblob import TextBlob\n",
        "from sklearn.model_selection import train_test_split\n",
        "from sklearn.preprocessing import LabelEncoder\n",
        "from tensorflow.keras.preprocessing.text import Tokenizer\n",
        "from tensorflow.keras.preprocessing.sequence import pad_sequences\n",
        "from tensorflow.keras.models import Sequential\n",
        "from tensorflow.keras.layers import Embedding, LSTM, Dense, SpatialDropout1D, Conv1D, GlobalMaxPooling1D\n",
        "from tensorflow.keras.optimizers import Adam\n",
        "from tensorflow.keras.callbacks import EarlyStopping\n",
        "from sklearn.metrics import classification_report\n",
        "from sklearn.metrics import confusion_matrix\n",
        "from tensorflow.keras.layers import Bidirectional\n",
        "from tensorflow.keras.layers import MaxPooling1D\n",
        "\n",
        "# Download necessary NLTK resources\n",
        "nltk.download('punkt')\n",
        "nltk.download('stopwords')\n",
        "nltk.download('wordnet')\n",
        "\n",
        "# Function to clean a tweet\n",
        "def clean_tweet(tweet):\n",
        "    # Convert to lowercase\n",
        "    tweet = str(tweet)\n",
        "    tweet = tweet.lower()\n",
        "\n",
        "    # Replace URLs with a placeholder\n",
        "    tweet = re.sub(r'http\\S+|www\\S+|https\\S+', 'URL', tweet, flags=re.MULTILINE)\n",
        "    # Remove usernames (mentions)\n",
        "    tweet = re.sub(r'@\\w+', '', tweet)\n",
        "    # Remove emojis and emoticons\n",
        "    tweet = emoji.demojize(tweet)\n",
        "    tweet = re.sub(r':[a-z_&]+:', '', tweet)\n",
        "    # Tokenize the tweet\n",
        "    tokens = word_tokenize(tweet)\n",
        "    # Remove stopwords\n",
        "    stop_words = set(stopwords.words('english'))\n",
        "    filtered_tokens = [token for token in tokens if token.isalpha() and token not in stop_words]\n",
        "    # Lemmatize tokens\n",
        "    lemmatizer = WordNetLemmatizer()\n",
        "    lemmatized_tokens = [lemmatizer.lemmatize(token) for token in filtered_tokens]\n",
        "    # Join the lemmatized tokens back to form a cleaned tweet\n",
        "    cleaned_tweet = ' '.join(lemmatized_tokens)\n",
        "\n",
        "    return cleaned_tweet\n",
        "\n",
        "# Read the dataset from the Excel file\n",
        "file_path = '/content/twitter_full_dataset.xlsx'  # Replace with the actual path of your Excel file\n",
        "df = pd.read_excel(file_path)\n",
        "\n",
        "# Assuming your tweets are in a column named 'tweet_text'\n",
        "tweets = df['Text'].tolist()\n",
        "\n",
        "# Clean each tweet in the dataset\n",
        "cleaned_tweets = [clean_tweet(tweet) for tweet in tweets]\n",
        "\n",
        "# Keywords to identify cyberbullying related to racism, sexism, body shaming, and religion bias\n",
        "racism_keywords = [\"black\", \"white\", \"racial slur\", \"race hate\", \"negro\", \"nigga\"]\n",
        "sexism_keywords = [\"sexist\", \"sexism\", \"gender bias\", \"misogyny\", \"bitch\"]\n",
        "body_shaming_keywords = [\"fat\", \"skinny\", \"body hate\", \"ugly\", \"weight\"]\n",
        "religion_bias_keywords = [\"hindu\", \"islam\", \"muslim\", \"christianity\", \"terrorist\", \"jihad\"]\n",
        "hate_speech_keywords = [\"slavery\",\"dead\",\"rape\",\"fuck\",\"gay\",\"nasty\",\"rubbish\",\"shit\",\"murder\",\"kill\",\"rapist\",\"homo\",\"asshole\",\"whore\",\"hoe\"]\n",
        "\n",
        "# Lists to store the results\n",
        "categories = []\n",
        "sentiment_scores = []\n",
        "sentiment_labels = []\n",
        "\n",
        "# Perform sentiment analysis and categorize the tweets\n",
        "for tweet in cleaned_tweets:\n",
        "    blob = TextBlob(tweet)\n",
        "    sentiment_score = blob.sentiment.polarity\n",
        "\n",
        "    if any(keyword in tweet for keyword in racism_keywords):\n",
        "        category = \"Racism\"\n",
        "    elif any(keyword in tweet for keyword in sexism_keywords):\n",
        "        category = \"Sexism\"\n",
        "    elif any(keyword in tweet for keyword in body_shaming_keywords):\n",
        "        category = \"Body Shaming\"\n",
        "    elif any(keyword in tweet for keyword in religion_bias_keywords):\n",
        "        category = \"Religion Bias\"\n",
        "    elif any(keyword in tweet for keyword in hate_speech_keywords):\n",
        "        category = \"Hate Speech\"\n",
        "    else:\n",
        "        category = \"None\"\n",
        "\n",
        "   # Classify sentiment\n",
        "    if sentiment_score > 0.2:\n",
        "        sentiment_label = \"Positive\"\n",
        "    elif sentiment_score < -0.2:\n",
        "        sentiment_label = \"Negative\"\n",
        "    else:\n",
        "        sentiment_label = \"Neutral\"\n",
        "\n",
        "    categories.append(category)\n",
        "    sentiment_scores.append(sentiment_score)\n",
        "    sentiment_labels.append(sentiment_label)\n",
        "\n",
        "# Create a DataFrame to store the sentiment analysis results\n",
        "results_df = pd.DataFrame({\n",
        "    'Cleaned_Tweet': cleaned_tweets,\n",
        "    'Category': categories,\n",
        "    'Sentiment Score': sentiment_scores,\n",
        "    'Sentiment Label': sentiment_labels\n",
        "})\n",
        "\n",
        "# Define the path where you want to save the Excel file\n",
        "excel_file_path = '/content/preprocessed_tweets.xlsx'  # Replace with your desired file path and extension\n",
        "\n",
        "# Save the DataFrame to an Excel file\n",
        "results_df.to_excel(excel_file_path, index=False)\n",
        "\n",
        "# Print a message to confirm that the file has been saved\n",
        "print(f\"Preprocessed dataset with sentiment scores and labels saved to: {excel_file_path}\")\n",
        "\n",
        "# Load GloVe embeddings\n",
        "def load_glove_embeddings(file_path):\n",
        "    embeddings_index = {}\n",
        "    with open(file_path, encoding=\"utf-8\") as f:\n",
        "        for line in f:\n",
        "            values = line.split()\n",
        "            word = values[0]\n",
        "            coefs = np.asarray(values[1:], dtype='float32')\n",
        "            embeddings_index[word] = coefs\n",
        "    return embeddings_index\n",
        "\n",
        "glove_path = '/content/glove.6B.50d.txt'  # Replace with the actual path of your GloVe file\n",
        "glove_embeddings = load_glove_embeddings(glove_path)\n",
        "\n",
        "# Tokenize and pad sequences\n",
        "tokenizer = Tokenizer()\n",
        "tokenizer.fit_on_texts(cleaned_tweets)\n",
        "\n",
        "word_index = tokenizer.word_index\n",
        "vocab_size = len(word_index) + 1\n",
        "\n",
        "sequences = tokenizer.texts_to_sequences(cleaned_tweets)\n",
        "max_sequence_length = max(len(seq) for seq in sequences)\n",
        "\n",
        "padded_sequences = pad_sequences(sequences, maxlen=max_sequence_length, padding='post')\n",
        "\n",
        "# Create an embedding matrix\n",
        "embedding_dim = 50  # Assuming you are using glove.6B.50d.txt\n",
        "\n",
        "embedding_matrix = np.zeros((vocab_size, embedding_dim))\n",
        "for word, i in word_index.items():\n",
        "    embedding_vector = glove_embeddings.get(word)\n",
        "    if embedding_vector is not None:\n",
        "        embedding_matrix[i] = embedding_vector\n",
        "\n",
        "# Separate the features (cleaned tweets) and labels (categories)\n",
        "X = results_df['Cleaned_Tweet']\n",
        "y = results_df['Category']\n",
        "\n",
        "# Encode category labels\n",
        "label_encoder = LabelEncoder()\n",
        "y_encoded = label_encoder.fit_transform(y)\n",
        "\n",
        "# Reshape train_labels\n",
        "train_labels = y_encoded.reshape((-1, 1))\n",
        "\n",
        "# Split the dataset\n",
        "train_data, test_data, train_labels, test_labels = train_test_split(\n",
        "    padded_sequences, train_labels, test_size=0.2, random_state=42\n",
        ")\n",
        "\n",
        "# Build an LSTM model with GloVe embeddings\n",
        "model_lstm = Sequential()\n",
        "model_lstm.add(Embedding(input_dim=vocab_size, output_dim=embedding_dim, weights=[embedding_matrix], input_length=max_sequence_length, trainable=True))\n",
        "model_lstm.add(SpatialDropout1D(0.2))\n",
        "model_lstm.add(LSTM(64))\n",
        "model_lstm.add(Dense(6, activation='softmax'))  # 6 classes, so the output layer should have 6 neurons and use softmax activation\n",
        "\n",
        "#compile model\n",
        "model_lstm.compile(optimizer=Adam(), loss='sparse_categorical_crossentropy', metrics=['accuracy'])\n",
        "\n",
        "# Train the LSTM model\n",
        "model_lstm.fit(train_data, train_labels, epochs=6, validation_split=0.2, callbacks=[EarlyStopping(patience=3)])\n",
        "\n",
        "# Evaluate the LSTM model\n",
        "lstm_predictions = model_lstm.predict(test_data)\n",
        "lstm_predicted_labels =  np.argmax(lstm_predictions, axis=1)  # Convert probabilities to class labels\n",
        "\n",
        "class_names = label_encoder.classes_\n",
        "print(\"LSTM Classification Report:\")\n",
        "print(classification_report(test_labels, lstm_predicted_labels, target_names=label_encoder.classes_))\n",
        "\n",
        "# Confusion matrix for LSTM model\n",
        "lstm_conf_matrix = confusion_matrix(test_labels, lstm_predicted_labels)\n",
        "print(\"Confusion Matrix for LSTM Model:\\n\", lstm_conf_matrix)\n",
        "\n",
        "num_classes = len(label_encoder.classes_)\n",
        "\n",
        "from tensorflow.keras.utils import to_categorical\n",
        "\n",
        "# Convert labels to one-hot encoding\n",
        "train_labels_encoded = to_categorical(train_labels, num_classes=num_classes)\n",
        "test_labels_encoded = to_categorical(test_labels, num_classes=num_classes)\n",
        "\n",
        "# Build a CNN model with GloVe embeddings\n",
        "model_cnn = Sequential()\n",
        "model_cnn.add(Embedding(input_dim=vocab_size, output_dim=embedding_dim, weights=[embedding_matrix], input_length=max_sequence_length, trainable=True))\n",
        "model_cnn.add(Conv1D(128, 6, activation='relu'))\n",
        "model_cnn.add(GlobalMaxPooling1D())\n",
        "model_cnn.add(Dense(64, activation='relu'))\n",
        "model_cnn.add(Dense(num_classes, activation='softmax'))  # Use softmax for multi-class classification\n",
        "\n",
        "# Compile the model\n",
        "model_cnn.compile(optimizer=Adam(), loss='categorical_crossentropy', metrics=['accuracy'])\n",
        "\n",
        "# Train the CNN model\n",
        "model_cnn.fit(train_data, train_labels_encoded, epochs=6, validation_split=0.2, callbacks=[EarlyStopping(patience=3)])\n",
        "\n",
        "# Evaluate the CNN model\n",
        "cnn_predictions = model_cnn.predict(test_data)\n",
        "cnn_predicted_labels = np.argmax(cnn_predictions, axis=1)\n",
        "\n",
        "print(\"CNN Classification Report:\\n\", classification_report(test_labels, cnn_predicted_labels, target_names=label_encoder.classes_))\n",
        "\n",
        "# Confusion matrix for CNN model\n",
        "cnn_conf_matrix = confusion_matrix(test_labels, cnn_predicted_labels)\n",
        "print(\"Confusion Matrix for CNN Model:\\n\", cnn_conf_matrix)\n",
        "\n",
        "# Build a hybrid CNN-LSTM model with GloVe embeddings\n",
        "model_hybrid = Sequential()\n",
        "model_hybrid.add(Embedding(input_dim=vocab_size, output_dim=embedding_dim, weights=[embedding_matrix], input_length=max_sequence_length, trainable=True))\n",
        "model_hybrid.add(Conv1D(128, 6, activation='relu'))\n",
        "model_hybrid.add(MaxPooling1D(pool_size=4))\n",
        "model_hybrid.add(SpatialDropout1D(0.2))\n",
        "model_hybrid.add(Bidirectional(LSTM(64)))\n",
        "model_hybrid.add(Dense(num_classes, activation='softmax'))  # Use softmax for multi-class classification\n",
        "\n",
        "# Compile the model\n",
        "model_hybrid.compile(optimizer=Adam(), loss='categorical_crossentropy', metrics=['accuracy'])\n",
        "\n",
        "# Train the hybrid CNN-LSTM model\n",
        "model_hybrid.fit(train_data, train_labels_encoded, epochs=6, validation_split=0.2, callbacks=[EarlyStopping(patience=3)])\n",
        "\n",
        "# Evaluate the hybrid CNN-LSTM model\n",
        "hybrid_predictions = model_hybrid.predict(test_data)\n",
        "hybrid_predicted_labels = np.argmax(hybrid_predictions, axis=1)\n",
        "\n",
        "print(\"Hybrid CNN-LSTM Classification Report:\\n\", classification_report(test_labels, hybrid_predicted_labels, target_names=label_encoder.classes_))\n",
        "\n",
        "# Confusion matrix for hybrid CNN-LSTM model\n",
        "hybrid_conf_matrix = confusion_matrix(test_labels, hybrid_predicted_labels)\n",
        "print(\"Confusion Matrix for Hybrid CNN-LSTM Model:\\n\", hybrid_conf_matrix)\n"
      ],
      "metadata": {
        "colab": {
          "base_uri": "https://localhost:8080/"
        },
        "id": "QNsthVEeDciT",
        "outputId": "d8baff01-53c8-4bd5-f46d-4095ea0e8c61"
      },
      "execution_count": null,
      "outputs": [
        {
          "output_type": "stream",
          "name": "stderr",
          "text": [
            "[nltk_data] Downloading package punkt to /root/nltk_data...\n",
            "[nltk_data]   Unzipping tokenizers/punkt.zip.\n",
            "[nltk_data] Downloading package stopwords to /root/nltk_data...\n",
            "[nltk_data]   Unzipping corpora/stopwords.zip.\n",
            "[nltk_data] Downloading package wordnet to /root/nltk_data...\n"
          ]
        },
        {
          "output_type": "stream",
          "name": "stdout",
          "text": [
            "Preprocessed dataset with sentiment scores and labels saved to: /content/preprocessed_tweets.xlsx\n",
            "Epoch 1/6\n",
            "337/337 [==============================] - 15s 36ms/step - loss: 0.7357 - accuracy: 0.7850 - val_loss: 0.4770 - val_accuracy: 0.8605\n",
            "Epoch 2/6\n",
            "337/337 [==============================] - 7s 20ms/step - loss: 0.4023 - accuracy: 0.8763 - val_loss: 0.2872 - val_accuracy: 0.9210\n",
            "Epoch 3/6\n",
            "337/337 [==============================] - 9s 28ms/step - loss: 0.2616 - accuracy: 0.9283 - val_loss: 0.1960 - val_accuracy: 0.9544\n",
            "Epoch 4/6\n",
            "337/337 [==============================] - 12s 34ms/step - loss: 0.1793 - accuracy: 0.9552 - val_loss: 0.1599 - val_accuracy: 0.9614\n",
            "Epoch 5/6\n",
            "337/337 [==============================] - 7s 22ms/step - loss: 0.1390 - accuracy: 0.9669 - val_loss: 0.1516 - val_accuracy: 0.9722\n",
            "Epoch 6/6\n",
            "337/337 [==============================] - 8s 25ms/step - loss: 0.1078 - accuracy: 0.9744 - val_loss: 0.1294 - val_accuracy: 0.9751\n",
            "106/106 [==============================] - 1s 7ms/step\n",
            "LSTM Classification Report:\n",
            "               precision    recall  f1-score   support\n",
            "\n",
            " Body Shaming       0.00      0.00      0.00        23\n",
            "  Hate Speech       0.91      0.89      0.90       257\n",
            "         None       0.97      0.99      0.98      2417\n",
            "       Racism       0.77      0.66      0.71        41\n",
            "Religion Bias       0.99      0.95      0.97       346\n",
            "       Sexism       0.99      0.97      0.98       287\n",
            "\n",
            "     accuracy                           0.97      3371\n",
            "    macro avg       0.77      0.74      0.76      3371\n",
            " weighted avg       0.96      0.97      0.97      3371\n",
            "\n",
            "Confusion Matrix for LSTM Model:\n",
            " [[   0    5   11    7    0    0]\n",
            " [   0  230   27    0    0    0]\n",
            " [   0   10 2404    1    2    0]\n",
            " [   0    2    7   27    1    4]\n",
            " [   0    1   18    0  327    0]\n",
            " [   0    5    3    0    1  278]]\n"
          ]
        },
        {
          "output_type": "stream",
          "name": "stderr",
          "text": [
            "/usr/local/lib/python3.10/dist-packages/sklearn/metrics/_classification.py:1344: UndefinedMetricWarning: Precision and F-score are ill-defined and being set to 0.0 in labels with no predicted samples. Use `zero_division` parameter to control this behavior.\n",
            "  _warn_prf(average, modifier, msg_start, len(result))\n",
            "/usr/local/lib/python3.10/dist-packages/sklearn/metrics/_classification.py:1344: UndefinedMetricWarning: Precision and F-score are ill-defined and being set to 0.0 in labels with no predicted samples. Use `zero_division` parameter to control this behavior.\n",
            "  _warn_prf(average, modifier, msg_start, len(result))\n",
            "/usr/local/lib/python3.10/dist-packages/sklearn/metrics/_classification.py:1344: UndefinedMetricWarning: Precision and F-score are ill-defined and being set to 0.0 in labels with no predicted samples. Use `zero_division` parameter to control this behavior.\n",
            "  _warn_prf(average, modifier, msg_start, len(result))\n"
          ]
        },
        {
          "output_type": "stream",
          "name": "stdout",
          "text": [
            "Epoch 1/6\n",
            "337/337 [==============================] - 9s 23ms/step - loss: 0.5198 - accuracy: 0.8463 - val_loss: 0.3314 - val_accuracy: 0.9102\n",
            "Epoch 2/6\n",
            "337/337 [==============================] - 6s 17ms/step - loss: 0.2137 - accuracy: 0.9410 - val_loss: 0.2237 - val_accuracy: 0.9429\n",
            "Epoch 3/6\n",
            "337/337 [==============================] - 4s 12ms/step - loss: 0.0905 - accuracy: 0.9783 - val_loss: 0.2013 - val_accuracy: 0.9540\n",
            "Epoch 4/6\n",
            "337/337 [==============================] - 5s 14ms/step - loss: 0.0330 - accuracy: 0.9928 - val_loss: 0.1863 - val_accuracy: 0.9562\n",
            "Epoch 5/6\n",
            "337/337 [==============================] - 7s 20ms/step - loss: 0.0136 - accuracy: 0.9980 - val_loss: 0.2111 - val_accuracy: 0.9566\n",
            "Epoch 6/6\n",
            "337/337 [==============================] - 7s 22ms/step - loss: 0.0067 - accuracy: 0.9986 - val_loss: 0.2165 - val_accuracy: 0.9581\n",
            "106/106 [==============================] - 1s 4ms/step\n",
            "CNN Classification Report:\n",
            "                precision    recall  f1-score   support\n",
            "\n",
            " Body Shaming       0.80      0.17      0.29        23\n",
            "  Hate Speech       0.90      0.74      0.81       257\n",
            "         None       0.95      0.99      0.97      2417\n",
            "       Racism       0.96      0.63      0.76        41\n",
            "Religion Bias       0.98      0.92      0.95       346\n",
            "       Sexism       0.99      0.93      0.96       287\n",
            "\n",
            "     accuracy                           0.95      3371\n",
            "    macro avg       0.93      0.73      0.79      3371\n",
            " weighted avg       0.95      0.95      0.95      3371\n",
            "\n",
            "Confusion Matrix for CNN Model:\n",
            " [[   4    2   16    0    1    0]\n",
            " [   0  189   67    0    1    0]\n",
            " [   0    9 2404    1    2    1]\n",
            " [   0    1   10   26    1    3]\n",
            " [   1    3   24    0  318    0]\n",
            " [   0    7   12    0    1  267]]\n",
            "Epoch 1/6\n",
            "337/337 [==============================] - 11s 21ms/step - loss: 0.5722 - accuracy: 0.8270 - val_loss: 0.3427 - val_accuracy: 0.9028\n",
            "Epoch 2/6\n",
            "337/337 [==============================] - 10s 30ms/step - loss: 0.2638 - accuracy: 0.9247 - val_loss: 0.2071 - val_accuracy: 0.9473\n",
            "Epoch 3/6\n",
            "337/337 [==============================] - 12s 34ms/step - loss: 0.1368 - accuracy: 0.9653 - val_loss: 0.1762 - val_accuracy: 0.9573\n",
            "Epoch 4/6\n",
            "337/337 [==============================] - 7s 19ms/step - loss: 0.0799 - accuracy: 0.9800 - val_loss: 0.1647 - val_accuracy: 0.9633\n",
            "Epoch 5/6\n",
            "337/337 [==============================] - 9s 27ms/step - loss: 0.0436 - accuracy: 0.9880 - val_loss: 0.1712 - val_accuracy: 0.9640\n",
            "Epoch 6/6\n",
            "337/337 [==============================] - 12s 34ms/step - loss: 0.0265 - accuracy: 0.9926 - val_loss: 0.1971 - val_accuracy: 0.9674\n",
            "106/106 [==============================] - 2s 6ms/step\n",
            "Hybrid CNN-LSTM Classification Report:\n",
            "                precision    recall  f1-score   support\n",
            "\n",
            " Body Shaming       1.00      0.26      0.41        23\n",
            "  Hate Speech       0.88      0.84      0.86       257\n",
            "         None       0.97      0.99      0.98      2417\n",
            "       Racism       1.00      0.54      0.70        41\n",
            "Religion Bias       0.95      0.95      0.95       346\n",
            "       Sexism       0.98      0.98      0.98       287\n",
            "\n",
            "     accuracy                           0.96      3371\n",
            "    macro avg       0.96      0.76      0.81      3371\n",
            " weighted avg       0.96      0.96      0.96      3371\n",
            "\n",
            "Confusion Matrix for Hybrid CNN-LSTM Model:\n",
            " [[   6    4   12    0    1    0]\n",
            " [   0  215   40    0    2    0]\n",
            " [   0   19 2386    0   11    1]\n",
            " [   0    2    7   22    4    6]\n",
            " [   0    2   14    0  330    0]\n",
            " [   0    1    4    0    1  281]]\n"
          ]
        }
      ]
    },
    {
      "cell_type": "markdown",
      "source": [
        "Hyperparameter for LSTM"
      ],
      "metadata": {
        "id": "xnDXBlo7C_Mu"
      }
    },
    {
      "cell_type": "code",
      "source": [
        "from keras.utils import to_categorical"
      ],
      "metadata": {
        "id": "_IVON577B_5j"
      },
      "execution_count": null,
      "outputs": []
    },
    {
      "cell_type": "code",
      "source": [
        "import numpy as np\n",
        "from keras.models import Sequential\n",
        "from keras.layers import LSTM, Dense, Embedding, SpatialDropout1D\n",
        "from keras.optimizers import Adam\n",
        "from keras.callbacks import EarlyStopping\n",
        "from sklearn.model_selection import train_test_split\n",
        "from sklearn.metrics import classification_report\n",
        "\n",
        "# Define the function to generate random hyperparameters\n",
        "def get_hyper_param(n_iteration):\n",
        "    hyper_param = []  # learning_rate, n_neurons, n_timesteps, n_epochs\n",
        "    for i in range(n_iteration):\n",
        "        current_params = []\n",
        "        current_params.append(np.random.uniform(0, 0.1))  # Learning rate\n",
        "        current_params.append(np.random.randint(1, 128))   # Number of neurons\n",
        "        current_params.append(np.random.randint(1, 128))   # Number of timesteps\n",
        "        current_params.append(np.random.randint(1, 6))    # Number of epochs\n",
        "        hyper_param.append(current_params)\n",
        "    return hyper_param\n",
        "\n",
        "# Generate random hyperparameters\n",
        "hyper_parameter = get_hyper_param(40)\n",
        "\n",
        "# Split the dataset (assuming train_data, test_data, train_labels, test_labels are defined)\n",
        "# Define your own function get_data to get training data and labels based on n_timesteps\n",
        "# Define top_words and embedding_dimension\n",
        "top_words = vocab_size\n",
        "embedding_dimension = embedding_dim\n",
        "\n",
        "# Define function to fit LSTM model with random hyperparameters\n",
        "def fit_lstm_random(batch_size):\n",
        "    min_val_loss = 999\n",
        "    best_params = None\n",
        "    for learning_rate, n_neurons, n_timesteps, n_epochs in hyper_parameter:\n",
        "        print('lr:', learning_rate, 'n_neurons:', n_neurons, 'n_timesteps:', n_timesteps, 'n_epochs:', n_epochs)\n",
        "        model = Sequential()\n",
        "        model.add(Embedding(top_words, embedding_dimension, input_length=24, mask_zero=True))  # Set input_length=24\n",
        "        model.add(LSTM(n_neurons, return_sequences=False))\n",
        "        model.add(Dense(6, activation='softmax'))\n",
        "        model.compile(loss='categorical_crossentropy', optimizer=Adam(lr=learning_rate), metrics=['accuracy'])\n",
        "        # Fit model\n",
        "\n",
        "        # Convert integer labels to one-hot encoded format\n",
        "        train_labels_one_hot = to_categorical(train_labels, num_classes=6)\n",
        "\n",
        "        # Fit model\n",
        "        lstm_model = model.fit(train_data, train_labels_one_hot, epochs=n_epochs, batch_size=batch_size, validation_split=0.2, verbose=2)\n",
        "\n",
        "        current_val_loss = lstm_model.history['val_loss'][-1]\n",
        "        if current_val_loss < min_val_loss:\n",
        "            min_val_loss = current_val_loss\n",
        "            best_params = [learning_rate, n_neurons, n_timesteps, n_epochs]\n",
        "            print('best_params:', best_params)\n",
        "    print('final best params:', best_params)\n",
        "    return best_params\n",
        "\n",
        "# Define a function to run the random search\n",
        "def run_lstm_random():\n",
        "    n_batch = 100\n",
        "    history = fit_lstm_random(n_batch)\n",
        "\n",
        "# Run the random search\n",
        "run_lstm_random()"
      ],
      "metadata": {
        "colab": {
          "base_uri": "https://localhost:8080/"
        },
        "id": "6esyfagLCDjU",
        "outputId": "c27c5ee0-544f-480d-f84a-26ac10fcf0f8"
      },
      "execution_count": null,
      "outputs": [
        {
          "output_type": "stream",
          "name": "stdout",
          "text": [
            "lr: 0.04734372477625124 n_neurons: 123 n_timesteps: 69 n_epochs: 1\n"
          ]
        },
        {
          "output_type": "stream",
          "name": "stderr",
          "text": [
            "WARNING:absl:`lr` is deprecated in Keras optimizer, please use `learning_rate` or use the legacy optimizer, e.g.,tf.keras.optimizers.legacy.Adam.\n"
          ]
        },
        {
          "output_type": "stream",
          "name": "stdout",
          "text": [
            "108/108 - 19s - loss: 1.0828 - accuracy: 0.7277 - val_loss: 0.6968 - val_accuracy: 0.8331 - 19s/epoch - 172ms/step\n",
            "best_params: [0.04734372477625124, 123, 69, 1]\n",
            "lr: 0.06707988055928135 n_neurons: 90 n_timesteps: 97 n_epochs: 4\n"
          ]
        },
        {
          "output_type": "stream",
          "name": "stderr",
          "text": [
            "WARNING:absl:`lr` is deprecated in Keras optimizer, please use `learning_rate` or use the legacy optimizer, e.g.,tf.keras.optimizers.legacy.Adam.\n"
          ]
        },
        {
          "output_type": "stream",
          "name": "stdout",
          "text": [
            "Epoch 1/4\n",
            "108/108 - 15s - loss: 1.0631 - accuracy: 0.7333 - val_loss: 0.6802 - val_accuracy: 0.8327 - 15s/epoch - 137ms/step\n",
            "Epoch 2/4\n",
            "108/108 - 12s - loss: 0.3697 - accuracy: 0.9013 - val_loss: 0.3257 - val_accuracy: 0.9358 - 12s/epoch - 114ms/step\n",
            "Epoch 3/4\n",
            "108/108 - 7s - loss: 0.1535 - accuracy: 0.9669 - val_loss: 0.2852 - val_accuracy: 0.9384 - 7s/epoch - 60ms/step\n",
            "Epoch 4/4\n",
            "108/108 - 11s - loss: 0.0830 - accuracy: 0.9843 - val_loss: 0.2865 - val_accuracy: 0.9306 - 11s/epoch - 101ms/step\n",
            "best_params: [0.06707988055928135, 90, 97, 4]\n",
            "lr: 0.09640014633401006 n_neurons: 94 n_timesteps: 53 n_epochs: 5\n"
          ]
        },
        {
          "output_type": "stream",
          "name": "stderr",
          "text": [
            "WARNING:absl:`lr` is deprecated in Keras optimizer, please use `learning_rate` or use the legacy optimizer, e.g.,tf.keras.optimizers.legacy.Adam.\n"
          ]
        },
        {
          "output_type": "stream",
          "name": "stdout",
          "text": [
            "Epoch 1/5\n",
            "108/108 - 15s - loss: 1.1051 - accuracy: 0.7219 - val_loss: 0.7445 - val_accuracy: 0.7830 - 15s/epoch - 135ms/step\n",
            "Epoch 2/5\n",
            "108/108 - 13s - loss: 0.4160 - accuracy: 0.8838 - val_loss: 0.3216 - val_accuracy: 0.9355 - 13s/epoch - 116ms/step\n",
            "Epoch 3/5\n",
            "108/108 - 10s - loss: 0.1551 - accuracy: 0.9658 - val_loss: 0.3106 - val_accuracy: 0.9258 - 10s/epoch - 92ms/step\n",
            "Epoch 4/5\n",
            "108/108 - 7s - loss: 0.0857 - accuracy: 0.9820 - val_loss: 0.2519 - val_accuracy: 0.9466 - 7s/epoch - 63ms/step\n",
            "Epoch 5/5\n",
            "108/108 - 14s - loss: 0.0508 - accuracy: 0.9915 - val_loss: 0.2552 - val_accuracy: 0.9525 - 14s/epoch - 127ms/step\n",
            "best_params: [0.09640014633401006, 94, 53, 5]\n",
            "lr: 0.07602570357161494 n_neurons: 72 n_timesteps: 118 n_epochs: 1\n"
          ]
        },
        {
          "output_type": "stream",
          "name": "stderr",
          "text": [
            "WARNING:absl:`lr` is deprecated in Keras optimizer, please use `learning_rate` or use the legacy optimizer, e.g.,tf.keras.optimizers.legacy.Adam.\n"
          ]
        },
        {
          "output_type": "stream",
          "name": "stdout",
          "text": [
            "108/108 - 19s - loss: 1.1182 - accuracy: 0.7193 - val_loss: 0.7843 - val_accuracy: 0.7812 - 19s/epoch - 177ms/step\n",
            "lr: 0.09809338355329829 n_neurons: 70 n_timesteps: 68 n_epochs: 4\n"
          ]
        },
        {
          "output_type": "stream",
          "name": "stderr",
          "text": [
            "WARNING:absl:`lr` is deprecated in Keras optimizer, please use `learning_rate` or use the legacy optimizer, e.g.,tf.keras.optimizers.legacy.Adam.\n"
          ]
        },
        {
          "output_type": "stream",
          "name": "stdout",
          "text": [
            "Epoch 1/4\n",
            "108/108 - 17s - loss: 1.1177 - accuracy: 0.7236 - val_loss: 0.7387 - val_accuracy: 0.8116 - 17s/epoch - 153ms/step\n",
            "Epoch 2/4\n",
            "108/108 - 7s - loss: 0.4004 - accuracy: 0.8958 - val_loss: 0.3319 - val_accuracy: 0.9284 - 7s/epoch - 66ms/step\n",
            "Epoch 3/4\n",
            "108/108 - 5s - loss: 0.1591 - accuracy: 0.9661 - val_loss: 0.3012 - val_accuracy: 0.9325 - 5s/epoch - 46ms/step\n",
            "Epoch 4/4\n",
            "108/108 - 8s - loss: 0.0869 - accuracy: 0.9840 - val_loss: 0.2683 - val_accuracy: 0.9418 - 8s/epoch - 74ms/step\n",
            "lr: 0.06192152011634803 n_neurons: 29 n_timesteps: 1 n_epochs: 1\n"
          ]
        },
        {
          "output_type": "stream",
          "name": "stderr",
          "text": [
            "WARNING:absl:`lr` is deprecated in Keras optimizer, please use `learning_rate` or use the legacy optimizer, e.g.,tf.keras.optimizers.legacy.Adam.\n"
          ]
        },
        {
          "output_type": "stream",
          "name": "stdout",
          "text": [
            "108/108 - 9s - loss: 1.2362 - accuracy: 0.7079 - val_loss: 0.8915 - val_accuracy: 0.7366 - 9s/epoch - 79ms/step\n",
            "lr: 0.054905115172551935 n_neurons: 104 n_timesteps: 122 n_epochs: 2\n"
          ]
        },
        {
          "output_type": "stream",
          "name": "stderr",
          "text": [
            "WARNING:absl:`lr` is deprecated in Keras optimizer, please use `learning_rate` or use the legacy optimizer, e.g.,tf.keras.optimizers.legacy.Adam.\n"
          ]
        },
        {
          "output_type": "stream",
          "name": "stdout",
          "text": [
            "Epoch 1/2\n",
            "108/108 - 27s - loss: 1.0862 - accuracy: 0.7234 - val_loss: 0.7410 - val_accuracy: 0.7819 - 27s/epoch - 254ms/step\n",
            "Epoch 2/2\n",
            "108/108 - 20s - loss: 0.4153 - accuracy: 0.8922 - val_loss: 0.3279 - val_accuracy: 0.9321 - 20s/epoch - 181ms/step\n",
            "lr: 0.019972683510665536 n_neurons: 9 n_timesteps: 98 n_epochs: 2\n"
          ]
        },
        {
          "output_type": "stream",
          "name": "stderr",
          "text": [
            "WARNING:absl:`lr` is deprecated in Keras optimizer, please use `learning_rate` or use the legacy optimizer, e.g.,tf.keras.optimizers.legacy.Adam.\n"
          ]
        },
        {
          "output_type": "stream",
          "name": "stdout",
          "text": [
            "Epoch 1/2\n",
            "108/108 - 24s - loss: 1.3163 - accuracy: 0.7063 - val_loss: 0.9436 - val_accuracy: 0.7374 - 24s/epoch - 218ms/step\n",
            "Epoch 2/2\n",
            "108/108 - 6s - loss: 0.7672 - accuracy: 0.7901 - val_loss: 0.6787 - val_accuracy: 0.8398 - 6s/epoch - 52ms/step\n",
            "lr: 0.025009736981896957 n_neurons: 89 n_timesteps: 13 n_epochs: 1\n"
          ]
        },
        {
          "output_type": "stream",
          "name": "stderr",
          "text": [
            "WARNING:absl:`lr` is deprecated in Keras optimizer, please use `learning_rate` or use the legacy optimizer, e.g.,tf.keras.optimizers.legacy.Adam.\n"
          ]
        },
        {
          "output_type": "stream",
          "name": "stdout",
          "text": [
            "108/108 - 29s - loss: 1.1100 - accuracy: 0.7226 - val_loss: 0.7436 - val_accuracy: 0.7841 - 29s/epoch - 269ms/step\n",
            "lr: 0.02049774913423539 n_neurons: 16 n_timesteps: 54 n_epochs: 2\n"
          ]
        },
        {
          "output_type": "stream",
          "name": "stderr",
          "text": [
            "WARNING:absl:`lr` is deprecated in Keras optimizer, please use `learning_rate` or use the legacy optimizer, e.g.,tf.keras.optimizers.legacy.Adam.\n"
          ]
        },
        {
          "output_type": "stream",
          "name": "stdout",
          "text": [
            "Epoch 1/2\n",
            "108/108 - 17s - loss: 1.2530 - accuracy: 0.7064 - val_loss: 0.8297 - val_accuracy: 0.7634 - 17s/epoch - 159ms/step\n",
            "Epoch 2/2\n",
            "108/108 - 7s - loss: 0.5592 - accuracy: 0.8506 - val_loss: 0.4772 - val_accuracy: 0.8835 - 7s/epoch - 63ms/step\n",
            "lr: 0.05948929220034882 n_neurons: 2 n_timesteps: 24 n_epochs: 2\n"
          ]
        },
        {
          "output_type": "stream",
          "name": "stderr",
          "text": [
            "WARNING:absl:`lr` is deprecated in Keras optimizer, please use `learning_rate` or use the legacy optimizer, e.g.,tf.keras.optimizers.legacy.Adam.\n"
          ]
        },
        {
          "output_type": "stream",
          "name": "stdout",
          "text": [
            "Epoch 1/2\n",
            "108/108 - 9s - loss: 1.6163 - accuracy: 0.7035 - val_loss: 1.3591 - val_accuracy: 0.7277 - 9s/epoch - 81ms/step\n",
            "Epoch 2/2\n",
            "108/108 - 4s - loss: 1.1549 - accuracy: 0.7218 - val_loss: 1.0489 - val_accuracy: 0.7322 - 4s/epoch - 39ms/step\n",
            "lr: 0.01831944883519997 n_neurons: 78 n_timesteps: 44 n_epochs: 5\n"
          ]
        },
        {
          "output_type": "stream",
          "name": "stderr",
          "text": [
            "WARNING:absl:`lr` is deprecated in Keras optimizer, please use `learning_rate` or use the legacy optimizer, e.g.,tf.keras.optimizers.legacy.Adam.\n"
          ]
        },
        {
          "output_type": "stream",
          "name": "stdout",
          "text": [
            "Epoch 1/5\n",
            "108/108 - 18s - loss: 1.1151 - accuracy: 0.7221 - val_loss: 0.7737 - val_accuracy: 0.7697 - 18s/epoch - 170ms/step\n",
            "Epoch 2/5\n",
            "108/108 - 13s - loss: 0.4546 - accuracy: 0.8789 - val_loss: 0.3480 - val_accuracy: 0.9240 - 13s/epoch - 123ms/step\n",
            "Epoch 3/5\n",
            "108/108 - 8s - loss: 0.1695 - accuracy: 0.9608 - val_loss: 0.2838 - val_accuracy: 0.9362 - 8s/epoch - 71ms/step\n",
            "Epoch 4/5\n",
            "108/108 - 8s - loss: 0.0955 - accuracy: 0.9777 - val_loss: 0.2360 - val_accuracy: 0.9533 - 8s/epoch - 78ms/step\n",
            "Epoch 5/5\n",
            "108/108 - 13s - loss: 0.0584 - accuracy: 0.9875 - val_loss: 0.2384 - val_accuracy: 0.9585 - 13s/epoch - 122ms/step\n",
            "best_params: [0.01831944883519997, 78, 44, 5]\n",
            "lr: 0.07641793108399897 n_neurons: 49 n_timesteps: 17 n_epochs: 2\n"
          ]
        },
        {
          "output_type": "stream",
          "name": "stderr",
          "text": [
            "WARNING:absl:`lr` is deprecated in Keras optimizer, please use `learning_rate` or use the legacy optimizer, e.g.,tf.keras.optimizers.legacy.Adam.\n"
          ]
        },
        {
          "output_type": "stream",
          "name": "stdout",
          "text": [
            "Epoch 1/2\n",
            "108/108 - 16s - loss: 1.1569 - accuracy: 0.7176 - val_loss: 0.7878 - val_accuracy: 0.7749 - 16s/epoch - 152ms/step\n",
            "Epoch 2/2\n",
            "108/108 - 4s - loss: 0.4620 - accuracy: 0.8708 - val_loss: 0.3702 - val_accuracy: 0.9076 - 4s/epoch - 39ms/step\n",
            "lr: 0.05941522159543571 n_neurons: 109 n_timesteps: 67 n_epochs: 5\n"
          ]
        },
        {
          "output_type": "stream",
          "name": "stderr",
          "text": [
            "WARNING:absl:`lr` is deprecated in Keras optimizer, please use `learning_rate` or use the legacy optimizer, e.g.,tf.keras.optimizers.legacy.Adam.\n"
          ]
        },
        {
          "output_type": "stream",
          "name": "stdout",
          "text": [
            "Epoch 1/5\n",
            "108/108 - 21s - loss: 1.0791 - accuracy: 0.7257 - val_loss: 0.6958 - val_accuracy: 0.7867 - 21s/epoch - 195ms/step\n",
            "Epoch 2/5\n",
            "108/108 - 9s - loss: 0.3857 - accuracy: 0.8949 - val_loss: 0.3143 - val_accuracy: 0.9388 - 9s/epoch - 81ms/step\n",
            "Epoch 3/5\n",
            "108/108 - 12s - loss: 0.1530 - accuracy: 0.9681 - val_loss: 0.2625 - val_accuracy: 0.9458 - 12s/epoch - 115ms/step\n",
            "Epoch 4/5\n",
            "108/108 - 12s - loss: 0.0846 - accuracy: 0.9820 - val_loss: 0.2737 - val_accuracy: 0.9507 - 12s/epoch - 112ms/step\n",
            "Epoch 5/5\n",
            "108/108 - 9s - loss: 0.0523 - accuracy: 0.9894 - val_loss: 0.2623 - val_accuracy: 0.9529 - 9s/epoch - 85ms/step\n",
            "lr: 0.0420704458183451 n_neurons: 18 n_timesteps: 24 n_epochs: 2\n"
          ]
        },
        {
          "output_type": "stream",
          "name": "stderr",
          "text": [
            "WARNING:absl:`lr` is deprecated in Keras optimizer, please use `learning_rate` or use the legacy optimizer, e.g.,tf.keras.optimizers.legacy.Adam.\n"
          ]
        },
        {
          "output_type": "stream",
          "name": "stdout",
          "text": [
            "Epoch 1/2\n",
            "108/108 - 13s - loss: 1.2586 - accuracy: 0.7031 - val_loss: 0.9185 - val_accuracy: 0.7322 - 13s/epoch - 122ms/step\n",
            "Epoch 2/2\n",
            "108/108 - 3s - loss: 0.7180 - accuracy: 0.7940 - val_loss: 0.5773 - val_accuracy: 0.8650 - 3s/epoch - 27ms/step\n",
            "lr: 0.03941283479026997 n_neurons: 88 n_timesteps: 23 n_epochs: 5\n"
          ]
        },
        {
          "output_type": "stream",
          "name": "stderr",
          "text": [
            "WARNING:absl:`lr` is deprecated in Keras optimizer, please use `learning_rate` or use the legacy optimizer, e.g.,tf.keras.optimizers.legacy.Adam.\n"
          ]
        },
        {
          "output_type": "stream",
          "name": "stdout",
          "text": [
            "Epoch 1/5\n",
            "108/108 - 21s - loss: 1.0867 - accuracy: 0.7238 - val_loss: 0.7487 - val_accuracy: 0.7941 - 21s/epoch - 191ms/step\n",
            "Epoch 2/5\n",
            "108/108 - 7s - loss: 0.4105 - accuracy: 0.8908 - val_loss: 0.3341 - val_accuracy: 0.9318 - 7s/epoch - 62ms/step\n",
            "Epoch 3/5\n",
            "108/108 - 10s - loss: 0.1664 - accuracy: 0.9646 - val_loss: 0.3147 - val_accuracy: 0.9247 - 10s/epoch - 96ms/step\n",
            "Epoch 4/5\n",
            "108/108 - 12s - loss: 0.0929 - accuracy: 0.9814 - val_loss: 0.2681 - val_accuracy: 0.9407 - 12s/epoch - 113ms/step\n",
            "Epoch 5/5\n",
            "108/108 - 7s - loss: 0.0615 - accuracy: 0.9878 - val_loss: 0.2866 - val_accuracy: 0.9429 - 7s/epoch - 62ms/step\n",
            "lr: 0.048603810311819456 n_neurons: 104 n_timesteps: 113 n_epochs: 3\n"
          ]
        },
        {
          "output_type": "stream",
          "name": "stderr",
          "text": [
            "WARNING:absl:`lr` is deprecated in Keras optimizer, please use `learning_rate` or use the legacy optimizer, e.g.,tf.keras.optimizers.legacy.Adam.\n"
          ]
        },
        {
          "output_type": "stream",
          "name": "stdout",
          "text": [
            "Epoch 1/3\n",
            "108/108 - 16s - loss: 1.0660 - accuracy: 0.7296 - val_loss: 0.6869 - val_accuracy: 0.7927 - 16s/epoch - 146ms/step\n",
            "Epoch 2/3\n",
            "108/108 - 14s - loss: 0.3736 - accuracy: 0.9050 - val_loss: 0.3189 - val_accuracy: 0.9366 - 14s/epoch - 128ms/step\n",
            "Epoch 3/3\n",
            "108/108 - 10s - loss: 0.1497 - accuracy: 0.9668 - val_loss: 0.2645 - val_accuracy: 0.9488 - 10s/epoch - 92ms/step\n",
            "lr: 0.09905638330972061 n_neurons: 94 n_timesteps: 106 n_epochs: 4\n"
          ]
        },
        {
          "output_type": "stream",
          "name": "stderr",
          "text": [
            "WARNING:absl:`lr` is deprecated in Keras optimizer, please use `learning_rate` or use the legacy optimizer, e.g.,tf.keras.optimizers.legacy.Adam.\n"
          ]
        },
        {
          "output_type": "stream",
          "name": "stdout",
          "text": [
            "Epoch 1/4\n",
            "108/108 - 17s - loss: 1.0805 - accuracy: 0.7254 - val_loss: 0.7250 - val_accuracy: 0.7990 - 17s/epoch - 157ms/step\n",
            "Epoch 2/4\n",
            "108/108 - 10s - loss: 0.4394 - accuracy: 0.8716 - val_loss: 0.3703 - val_accuracy: 0.9169 - 10s/epoch - 90ms/step\n",
            "Epoch 3/4\n",
            "108/108 - 13s - loss: 0.1793 - accuracy: 0.9590 - val_loss: 0.2694 - val_accuracy: 0.9432 - 13s/epoch - 119ms/step\n",
            "Epoch 4/4\n",
            "108/108 - 7s - loss: 0.0906 - accuracy: 0.9807 - val_loss: 0.2532 - val_accuracy: 0.9447 - 7s/epoch - 62ms/step\n",
            "lr: 0.04994888828509062 n_neurons: 25 n_timesteps: 18 n_epochs: 3\n"
          ]
        },
        {
          "output_type": "stream",
          "name": "stderr",
          "text": [
            "WARNING:absl:`lr` is deprecated in Keras optimizer, please use `learning_rate` or use the legacy optimizer, e.g.,tf.keras.optimizers.legacy.Adam.\n"
          ]
        },
        {
          "output_type": "stream",
          "name": "stdout",
          "text": [
            "Epoch 1/3\n",
            "108/108 - 14s - loss: 1.2371 - accuracy: 0.7067 - val_loss: 0.8393 - val_accuracy: 0.7552 - 14s/epoch - 133ms/step\n",
            "Epoch 2/3\n",
            "108/108 - 3s - loss: 0.5523 - accuracy: 0.8497 - val_loss: 0.4375 - val_accuracy: 0.8969 - 3s/epoch - 31ms/step\n",
            "Epoch 3/3\n",
            "108/108 - 3s - loss: 0.2237 - accuracy: 0.9569 - val_loss: 0.3045 - val_accuracy: 0.9381 - 3s/epoch - 29ms/step\n",
            "lr: 0.055349801076200106 n_neurons: 55 n_timesteps: 58 n_epochs: 4\n"
          ]
        },
        {
          "output_type": "stream",
          "name": "stderr",
          "text": [
            "WARNING:absl:`lr` is deprecated in Keras optimizer, please use `learning_rate` or use the legacy optimizer, e.g.,tf.keras.optimizers.legacy.Adam.\n"
          ]
        },
        {
          "output_type": "stream",
          "name": "stdout",
          "text": [
            "Epoch 1/4\n",
            "108/108 - 15s - loss: 1.1524 - accuracy: 0.7169 - val_loss: 0.8000 - val_accuracy: 0.7634 - 15s/epoch - 137ms/step\n",
            "Epoch 2/4\n",
            "108/108 - 4s - loss: 0.4837 - accuracy: 0.8638 - val_loss: 0.3664 - val_accuracy: 0.9206 - 4s/epoch - 38ms/step\n",
            "Epoch 3/4\n",
            "108/108 - 5s - loss: 0.1832 - accuracy: 0.9619 - val_loss: 0.2642 - val_accuracy: 0.9525 - 5s/epoch - 45ms/step\n",
            "Epoch 4/4\n",
            "108/108 - 7s - loss: 0.0946 - accuracy: 0.9829 - val_loss: 0.2432 - val_accuracy: 0.9503 - 7s/epoch - 64ms/step\n",
            "lr: 0.044016068494101314 n_neurons: 64 n_timesteps: 33 n_epochs: 1\n"
          ]
        },
        {
          "output_type": "stream",
          "name": "stderr",
          "text": [
            "WARNING:absl:`lr` is deprecated in Keras optimizer, please use `learning_rate` or use the legacy optimizer, e.g.,tf.keras.optimizers.legacy.Adam.\n"
          ]
        },
        {
          "output_type": "stream",
          "name": "stdout",
          "text": [
            "108/108 - 14s - loss: 1.1144 - accuracy: 0.7218 - val_loss: 0.7622 - val_accuracy: 0.7812 - 14s/epoch - 130ms/step\n",
            "lr: 0.026404215166720358 n_neurons: 83 n_timesteps: 103 n_epochs: 4\n"
          ]
        },
        {
          "output_type": "stream",
          "name": "stderr",
          "text": [
            "WARNING:absl:`lr` is deprecated in Keras optimizer, please use `learning_rate` or use the legacy optimizer, e.g.,tf.keras.optimizers.legacy.Adam.\n"
          ]
        },
        {
          "output_type": "stream",
          "name": "stdout",
          "text": [
            "Epoch 1/4\n",
            "108/108 - 20s - loss: 1.1116 - accuracy: 0.7272 - val_loss: 0.7320 - val_accuracy: 0.8171 - 20s/epoch - 184ms/step\n",
            "Epoch 2/4\n",
            "108/108 - 6s - loss: 0.4051 - accuracy: 0.8933 - val_loss: 0.3261 - val_accuracy: 0.9258 - 6s/epoch - 58ms/step\n",
            "Epoch 3/4\n",
            "108/108 - 12s - loss: 0.1522 - accuracy: 0.9682 - val_loss: 0.2774 - val_accuracy: 0.9421 - 12s/epoch - 113ms/step\n",
            "Epoch 4/4\n",
            "108/108 - 12s - loss: 0.0820 - accuracy: 0.9847 - val_loss: 0.2559 - val_accuracy: 0.9473 - 12s/epoch - 114ms/step\n",
            "lr: 0.09542030906523918 n_neurons: 9 n_timesteps: 79 n_epochs: 1\n"
          ]
        },
        {
          "output_type": "stream",
          "name": "stderr",
          "text": [
            "WARNING:absl:`lr` is deprecated in Keras optimizer, please use `learning_rate` or use the legacy optimizer, e.g.,tf.keras.optimizers.legacy.Adam.\n"
          ]
        },
        {
          "output_type": "stream",
          "name": "stdout",
          "text": [
            "108/108 - 9s - loss: 1.3631 - accuracy: 0.6971 - val_loss: 0.9532 - val_accuracy: 0.7341 - 9s/epoch - 87ms/step\n",
            "lr: 0.048513891640120765 n_neurons: 94 n_timesteps: 43 n_epochs: 5\n"
          ]
        },
        {
          "output_type": "stream",
          "name": "stderr",
          "text": [
            "WARNING:absl:`lr` is deprecated in Keras optimizer, please use `learning_rate` or use the legacy optimizer, e.g.,tf.keras.optimizers.legacy.Adam.\n"
          ]
        },
        {
          "output_type": "stream",
          "name": "stdout",
          "text": [
            "Epoch 1/5\n",
            "108/108 - 17s - loss: 1.0976 - accuracy: 0.7272 - val_loss: 0.7350 - val_accuracy: 0.8090 - 17s/epoch - 154ms/step\n",
            "Epoch 2/5\n",
            "108/108 - 15s - loss: 0.3828 - accuracy: 0.9043 - val_loss: 0.3153 - val_accuracy: 0.9392 - 15s/epoch - 136ms/step\n",
            "Epoch 3/5\n",
            "108/108 - 8s - loss: 0.1540 - accuracy: 0.9670 - val_loss: 0.2995 - val_accuracy: 0.9321 - 8s/epoch - 76ms/step\n",
            "Epoch 4/5\n",
            "108/108 - 11s - loss: 0.0843 - accuracy: 0.9829 - val_loss: 0.2573 - val_accuracy: 0.9503 - 11s/epoch - 99ms/step\n",
            "Epoch 5/5\n",
            "108/108 - 13s - loss: 0.0542 - accuracy: 0.9891 - val_loss: 0.2480 - val_accuracy: 0.9555 - 13s/epoch - 117ms/step\n",
            "lr: 0.09863004518837486 n_neurons: 60 n_timesteps: 64 n_epochs: 2\n"
          ]
        },
        {
          "output_type": "stream",
          "name": "stderr",
          "text": [
            "WARNING:absl:`lr` is deprecated in Keras optimizer, please use `learning_rate` or use the legacy optimizer, e.g.,tf.keras.optimizers.legacy.Adam.\n"
          ]
        },
        {
          "output_type": "stream",
          "name": "stdout",
          "text": [
            "Epoch 1/2\n",
            "108/108 - 12s - loss: 1.1392 - accuracy: 0.7179 - val_loss: 0.7647 - val_accuracy: 0.7975 - 12s/epoch - 108ms/step\n",
            "Epoch 2/2\n",
            "108/108 - 7s - loss: 0.4186 - accuracy: 0.8926 - val_loss: 0.3271 - val_accuracy: 0.9336 - 7s/epoch - 66ms/step\n",
            "lr: 0.019980612688022606 n_neurons: 75 n_timesteps: 105 n_epochs: 2\n"
          ]
        },
        {
          "output_type": "stream",
          "name": "stderr",
          "text": [
            "WARNING:absl:`lr` is deprecated in Keras optimizer, please use `learning_rate` or use the legacy optimizer, e.g.,tf.keras.optimizers.legacy.Adam.\n"
          ]
        },
        {
          "output_type": "stream",
          "name": "stdout",
          "text": [
            "Epoch 1/2\n",
            "108/108 - 13s - loss: 1.1251 - accuracy: 0.7157 - val_loss: 0.7794 - val_accuracy: 0.7812 - 13s/epoch - 117ms/step\n",
            "Epoch 2/2\n",
            "108/108 - 12s - loss: 0.4593 - accuracy: 0.8741 - val_loss: 0.3482 - val_accuracy: 0.9247 - 12s/epoch - 114ms/step\n",
            "lr: 0.06066286000779275 n_neurons: 32 n_timesteps: 85 n_epochs: 1\n"
          ]
        },
        {
          "output_type": "stream",
          "name": "stderr",
          "text": [
            "WARNING:absl:`lr` is deprecated in Keras optimizer, please use `learning_rate` or use the legacy optimizer, e.g.,tf.keras.optimizers.legacy.Adam.\n"
          ]
        },
        {
          "output_type": "stream",
          "name": "stdout",
          "text": [
            "108/108 - 11s - loss: 1.2143 - accuracy: 0.7115 - val_loss: 0.8385 - val_accuracy: 0.7619 - 11s/epoch - 102ms/step\n",
            "lr: 0.06403319652523515 n_neurons: 42 n_timesteps: 14 n_epochs: 2\n"
          ]
        },
        {
          "output_type": "stream",
          "name": "stderr",
          "text": [
            "WARNING:absl:`lr` is deprecated in Keras optimizer, please use `learning_rate` or use the legacy optimizer, e.g.,tf.keras.optimizers.legacy.Adam.\n"
          ]
        },
        {
          "output_type": "stream",
          "name": "stdout",
          "text": [
            "Epoch 1/2\n",
            "108/108 - 15s - loss: 1.1682 - accuracy: 0.7128 - val_loss: 0.8171 - val_accuracy: 0.7630 - 15s/epoch - 141ms/step\n",
            "Epoch 2/2\n",
            "108/108 - 5s - loss: 0.4909 - accuracy: 0.8654 - val_loss: 0.3905 - val_accuracy: 0.9024 - 5s/epoch - 43ms/step\n",
            "lr: 0.058134301077488584 n_neurons: 110 n_timesteps: 59 n_epochs: 5\n"
          ]
        },
        {
          "output_type": "stream",
          "name": "stderr",
          "text": [
            "WARNING:absl:`lr` is deprecated in Keras optimizer, please use `learning_rate` or use the legacy optimizer, e.g.,tf.keras.optimizers.legacy.Adam.\n"
          ]
        },
        {
          "output_type": "stream",
          "name": "stdout",
          "text": [
            "Epoch 1/5\n",
            "108/108 - 21s - loss: 1.0642 - accuracy: 0.7324 - val_loss: 0.6642 - val_accuracy: 0.8238 - 21s/epoch - 196ms/step\n",
            "Epoch 2/5\n",
            "108/108 - 10s - loss: 0.3788 - accuracy: 0.9018 - val_loss: 0.3341 - val_accuracy: 0.9277 - 10s/epoch - 91ms/step\n",
            "Epoch 3/5\n",
            "108/108 - 15s - loss: 0.1544 - accuracy: 0.9679 - val_loss: 0.2709 - val_accuracy: 0.9384 - 15s/epoch - 139ms/step\n",
            "Epoch 4/5\n",
            "108/108 - 8s - loss: 0.0849 - accuracy: 0.9828 - val_loss: 0.2520 - val_accuracy: 0.9455 - 8s/epoch - 73ms/step\n",
            "Epoch 5/5\n",
            "108/108 - 15s - loss: 0.0503 - accuracy: 0.9908 - val_loss: 0.2547 - val_accuracy: 0.9540 - 15s/epoch - 139ms/step\n",
            "lr: 0.029621372101150758 n_neurons: 14 n_timesteps: 43 n_epochs: 4\n"
          ]
        },
        {
          "output_type": "stream",
          "name": "stderr",
          "text": [
            "WARNING:absl:`lr` is deprecated in Keras optimizer, please use `learning_rate` or use the legacy optimizer, e.g.,tf.keras.optimizers.legacy.Adam.\n"
          ]
        },
        {
          "output_type": "stream",
          "name": "stdout",
          "text": [
            "Epoch 1/4\n",
            "108/108 - 10s - loss: 1.3153 - accuracy: 0.7028 - val_loss: 0.8877 - val_accuracy: 0.7374 - 10s/epoch - 96ms/step\n",
            "Epoch 2/4\n",
            "108/108 - 4s - loss: 0.6698 - accuracy: 0.8093 - val_loss: 0.5885 - val_accuracy: 0.8583 - 4s/epoch - 36ms/step\n",
            "Epoch 3/4\n",
            "108/108 - 5s - loss: 0.3831 - accuracy: 0.8960 - val_loss: 0.4248 - val_accuracy: 0.8939 - 5s/epoch - 45ms/step\n",
            "Epoch 4/4\n",
            "108/108 - 5s - loss: 0.2358 - accuracy: 0.9404 - val_loss: 0.3493 - val_accuracy: 0.9221 - 5s/epoch - 46ms/step\n",
            "lr: 0.01806219916791333 n_neurons: 78 n_timesteps: 113 n_epochs: 5\n"
          ]
        },
        {
          "output_type": "stream",
          "name": "stderr",
          "text": [
            "WARNING:absl:`lr` is deprecated in Keras optimizer, please use `learning_rate` or use the legacy optimizer, e.g.,tf.keras.optimizers.legacy.Adam.\n"
          ]
        },
        {
          "output_type": "stream",
          "name": "stdout",
          "text": [
            "Epoch 1/5\n",
            "108/108 - 14s - loss: 1.1208 - accuracy: 0.7195 - val_loss: 0.7567 - val_accuracy: 0.7786 - 14s/epoch - 126ms/step\n",
            "Epoch 2/5\n",
            "108/108 - 14s - loss: 0.4290 - accuracy: 0.8881 - val_loss: 0.3460 - val_accuracy: 0.9254 - 14s/epoch - 126ms/step\n",
            "Epoch 3/5\n",
            "108/108 - 7s - loss: 0.1641 - accuracy: 0.9650 - val_loss: 0.2751 - val_accuracy: 0.9477 - 7s/epoch - 68ms/step\n",
            "Epoch 4/5\n",
            "108/108 - 8s - loss: 0.0876 - accuracy: 0.9829 - val_loss: 0.2655 - val_accuracy: 0.9436 - 8s/epoch - 72ms/step\n",
            "Epoch 5/5\n",
            "108/108 - 14s - loss: 0.0541 - accuracy: 0.9898 - val_loss: 0.2480 - val_accuracy: 0.9599 - 14s/epoch - 127ms/step\n",
            "lr: 0.0998037152929798 n_neurons: 101 n_timesteps: 63 n_epochs: 4\n"
          ]
        },
        {
          "output_type": "stream",
          "name": "stderr",
          "text": [
            "WARNING:absl:`lr` is deprecated in Keras optimizer, please use `learning_rate` or use the legacy optimizer, e.g.,tf.keras.optimizers.legacy.Adam.\n"
          ]
        },
        {
          "output_type": "stream",
          "name": "stdout",
          "text": [
            "Epoch 1/4\n",
            "108/108 - 24s - loss: 1.1003 - accuracy: 0.7225 - val_loss: 0.7497 - val_accuracy: 0.7889 - 24s/epoch - 220ms/step\n",
            "Epoch 2/4\n",
            "108/108 - 8s - loss: 0.4055 - accuracy: 0.8871 - val_loss: 0.3144 - val_accuracy: 0.9381 - 8s/epoch - 70ms/step\n",
            "Epoch 3/4\n",
            "108/108 - 14s - loss: 0.1534 - accuracy: 0.9646 - val_loss: 0.2452 - val_accuracy: 0.9514 - 14s/epoch - 133ms/step\n",
            "Epoch 4/4\n",
            "108/108 - 10s - loss: 0.0819 - accuracy: 0.9856 - val_loss: 0.2532 - val_accuracy: 0.9470 - 10s/epoch - 92ms/step\n",
            "lr: 0.09669138446360118 n_neurons: 5 n_timesteps: 14 n_epochs: 1\n"
          ]
        },
        {
          "output_type": "stream",
          "name": "stderr",
          "text": [
            "WARNING:absl:`lr` is deprecated in Keras optimizer, please use `learning_rate` or use the legacy optimizer, e.g.,tf.keras.optimizers.legacy.Adam.\n"
          ]
        },
        {
          "output_type": "stream",
          "name": "stdout",
          "text": [
            "108/108 - 12s - loss: 1.4849 - accuracy: 0.6979 - val_loss: 1.1407 - val_accuracy: 0.7322 - 12s/epoch - 112ms/step\n",
            "lr: 0.04003471225900401 n_neurons: 29 n_timesteps: 34 n_epochs: 5\n"
          ]
        },
        {
          "output_type": "stream",
          "name": "stderr",
          "text": [
            "WARNING:absl:`lr` is deprecated in Keras optimizer, please use `learning_rate` or use the legacy optimizer, e.g.,tf.keras.optimizers.legacy.Adam.\n"
          ]
        },
        {
          "output_type": "stream",
          "name": "stdout",
          "text": [
            "Epoch 1/5\n",
            "108/108 - 13s - loss: 1.2224 - accuracy: 0.7154 - val_loss: 0.8307 - val_accuracy: 0.7719 - 13s/epoch - 117ms/step\n",
            "Epoch 2/5\n",
            "108/108 - 6s - loss: 0.5205 - accuracy: 0.8596 - val_loss: 0.3803 - val_accuracy: 0.9062 - 6s/epoch - 56ms/step\n",
            "Epoch 3/5\n",
            "108/108 - 5s - loss: 0.2082 - accuracy: 0.9547 - val_loss: 0.3113 - val_accuracy: 0.9321 - 5s/epoch - 43ms/step\n",
            "Epoch 4/5\n",
            "108/108 - 3s - loss: 0.1172 - accuracy: 0.9795 - val_loss: 0.2535 - val_accuracy: 0.9481 - 3s/epoch - 31ms/step\n",
            "Epoch 5/5\n",
            "108/108 - 3s - loss: 0.0793 - accuracy: 0.9855 - val_loss: 0.2852 - val_accuracy: 0.9314 - 3s/epoch - 30ms/step\n",
            "lr: 0.060657719537704595 n_neurons: 93 n_timesteps: 39 n_epochs: 3\n"
          ]
        },
        {
          "output_type": "stream",
          "name": "stderr",
          "text": [
            "WARNING:absl:`lr` is deprecated in Keras optimizer, please use `learning_rate` or use the legacy optimizer, e.g.,tf.keras.optimizers.legacy.Adam.\n"
          ]
        },
        {
          "output_type": "stream",
          "name": "stdout",
          "text": [
            "Epoch 1/3\n",
            "108/108 - 21s - loss: 1.0864 - accuracy: 0.7273 - val_loss: 0.7395 - val_accuracy: 0.8023 - 21s/epoch - 192ms/step\n",
            "Epoch 2/3\n",
            "108/108 - 7s - loss: 0.3935 - accuracy: 0.9020 - val_loss: 0.3082 - val_accuracy: 0.9351 - 7s/epoch - 68ms/step\n",
            "Epoch 3/3\n",
            "108/108 - 15s - loss: 0.1467 - accuracy: 0.9688 - val_loss: 0.2584 - val_accuracy: 0.9481 - 15s/epoch - 136ms/step\n",
            "lr: 0.014028434520376422 n_neurons: 4 n_timesteps: 37 n_epochs: 5\n"
          ]
        },
        {
          "output_type": "stream",
          "name": "stderr",
          "text": [
            "WARNING:absl:`lr` is deprecated in Keras optimizer, please use `learning_rate` or use the legacy optimizer, e.g.,tf.keras.optimizers.legacy.Adam.\n"
          ]
        },
        {
          "output_type": "stream",
          "name": "stdout",
          "text": [
            "Epoch 1/5\n",
            "108/108 - 10s - loss: 1.4913 - accuracy: 0.7022 - val_loss: 1.1278 - val_accuracy: 0.7251 - 10s/epoch - 90ms/step\n",
            "Epoch 2/5\n",
            "108/108 - 3s - loss: 0.9958 - accuracy: 0.7195 - val_loss: 0.9404 - val_accuracy: 0.7285 - 3s/epoch - 32ms/step\n",
            "Epoch 3/5\n",
            "108/108 - 4s - loss: 0.8260 - accuracy: 0.7499 - val_loss: 0.7945 - val_accuracy: 0.7652 - 4s/epoch - 41ms/step\n",
            "Epoch 4/5\n",
            "108/108 - 4s - loss: 0.6355 - accuracy: 0.7946 - val_loss: 0.6374 - val_accuracy: 0.7927 - 4s/epoch - 41ms/step\n",
            "Epoch 5/5\n",
            "108/108 - 4s - loss: 0.5117 - accuracy: 0.8138 - val_loss: 0.5517 - val_accuracy: 0.8231 - 4s/epoch - 41ms/step\n",
            "lr: 0.06112449693857561 n_neurons: 41 n_timesteps: 41 n_epochs: 1\n"
          ]
        },
        {
          "output_type": "stream",
          "name": "stderr",
          "text": [
            "WARNING:absl:`lr` is deprecated in Keras optimizer, please use `learning_rate` or use the legacy optimizer, e.g.,tf.keras.optimizers.legacy.Adam.\n"
          ]
        },
        {
          "output_type": "stream",
          "name": "stdout",
          "text": [
            "108/108 - 12s - loss: 1.1827 - accuracy: 0.7131 - val_loss: 0.8266 - val_accuracy: 0.7548 - 12s/epoch - 108ms/step\n",
            "lr: 0.02206278229569443 n_neurons: 20 n_timesteps: 45 n_epochs: 5\n"
          ]
        },
        {
          "output_type": "stream",
          "name": "stderr",
          "text": [
            "WARNING:absl:`lr` is deprecated in Keras optimizer, please use `learning_rate` or use the legacy optimizer, e.g.,tf.keras.optimizers.legacy.Adam.\n"
          ]
        },
        {
          "output_type": "stream",
          "name": "stdout",
          "text": [
            "Epoch 1/5\n",
            "108/108 - 13s - loss: 1.2351 - accuracy: 0.7081 - val_loss: 0.8960 - val_accuracy: 0.7352 - 13s/epoch - 119ms/step\n",
            "Epoch 2/5\n",
            "108/108 - 5s - loss: 0.6950 - accuracy: 0.7973 - val_loss: 0.5665 - val_accuracy: 0.8698 - 5s/epoch - 49ms/step\n",
            "Epoch 3/5\n",
            "108/108 - 4s - loss: 0.3092 - accuracy: 0.9285 - val_loss: 0.3168 - val_accuracy: 0.9381 - 4s/epoch - 34ms/step\n",
            "Epoch 4/5\n",
            "108/108 - 3s - loss: 0.1411 - accuracy: 0.9757 - val_loss: 0.2609 - val_accuracy: 0.9492 - 3s/epoch - 28ms/step\n",
            "Epoch 5/5\n",
            "108/108 - 3s - loss: 0.0856 - accuracy: 0.9839 - val_loss: 0.2422 - val_accuracy: 0.9477 - 3s/epoch - 29ms/step\n",
            "lr: 0.04119798480229449 n_neurons: 53 n_timesteps: 53 n_epochs: 2\n"
          ]
        },
        {
          "output_type": "stream",
          "name": "stderr",
          "text": [
            "WARNING:absl:`lr` is deprecated in Keras optimizer, please use `learning_rate` or use the legacy optimizer, e.g.,tf.keras.optimizers.legacy.Adam.\n"
          ]
        },
        {
          "output_type": "stream",
          "name": "stdout",
          "text": [
            "Epoch 1/2\n",
            "108/108 - 14s - loss: 1.1418 - accuracy: 0.7182 - val_loss: 0.8185 - val_accuracy: 0.7711 - 14s/epoch - 133ms/step\n",
            "Epoch 2/2\n",
            "108/108 - 7s - loss: 0.5136 - accuracy: 0.8597 - val_loss: 0.3971 - val_accuracy: 0.9088 - 7s/epoch - 68ms/step\n",
            "lr: 0.008731542206220267 n_neurons: 55 n_timesteps: 121 n_epochs: 5\n"
          ]
        },
        {
          "output_type": "stream",
          "name": "stderr",
          "text": [
            "WARNING:absl:`lr` is deprecated in Keras optimizer, please use `learning_rate` or use the legacy optimizer, e.g.,tf.keras.optimizers.legacy.Adam.\n"
          ]
        },
        {
          "output_type": "stream",
          "name": "stdout",
          "text": [
            "Epoch 1/5\n",
            "108/108 - 12s - loss: 1.1581 - accuracy: 0.7180 - val_loss: 0.7820 - val_accuracy: 0.7930 - 12s/epoch - 108ms/step\n",
            "Epoch 2/5\n",
            "108/108 - 7s - loss: 0.4451 - accuracy: 0.8814 - val_loss: 0.3602 - val_accuracy: 0.9210 - 7s/epoch - 65ms/step\n",
            "Epoch 3/5\n",
            "108/108 - 7s - loss: 0.1830 - accuracy: 0.9575 - val_loss: 0.2757 - val_accuracy: 0.9462 - 7s/epoch - 64ms/step\n",
            "Epoch 4/5\n",
            "108/108 - 4s - loss: 0.0953 - accuracy: 0.9828 - val_loss: 0.2854 - val_accuracy: 0.9410 - 4s/epoch - 38ms/step\n",
            "Epoch 5/5\n",
            "108/108 - 4s - loss: 0.0627 - accuracy: 0.9894 - val_loss: 0.2567 - val_accuracy: 0.9499 - 4s/epoch - 38ms/step\n",
            "final best params: [0.01831944883519997, 78, 44, 5]\n"
          ]
        }
      ]
    },
    {
      "cell_type": "code",
      "source": [
        "# Define the LSTM model with the best parameters\n",
        "best_learning_rate = 0.01831944883519997\n",
        "best_n_neurons = 78\n",
        "best_n_timesteps = 44\n",
        "best_n_epochs = 5\n",
        "\n",
        "# Define and compile the model\n",
        "model = Sequential()\n",
        "model.add(Embedding(top_words, embedding_dimension, input_length=24, mask_zero=True))\n",
        "model.add(LSTM(best_n_neurons, return_sequences=False))\n",
        "model.add(Dense(6, activation='softmax'))\n",
        "model.compile(loss='categorical_crossentropy', optimizer=Adam(lr=best_learning_rate), metrics=['accuracy'])\n",
        "\n",
        "# Convert integer labels to one-hot encoded format for the entire training set\n",
        "train_labels_one_hot = to_categorical(train_labels, num_classes=6)\n",
        "\n",
        "# Train the model on the entire training dataset\n",
        "model.fit(train_data, train_labels_one_hot, epochs=best_n_epochs, batch_size=100, verbose=2)\n",
        "\n",
        "test_labels_one_hot = to_categorical(test_labels, num_classes=6)\n",
        "\n",
        "# Evaluate the model on the test dataset\n",
        "test_loss, test_accuracy = model.evaluate(test_data, test_labels_one_hot, verbose=2)\n",
        "\n",
        "print(\"Test Accuracy:\", test_accuracy)\n"
      ],
      "metadata": {
        "colab": {
          "base_uri": "https://localhost:8080/"
        },
        "id": "bfDM-C6FCING",
        "outputId": "82702ccc-b027-4868-8d0a-c604f0cf96a8"
      },
      "execution_count": null,
      "outputs": [
        {
          "output_type": "stream",
          "name": "stderr",
          "text": [
            "WARNING:absl:`lr` is deprecated in Keras optimizer, please use `learning_rate` or use the legacy optimizer, e.g.,tf.keras.optimizers.legacy.Adam.\n"
          ]
        },
        {
          "output_type": "stream",
          "name": "stdout",
          "text": [
            "Epoch 1/5\n",
            "135/135 - 22s - loss: 1.0407 - accuracy: 0.7386 - 22s/epoch - 161ms/step\n",
            "Epoch 2/5\n",
            "135/135 - 15s - loss: 0.3188 - accuracy: 0.9223 - 15s/epoch - 114ms/step\n",
            "Epoch 3/5\n",
            "135/135 - 7s - loss: 0.1302 - accuracy: 0.9734 - 7s/epoch - 52ms/step\n",
            "Epoch 4/5\n",
            "135/135 - 11s - loss: 0.0715 - accuracy: 0.9842 - 11s/epoch - 83ms/step\n",
            "Epoch 5/5\n",
            "135/135 - 12s - loss: 0.0455 - accuracy: 0.9912 - 12s/epoch - 90ms/step\n",
            "106/106 - 2s - loss: 0.1931 - accuracy: 0.9644 - 2s/epoch - 20ms/step\n",
            "Test Accuracy: 0.9644022583961487\n"
          ]
        }
      ]
    },
    {
      "cell_type": "markdown",
      "source": [
        "CNN Hyperparameter"
      ],
      "metadata": {
        "id": "Z5b2pVqkDp6-"
      }
    },
    {
      "cell_type": "code",
      "source": [
        "import numpy as np\n",
        "from sklearn.model_selection import train_test_split\n",
        "from sklearn.metrics import classification_report\n",
        "from keras.models import Sequential\n",
        "from keras.layers import Embedding, Conv1D, GlobalMaxPooling1D, Dense\n",
        "from keras.optimizers import Adam\n",
        "from keras.callbacks import EarlyStopping\n",
        "\n",
        "# Define the function to generate random hyperparameters\n",
        "def get_hyper_param(n_iteration):\n",
        "    hyper_param = []  # learning_rate, num_filters, filter_size, dense_units\n",
        "    for i in range(n_iteration):\n",
        "        current_params = []\n",
        "        current_params.append(np.random.uniform(0.001, 0.01))  # Learning rate\n",
        "        current_params.append(np.random.randint(64, 128))  # Number of filters\n",
        "        current_params.append(np.random.randint(3, 7))  # Filter size\n",
        "        current_params.append(np.random.randint(32, 64))  # Number of units in the dense layer\n",
        "        hyper_param.append(current_params)\n",
        "    return hyper_param\n",
        "\n",
        "# Generate random hyperparameters\n",
        "hyper_parameter = get_hyper_param(40)\n",
        "\n",
        "# Split the dataset (assuming train_data, test_data, train_labels, test_labels are defined)\n",
        "# Define your own function get_data to get training data and labels\n",
        "#train_data, test_data, train_labels, test_labels = train_test_split(padded_sequences, labels, test_size=0.2, random_state=42)\n",
        "\n",
        "# Define function to create and compile CNN model with specific hyperparameters\n",
        "def create_cnn_model(learning_rate, num_filters, filter_size, dense_units):\n",
        "    model = Sequential()\n",
        "    model.add(Embedding(input_dim=vocab_size, output_dim=embedding_dim, weights=[embedding_matrix], input_length=max_sequence_length, trainable=True))\n",
        "    model.add(Conv1D(num_filters, filter_size, activation='relu'))\n",
        "    model.add(GlobalMaxPooling1D())\n",
        "    model.add(Dense(dense_units, activation='relu'))\n",
        "    model.add(Dense(num_classes, activation='softmax'))  # Use softmax for multi-class classification\n",
        "    model.compile(optimizer=Adam(lr=learning_rate), loss='categorical_crossentropy', metrics=['accuracy'])\n",
        "    return model\n",
        "\n",
        "# Define function to fit CNN model with random hyperparameters\n",
        "def fit_cnn_random(batch_size):\n",
        "    min_val_loss = 999\n",
        "    best_params = None\n",
        "    for learning_rate, num_filters, filter_size, dense_units in hyper_parameter:\n",
        "        print('lr:', learning_rate, 'num_filters:', num_filters, 'filter_size:', filter_size, 'dense_units:', dense_units)\n",
        "        model = create_cnn_model(learning_rate, num_filters, filter_size, dense_units)\n",
        "        # Convert labels to one-hot encoding\n",
        "        train_labels_encoded = to_categorical(train_labels, num_classes=num_classes)\n",
        "        # Fit model\n",
        "        cnn_model = model.fit(train_data, train_labels_encoded, epochs=5, batch_size=batch_size, validation_split=0.2, verbose=2)\n",
        "        current_val_loss = cnn_model.history['val_loss'][-1]\n",
        "        if current_val_loss < min_val_loss:\n",
        "            min_val_loss = current_val_loss\n",
        "            best_params = [learning_rate, num_filters, filter_size, dense_units]\n",
        "            print('best_params:', best_params)\n",
        "    print('final best params:', best_params)\n",
        "    return best_params\n",
        "\n",
        "# Define a function to run the random search\n",
        "def run_cnn_random():\n",
        "    n_batch = 100\n",
        "    history = fit_cnn_random(n_batch)\n",
        "\n",
        "# Run the random search\n",
        "run_cnn_random()"
      ],
      "metadata": {
        "colab": {
          "base_uri": "https://localhost:8080/"
        },
        "id": "ijUjhqDrCXM0",
        "outputId": "172447ad-4248-4a93-9565-57887a18db48"
      },
      "execution_count": null,
      "outputs": [
        {
          "output_type": "stream",
          "name": "stdout",
          "text": [
            "lr: 0.00558635205937136 num_filters: 93 filter_size: 6 dense_units: 46\n"
          ]
        },
        {
          "output_type": "stream",
          "name": "stderr",
          "text": [
            "WARNING:absl:`lr` is deprecated in Keras optimizer, please use `learning_rate` or use the legacy optimizer, e.g.,tf.keras.optimizers.legacy.Adam.\n"
          ]
        },
        {
          "output_type": "stream",
          "name": "stdout",
          "text": [
            "Epoch 1/5\n",
            "108/108 - 4s - loss: 0.7211 - accuracy: 0.7851 - val_loss: 0.4621 - val_accuracy: 0.8769 - 4s/epoch - 41ms/step\n",
            "Epoch 2/5\n",
            "108/108 - 3s - loss: 0.3558 - accuracy: 0.8911 - val_loss: 0.3347 - val_accuracy: 0.9062 - 3s/epoch - 26ms/step\n",
            "Epoch 3/5\n",
            "108/108 - 3s - loss: 0.2211 - accuracy: 0.9386 - val_loss: 0.2856 - val_accuracy: 0.9188 - 3s/epoch - 32ms/step\n",
            "Epoch 4/5\n",
            "108/108 - 4s - loss: 0.1316 - accuracy: 0.9664 - val_loss: 0.2346 - val_accuracy: 0.9410 - 4s/epoch - 33ms/step\n",
            "Epoch 5/5\n",
            "108/108 - 4s - loss: 0.0735 - accuracy: 0.9843 - val_loss: 0.2189 - val_accuracy: 0.9425 - 4s/epoch - 35ms/step\n"
          ]
        },
        {
          "output_type": "stream",
          "name": "stderr",
          "text": [
            "WARNING:absl:`lr` is deprecated in Keras optimizer, please use `learning_rate` or use the legacy optimizer, e.g.,tf.keras.optimizers.legacy.Adam.\n"
          ]
        },
        {
          "output_type": "stream",
          "name": "stdout",
          "text": [
            "best_params: [0.00558635205937136, 93, 6, 46]\n",
            "lr: 0.0051629168478147065 num_filters: 66 filter_size: 3 dense_units: 58\n",
            "Epoch 1/5\n",
            "108/108 - 3s - loss: 0.7100 - accuracy: 0.8004 - val_loss: 0.4532 - val_accuracy: 0.8731 - 3s/epoch - 25ms/step\n",
            "Epoch 2/5\n",
            "108/108 - 2s - loss: 0.3747 - accuracy: 0.8860 - val_loss: 0.3288 - val_accuracy: 0.9106 - 2s/epoch - 16ms/step\n",
            "Epoch 3/5\n",
            "108/108 - 2s - loss: 0.2480 - accuracy: 0.9281 - val_loss: 0.2625 - val_accuracy: 0.9325 - 2s/epoch - 15ms/step\n",
            "Epoch 4/5\n",
            "108/108 - 2s - loss: 0.1650 - accuracy: 0.9586 - val_loss: 0.2205 - val_accuracy: 0.9496 - 2s/epoch - 15ms/step\n",
            "Epoch 5/5\n",
            "108/108 - 2s - loss: 0.1077 - accuracy: 0.9747 - val_loss: 0.2012 - val_accuracy: 0.9551 - 2s/epoch - 15ms/step\n"
          ]
        },
        {
          "output_type": "stream",
          "name": "stderr",
          "text": [
            "WARNING:absl:`lr` is deprecated in Keras optimizer, please use `learning_rate` or use the legacy optimizer, e.g.,tf.keras.optimizers.legacy.Adam.\n"
          ]
        },
        {
          "output_type": "stream",
          "name": "stdout",
          "text": [
            "best_params: [0.0051629168478147065, 66, 3, 58]\n",
            "lr: 0.001256309634630325 num_filters: 85 filter_size: 4 dense_units: 34\n",
            "Epoch 1/5\n",
            "108/108 - 5s - loss: 0.7143 - accuracy: 0.7929 - val_loss: 0.4631 - val_accuracy: 0.8717 - 5s/epoch - 48ms/step\n",
            "Epoch 2/5\n",
            "108/108 - 3s - loss: 0.3596 - accuracy: 0.8917 - val_loss: 0.3401 - val_accuracy: 0.9050 - 3s/epoch - 30ms/step\n",
            "Epoch 3/5\n",
            "108/108 - 3s - loss: 0.2328 - accuracy: 0.9363 - val_loss: 0.2688 - val_accuracy: 0.9299 - 3s/epoch - 28ms/step\n",
            "Epoch 4/5\n",
            "108/108 - 3s - loss: 0.1495 - accuracy: 0.9613 - val_loss: 0.2343 - val_accuracy: 0.9418 - 3s/epoch - 28ms/step\n",
            "Epoch 5/5\n",
            "108/108 - 3s - loss: 0.0926 - accuracy: 0.9782 - val_loss: 0.2107 - val_accuracy: 0.9507 - 3s/epoch - 25ms/step\n"
          ]
        },
        {
          "output_type": "stream",
          "name": "stderr",
          "text": [
            "WARNING:absl:`lr` is deprecated in Keras optimizer, please use `learning_rate` or use the legacy optimizer, e.g.,tf.keras.optimizers.legacy.Adam.\n"
          ]
        },
        {
          "output_type": "stream",
          "name": "stdout",
          "text": [
            "lr: 0.005472162212563584 num_filters: 109 filter_size: 5 dense_units: 47\n",
            "Epoch 1/5\n",
            "108/108 - 3s - loss: 0.7581 - accuracy: 0.7713 - val_loss: 0.4825 - val_accuracy: 0.8635 - 3s/epoch - 29ms/step\n",
            "Epoch 2/5\n",
            "108/108 - 3s - loss: 0.3809 - accuracy: 0.8866 - val_loss: 0.3383 - val_accuracy: 0.9047 - 3s/epoch - 23ms/step\n",
            "Epoch 3/5\n",
            "108/108 - 4s - loss: 0.2368 - accuracy: 0.9372 - val_loss: 0.2698 - val_accuracy: 0.9240 - 4s/epoch - 32ms/step\n",
            "Epoch 4/5\n",
            "108/108 - 4s - loss: 0.1484 - accuracy: 0.9640 - val_loss: 0.2256 - val_accuracy: 0.9410 - 4s/epoch - 34ms/step\n",
            "Epoch 5/5\n",
            "108/108 - 4s - loss: 0.0902 - accuracy: 0.9789 - val_loss: 0.2075 - val_accuracy: 0.9492 - 4s/epoch - 34ms/step\n"
          ]
        },
        {
          "output_type": "stream",
          "name": "stderr",
          "text": [
            "WARNING:absl:`lr` is deprecated in Keras optimizer, please use `learning_rate` or use the legacy optimizer, e.g.,tf.keras.optimizers.legacy.Adam.\n"
          ]
        },
        {
          "output_type": "stream",
          "name": "stdout",
          "text": [
            "lr: 0.006935708171469271 num_filters: 114 filter_size: 3 dense_units: 52\n",
            "Epoch 1/5\n",
            "108/108 - 5s - loss: 0.6256 - accuracy: 0.8143 - val_loss: 0.4232 - val_accuracy: 0.8895 - 5s/epoch - 47ms/step\n",
            "Epoch 2/5\n",
            "108/108 - 2s - loss: 0.3370 - accuracy: 0.9031 - val_loss: 0.2924 - val_accuracy: 0.9221 - 2s/epoch - 22ms/step\n",
            "Epoch 3/5\n",
            "108/108 - 2s - loss: 0.2099 - accuracy: 0.9442 - val_loss: 0.2284 - val_accuracy: 0.9407 - 2s/epoch - 17ms/step\n",
            "Epoch 4/5\n",
            "108/108 - 2s - loss: 0.1317 - accuracy: 0.9675 - val_loss: 0.2010 - val_accuracy: 0.9514 - 2s/epoch - 18ms/step\n",
            "Epoch 5/5\n",
            "108/108 - 2s - loss: 0.0815 - accuracy: 0.9798 - val_loss: 0.1797 - val_accuracy: 0.9544 - 2s/epoch - 18ms/step\n"
          ]
        },
        {
          "output_type": "stream",
          "name": "stderr",
          "text": [
            "WARNING:absl:`lr` is deprecated in Keras optimizer, please use `learning_rate` or use the legacy optimizer, e.g.,tf.keras.optimizers.legacy.Adam.\n"
          ]
        },
        {
          "output_type": "stream",
          "name": "stdout",
          "text": [
            "best_params: [0.006935708171469271, 114, 3, 52]\n",
            "lr: 0.00560317555318671 num_filters: 98 filter_size: 4 dense_units: 33\n",
            "Epoch 1/5\n",
            "108/108 - 3s - loss: 0.7269 - accuracy: 0.7855 - val_loss: 0.4680 - val_accuracy: 0.8698 - 3s/epoch - 28ms/step\n",
            "Epoch 2/5\n",
            "108/108 - 3s - loss: 0.3666 - accuracy: 0.8897 - val_loss: 0.3224 - val_accuracy: 0.9088 - 3s/epoch - 28ms/step\n",
            "Epoch 3/5\n",
            "108/108 - 3s - loss: 0.2303 - accuracy: 0.9370 - val_loss: 0.2608 - val_accuracy: 0.9277 - 3s/epoch - 30ms/step\n",
            "Epoch 4/5\n",
            "108/108 - 3s - loss: 0.1440 - accuracy: 0.9617 - val_loss: 0.2077 - val_accuracy: 0.9466 - 3s/epoch - 31ms/step\n",
            "Epoch 5/5\n",
            "108/108 - 3s - loss: 0.0863 - accuracy: 0.9791 - val_loss: 0.1889 - val_accuracy: 0.9536 - 3s/epoch - 32ms/step\n"
          ]
        },
        {
          "output_type": "stream",
          "name": "stderr",
          "text": [
            "WARNING:absl:`lr` is deprecated in Keras optimizer, please use `learning_rate` or use the legacy optimizer, e.g.,tf.keras.optimizers.legacy.Adam.\n"
          ]
        },
        {
          "output_type": "stream",
          "name": "stdout",
          "text": [
            "lr: 0.006488421170641201 num_filters: 127 filter_size: 4 dense_units: 47\n",
            "Epoch 1/5\n",
            "108/108 - 5s - loss: 0.6287 - accuracy: 0.8150 - val_loss: 0.4149 - val_accuracy: 0.8835 - 5s/epoch - 50ms/step\n",
            "Epoch 2/5\n",
            "108/108 - 2s - loss: 0.3253 - accuracy: 0.9037 - val_loss: 0.2973 - val_accuracy: 0.9199 - 2s/epoch - 20ms/step\n",
            "Epoch 3/5\n",
            "108/108 - 2s - loss: 0.2005 - accuracy: 0.9464 - val_loss: 0.2374 - val_accuracy: 0.9373 - 2s/epoch - 19ms/step\n",
            "Epoch 4/5\n",
            "108/108 - 2s - loss: 0.1208 - accuracy: 0.9699 - val_loss: 0.2146 - val_accuracy: 0.9473 - 2s/epoch - 19ms/step\n",
            "Epoch 5/5\n",
            "108/108 - 2s - loss: 0.0699 - accuracy: 0.9844 - val_loss: 0.2012 - val_accuracy: 0.9540 - 2s/epoch - 19ms/step\n"
          ]
        },
        {
          "output_type": "stream",
          "name": "stderr",
          "text": [
            "WARNING:absl:`lr` is deprecated in Keras optimizer, please use `learning_rate` or use the legacy optimizer, e.g.,tf.keras.optimizers.legacy.Adam.\n"
          ]
        },
        {
          "output_type": "stream",
          "name": "stdout",
          "text": [
            "lr: 0.009390806809297252 num_filters: 92 filter_size: 3 dense_units: 54\n",
            "Epoch 1/5\n",
            "108/108 - 7s - loss: 0.6967 - accuracy: 0.7882 - val_loss: 0.4491 - val_accuracy: 0.8735 - 7s/epoch - 66ms/step\n",
            "Epoch 2/5\n",
            "108/108 - 2s - loss: 0.3628 - accuracy: 0.8923 - val_loss: 0.3209 - val_accuracy: 0.9132 - 2s/epoch - 21ms/step\n",
            "Epoch 3/5\n",
            "108/108 - 2s - loss: 0.2347 - accuracy: 0.9361 - val_loss: 0.2487 - val_accuracy: 0.9347 - 2s/epoch - 17ms/step\n",
            "Epoch 4/5\n",
            "108/108 - 2s - loss: 0.1521 - accuracy: 0.9606 - val_loss: 0.2120 - val_accuracy: 0.9481 - 2s/epoch - 16ms/step\n",
            "Epoch 5/5\n",
            "108/108 - 2s - loss: 0.0977 - accuracy: 0.9762 - val_loss: 0.1917 - val_accuracy: 0.9507 - 2s/epoch - 17ms/step\n"
          ]
        },
        {
          "output_type": "stream",
          "name": "stderr",
          "text": [
            "WARNING:absl:`lr` is deprecated in Keras optimizer, please use `learning_rate` or use the legacy optimizer, e.g.,tf.keras.optimizers.legacy.Adam.\n"
          ]
        },
        {
          "output_type": "stream",
          "name": "stdout",
          "text": [
            "lr: 0.007973765373272663 num_filters: 84 filter_size: 4 dense_units: 63\n",
            "Epoch 1/5\n",
            "108/108 - 3s - loss: 0.7821 - accuracy: 0.7650 - val_loss: 0.4712 - val_accuracy: 0.8668 - 3s/epoch - 27ms/step\n",
            "Epoch 2/5\n",
            "108/108 - 3s - loss: 0.3700 - accuracy: 0.8938 - val_loss: 0.3268 - val_accuracy: 0.9099 - 3s/epoch - 24ms/step\n",
            "Epoch 3/5\n",
            "108/108 - 3s - loss: 0.2415 - accuracy: 0.9337 - val_loss: 0.2667 - val_accuracy: 0.9295 - 3s/epoch - 29ms/step\n",
            "Epoch 4/5\n",
            "108/108 - 3s - loss: 0.1537 - accuracy: 0.9609 - val_loss: 0.2245 - val_accuracy: 0.9421 - 3s/epoch - 28ms/step\n",
            "Epoch 5/5\n",
            "108/108 - 3s - loss: 0.0949 - accuracy: 0.9773 - val_loss: 0.2091 - val_accuracy: 0.9462 - 3s/epoch - 28ms/step\n"
          ]
        },
        {
          "output_type": "stream",
          "name": "stderr",
          "text": [
            "WARNING:absl:`lr` is deprecated in Keras optimizer, please use `learning_rate` or use the legacy optimizer, e.g.,tf.keras.optimizers.legacy.Adam.\n"
          ]
        },
        {
          "output_type": "stream",
          "name": "stdout",
          "text": [
            "lr: 0.008904640041883672 num_filters: 71 filter_size: 5 dense_units: 35\n",
            "Epoch 1/5\n",
            "108/108 - 5s - loss: 0.8900 - accuracy: 0.7323 - val_loss: 0.5263 - val_accuracy: 0.8524 - 5s/epoch - 48ms/step\n",
            "Epoch 2/5\n",
            "108/108 - 3s - loss: 0.4217 - accuracy: 0.8724 - val_loss: 0.3731 - val_accuracy: 0.8913 - 3s/epoch - 24ms/step\n",
            "Epoch 3/5\n",
            "108/108 - 2s - loss: 0.2802 - accuracy: 0.9196 - val_loss: 0.2932 - val_accuracy: 0.9203 - 2s/epoch - 17ms/step\n",
            "Epoch 4/5\n",
            "108/108 - 2s - loss: 0.1849 - accuracy: 0.9542 - val_loss: 0.2533 - val_accuracy: 0.9343 - 2s/epoch - 17ms/step\n",
            "Epoch 5/5\n",
            "108/108 - 2s - loss: 0.1230 - accuracy: 0.9700 - val_loss: 0.2231 - val_accuracy: 0.9462 - 2s/epoch - 17ms/step\n"
          ]
        },
        {
          "output_type": "stream",
          "name": "stderr",
          "text": [
            "WARNING:absl:`lr` is deprecated in Keras optimizer, please use `learning_rate` or use the legacy optimizer, e.g.,tf.keras.optimizers.legacy.Adam.\n"
          ]
        },
        {
          "output_type": "stream",
          "name": "stdout",
          "text": [
            "lr: 0.0019371838635410987 num_filters: 93 filter_size: 4 dense_units: 62\n",
            "Epoch 1/5\n",
            "108/108 - 5s - loss: 0.7559 - accuracy: 0.7714 - val_loss: 0.4841 - val_accuracy: 0.8616 - 5s/epoch - 49ms/step\n",
            "Epoch 2/5\n",
            "108/108 - 3s - loss: 0.3879 - accuracy: 0.8802 - val_loss: 0.3289 - val_accuracy: 0.9062 - 3s/epoch - 30ms/step\n",
            "Epoch 3/5\n",
            "108/108 - 3s - loss: 0.2463 - accuracy: 0.9295 - val_loss: 0.2521 - val_accuracy: 0.9321 - 3s/epoch - 26ms/step\n",
            "Epoch 4/5\n",
            "108/108 - 2s - loss: 0.1528 - accuracy: 0.9608 - val_loss: 0.2176 - val_accuracy: 0.9425 - 2s/epoch - 18ms/step\n",
            "Epoch 5/5\n",
            "108/108 - 2s - loss: 0.0951 - accuracy: 0.9764 - val_loss: 0.2001 - val_accuracy: 0.9488 - 2s/epoch - 17ms/step\n"
          ]
        },
        {
          "output_type": "stream",
          "name": "stderr",
          "text": [
            "WARNING:absl:`lr` is deprecated in Keras optimizer, please use `learning_rate` or use the legacy optimizer, e.g.,tf.keras.optimizers.legacy.Adam.\n"
          ]
        },
        {
          "output_type": "stream",
          "name": "stdout",
          "text": [
            "lr: 0.0028220778643599518 num_filters: 104 filter_size: 5 dense_units: 61\n",
            "Epoch 1/5\n",
            "108/108 - 3s - loss: 0.7747 - accuracy: 0.7715 - val_loss: 0.4667 - val_accuracy: 0.8598 - 3s/epoch - 30ms/step\n",
            "Epoch 2/5\n",
            "108/108 - 2s - loss: 0.3642 - accuracy: 0.8919 - val_loss: 0.3243 - val_accuracy: 0.9132 - 2s/epoch - 21ms/step\n",
            "Epoch 3/5\n",
            "108/108 - 4s - loss: 0.2257 - accuracy: 0.9378 - val_loss: 0.2526 - val_accuracy: 0.9358 - 4s/epoch - 33ms/step\n",
            "Epoch 4/5\n",
            "108/108 - 4s - loss: 0.1400 - accuracy: 0.9656 - val_loss: 0.2192 - val_accuracy: 0.9477 - 4s/epoch - 33ms/step\n",
            "Epoch 5/5\n",
            "108/108 - 4s - loss: 0.0831 - accuracy: 0.9802 - val_loss: 0.2010 - val_accuracy: 0.9503 - 4s/epoch - 34ms/step\n"
          ]
        },
        {
          "output_type": "stream",
          "name": "stderr",
          "text": [
            "WARNING:absl:`lr` is deprecated in Keras optimizer, please use `learning_rate` or use the legacy optimizer, e.g.,tf.keras.optimizers.legacy.Adam.\n"
          ]
        },
        {
          "output_type": "stream",
          "name": "stdout",
          "text": [
            "lr: 0.009641610804602314 num_filters: 97 filter_size: 4 dense_units: 45\n",
            "Epoch 1/5\n",
            "108/108 - 3s - loss: 0.7813 - accuracy: 0.7567 - val_loss: 0.4877 - val_accuracy: 0.8568 - 3s/epoch - 29ms/step\n",
            "Epoch 2/5\n",
            "108/108 - 2s - loss: 0.3782 - accuracy: 0.8868 - val_loss: 0.3447 - val_accuracy: 0.9028 - 2s/epoch - 18ms/step\n",
            "Epoch 3/5\n",
            "108/108 - 2s - loss: 0.2398 - accuracy: 0.9330 - val_loss: 0.2706 - val_accuracy: 0.9277 - 2s/epoch - 18ms/step\n",
            "Epoch 4/5\n",
            "108/108 - 2s - loss: 0.1513 - accuracy: 0.9613 - val_loss: 0.2332 - val_accuracy: 0.9347 - 2s/epoch - 17ms/step\n",
            "Epoch 5/5\n",
            "108/108 - 2s - loss: 0.0928 - accuracy: 0.9781 - val_loss: 0.2149 - val_accuracy: 0.9418 - 2s/epoch - 20ms/step\n"
          ]
        },
        {
          "output_type": "stream",
          "name": "stderr",
          "text": [
            "WARNING:absl:`lr` is deprecated in Keras optimizer, please use `learning_rate` or use the legacy optimizer, e.g.,tf.keras.optimizers.legacy.Adam.\n"
          ]
        },
        {
          "output_type": "stream",
          "name": "stdout",
          "text": [
            "lr: 0.0071065562279736755 num_filters: 81 filter_size: 4 dense_units: 57\n",
            "Epoch 1/5\n",
            "108/108 - 5s - loss: 0.7487 - accuracy: 0.7739 - val_loss: 0.4725 - val_accuracy: 0.8628 - 5s/epoch - 45ms/step\n",
            "Epoch 2/5\n",
            "108/108 - 3s - loss: 0.3745 - accuracy: 0.8833 - val_loss: 0.3264 - val_accuracy: 0.9069 - 3s/epoch - 29ms/step\n",
            "Epoch 3/5\n",
            "108/108 - 3s - loss: 0.2372 - accuracy: 0.9338 - val_loss: 0.2619 - val_accuracy: 0.9332 - 3s/epoch - 30ms/step\n",
            "Epoch 4/5\n",
            "108/108 - 3s - loss: 0.1543 - accuracy: 0.9602 - val_loss: 0.2326 - val_accuracy: 0.9366 - 3s/epoch - 30ms/step\n",
            "Epoch 5/5\n",
            "108/108 - 3s - loss: 0.0960 - accuracy: 0.9767 - val_loss: 0.2116 - val_accuracy: 0.9455 - 3s/epoch - 27ms/step\n"
          ]
        },
        {
          "output_type": "stream",
          "name": "stderr",
          "text": [
            "WARNING:absl:`lr` is deprecated in Keras optimizer, please use `learning_rate` or use the legacy optimizer, e.g.,tf.keras.optimizers.legacy.Adam.\n"
          ]
        },
        {
          "output_type": "stream",
          "name": "stdout",
          "text": [
            "lr: 0.00964996768411452 num_filters: 68 filter_size: 4 dense_units: 43\n",
            "Epoch 1/5\n",
            "108/108 - 3s - loss: 0.7662 - accuracy: 0.7715 - val_loss: 0.5159 - val_accuracy: 0.8520 - 3s/epoch - 26ms/step\n",
            "Epoch 2/5\n",
            "108/108 - 2s - loss: 0.4067 - accuracy: 0.8785 - val_loss: 0.3684 - val_accuracy: 0.8935 - 2s/epoch - 16ms/step\n",
            "Epoch 3/5\n",
            "108/108 - 2s - loss: 0.2728 - accuracy: 0.9216 - val_loss: 0.2916 - val_accuracy: 0.9228 - 2s/epoch - 16ms/step\n",
            "Epoch 4/5\n",
            "108/108 - 2s - loss: 0.1792 - accuracy: 0.9515 - val_loss: 0.2427 - val_accuracy: 0.9384 - 2s/epoch - 16ms/step\n",
            "Epoch 5/5\n",
            "108/108 - 2s - loss: 0.1158 - accuracy: 0.9719 - val_loss: 0.2201 - val_accuracy: 0.9440 - 2s/epoch - 16ms/step\n"
          ]
        },
        {
          "output_type": "stream",
          "name": "stderr",
          "text": [
            "WARNING:absl:`lr` is deprecated in Keras optimizer, please use `learning_rate` or use the legacy optimizer, e.g.,tf.keras.optimizers.legacy.Adam.\n"
          ]
        },
        {
          "output_type": "stream",
          "name": "stdout",
          "text": [
            "lr: 0.004749674114158666 num_filters: 83 filter_size: 3 dense_units: 57\n",
            "Epoch 1/5\n",
            "108/108 - 5s - loss: 0.6786 - accuracy: 0.8011 - val_loss: 0.4491 - val_accuracy: 0.8713 - 5s/epoch - 44ms/step\n",
            "Epoch 2/5\n",
            "108/108 - 3s - loss: 0.3469 - accuracy: 0.8996 - val_loss: 0.3041 - val_accuracy: 0.9195 - 3s/epoch - 29ms/step\n",
            "Epoch 3/5\n",
            "108/108 - 3s - loss: 0.2222 - accuracy: 0.9414 - val_loss: 0.2428 - val_accuracy: 0.9399 - 3s/epoch - 29ms/step\n",
            "Epoch 4/5\n",
            "108/108 - 3s - loss: 0.1469 - accuracy: 0.9610 - val_loss: 0.2042 - val_accuracy: 0.9518 - 3s/epoch - 31ms/step\n",
            "Epoch 5/5\n",
            "108/108 - 3s - loss: 0.0931 - accuracy: 0.9766 - val_loss: 0.1829 - val_accuracy: 0.9577 - 3s/epoch - 28ms/step\n",
            "lr: 0.0038547525422791495 num_filters: 98 filter_size: 4 dense_units: 38\n"
          ]
        },
        {
          "output_type": "stream",
          "name": "stderr",
          "text": [
            "WARNING:absl:`lr` is deprecated in Keras optimizer, please use `learning_rate` or use the legacy optimizer, e.g.,tf.keras.optimizers.legacy.Adam.\n"
          ]
        },
        {
          "output_type": "stream",
          "name": "stdout",
          "text": [
            "Epoch 1/5\n",
            "108/108 - 5s - loss: 0.7118 - accuracy: 0.7871 - val_loss: 0.4625 - val_accuracy: 0.8731 - 5s/epoch - 42ms/step\n",
            "Epoch 2/5\n",
            "108/108 - 3s - loss: 0.3677 - accuracy: 0.8897 - val_loss: 0.3236 - val_accuracy: 0.9162 - 3s/epoch - 24ms/step\n",
            "Epoch 3/5\n",
            "108/108 - 3s - loss: 0.2304 - accuracy: 0.9392 - val_loss: 0.2574 - val_accuracy: 0.9355 - 3s/epoch - 31ms/step\n",
            "Epoch 4/5\n",
            "108/108 - 4s - loss: 0.1503 - accuracy: 0.9598 - val_loss: 0.2268 - val_accuracy: 0.9421 - 4s/epoch - 39ms/step\n",
            "Epoch 5/5\n",
            "108/108 - 6s - loss: 0.0926 - accuracy: 0.9757 - val_loss: 0.1947 - val_accuracy: 0.9473 - 6s/epoch - 51ms/step\n",
            "lr: 0.008506413886170006 num_filters: 112 filter_size: 4 dense_units: 57\n"
          ]
        },
        {
          "output_type": "stream",
          "name": "stderr",
          "text": [
            "WARNING:absl:`lr` is deprecated in Keras optimizer, please use `learning_rate` or use the legacy optimizer, e.g.,tf.keras.optimizers.legacy.Adam.\n"
          ]
        },
        {
          "output_type": "stream",
          "name": "stdout",
          "text": [
            "Epoch 1/5\n",
            "108/108 - 8s - loss: 0.6740 - accuracy: 0.7952 - val_loss: 0.4418 - val_accuracy: 0.8743 - 8s/epoch - 77ms/step\n",
            "Epoch 2/5\n",
            "108/108 - 3s - loss: 0.3448 - accuracy: 0.8941 - val_loss: 0.3063 - val_accuracy: 0.9147 - 3s/epoch - 27ms/step\n",
            "Epoch 3/5\n",
            "108/108 - 4s - loss: 0.2135 - accuracy: 0.9435 - val_loss: 0.2478 - val_accuracy: 0.9355 - 4s/epoch - 36ms/step\n",
            "Epoch 4/5\n",
            "108/108 - 4s - loss: 0.1303 - accuracy: 0.9677 - val_loss: 0.2217 - val_accuracy: 0.9425 - 4s/epoch - 38ms/step\n",
            "Epoch 5/5\n",
            "108/108 - 3s - loss: 0.0778 - accuracy: 0.9815 - val_loss: 0.2026 - val_accuracy: 0.9514 - 3s/epoch - 31ms/step\n"
          ]
        },
        {
          "output_type": "stream",
          "name": "stderr",
          "text": [
            "WARNING:absl:`lr` is deprecated in Keras optimizer, please use `learning_rate` or use the legacy optimizer, e.g.,tf.keras.optimizers.legacy.Adam.\n"
          ]
        },
        {
          "output_type": "stream",
          "name": "stdout",
          "text": [
            "lr: 0.007481130211933103 num_filters: 122 filter_size: 5 dense_units: 61\n",
            "Epoch 1/5\n",
            "108/108 - 6s - loss: 0.7844 - accuracy: 0.7604 - val_loss: 0.4764 - val_accuracy: 0.8550 - 6s/epoch - 54ms/step\n",
            "Epoch 2/5\n",
            "108/108 - 2s - loss: 0.3706 - accuracy: 0.8884 - val_loss: 0.3226 - val_accuracy: 0.9121 - 2s/epoch - 22ms/step\n",
            "Epoch 3/5\n",
            "108/108 - 2s - loss: 0.2223 - accuracy: 0.9381 - val_loss: 0.2499 - val_accuracy: 0.9358 - 2s/epoch - 21ms/step\n",
            "Epoch 4/5\n",
            "108/108 - 2s - loss: 0.1317 - accuracy: 0.9654 - val_loss: 0.2088 - val_accuracy: 0.9451 - 2s/epoch - 21ms/step\n",
            "Epoch 5/5\n",
            "108/108 - 2s - loss: 0.0717 - accuracy: 0.9836 - val_loss: 0.1911 - val_accuracy: 0.9525 - 2s/epoch - 21ms/step\n"
          ]
        },
        {
          "output_type": "stream",
          "name": "stderr",
          "text": [
            "WARNING:absl:`lr` is deprecated in Keras optimizer, please use `learning_rate` or use the legacy optimizer, e.g.,tf.keras.optimizers.legacy.Adam.\n"
          ]
        },
        {
          "output_type": "stream",
          "name": "stdout",
          "text": [
            "lr: 0.0074905815154723025 num_filters: 119 filter_size: 6 dense_units: 42\n",
            "Epoch 1/5\n",
            "108/108 - 5s - loss: 0.6445 - accuracy: 0.8072 - val_loss: 0.4394 - val_accuracy: 0.8705 - 5s/epoch - 46ms/step\n",
            "Epoch 2/5\n",
            "108/108 - 4s - loss: 0.3280 - accuracy: 0.9021 - val_loss: 0.3124 - val_accuracy: 0.9095 - 4s/epoch - 38ms/step\n",
            "Epoch 3/5\n",
            "108/108 - 4s - loss: 0.1963 - accuracy: 0.9462 - val_loss: 0.2629 - val_accuracy: 0.9247 - 4s/epoch - 38ms/step\n",
            "Epoch 4/5\n",
            "108/108 - 4s - loss: 0.1123 - accuracy: 0.9732 - val_loss: 0.2353 - val_accuracy: 0.9366 - 4s/epoch - 38ms/step\n",
            "Epoch 5/5\n",
            "108/108 - 4s - loss: 0.0626 - accuracy: 0.9866 - val_loss: 0.2235 - val_accuracy: 0.9473 - 4s/epoch - 33ms/step\n"
          ]
        },
        {
          "output_type": "stream",
          "name": "stderr",
          "text": [
            "WARNING:absl:`lr` is deprecated in Keras optimizer, please use `learning_rate` or use the legacy optimizer, e.g.,tf.keras.optimizers.legacy.Adam.\n"
          ]
        },
        {
          "output_type": "stream",
          "name": "stdout",
          "text": [
            "lr: 0.0027511601815357967 num_filters: 100 filter_size: 3 dense_units: 48\n",
            "Epoch 1/5\n",
            "108/108 - 3s - loss: 0.8061 - accuracy: 0.7503 - val_loss: 0.4720 - val_accuracy: 0.8609 - 3s/epoch - 27ms/step\n",
            "Epoch 2/5\n",
            "108/108 - 2s - loss: 0.3759 - accuracy: 0.8903 - val_loss: 0.3280 - val_accuracy: 0.9128 - 2s/epoch - 17ms/step\n",
            "Epoch 3/5\n",
            "108/108 - 2s - loss: 0.2431 - accuracy: 0.9357 - val_loss: 0.2565 - val_accuracy: 0.9318 - 2s/epoch - 17ms/step\n",
            "Epoch 4/5\n",
            "108/108 - 2s - loss: 0.1563 - accuracy: 0.9599 - val_loss: 0.2215 - val_accuracy: 0.9399 - 2s/epoch - 17ms/step\n",
            "Epoch 5/5\n",
            "108/108 - 3s - loss: 0.0981 - accuracy: 0.9764 - val_loss: 0.1923 - val_accuracy: 0.9547 - 3s/epoch - 26ms/step\n",
            "lr: 0.0037095091804243557 num_filters: 91 filter_size: 5 dense_units: 55\n"
          ]
        },
        {
          "output_type": "stream",
          "name": "stderr",
          "text": [
            "WARNING:absl:`lr` is deprecated in Keras optimizer, please use `learning_rate` or use the legacy optimizer, e.g.,tf.keras.optimizers.legacy.Adam.\n"
          ]
        },
        {
          "output_type": "stream",
          "name": "stdout",
          "text": [
            "Epoch 1/5\n",
            "108/108 - 5s - loss: 0.7513 - accuracy: 0.7780 - val_loss: 0.4778 - val_accuracy: 0.8605 - 5s/epoch - 48ms/step\n",
            "Epoch 2/5\n",
            "108/108 - 2s - loss: 0.3804 - accuracy: 0.8838 - val_loss: 0.3425 - val_accuracy: 0.9054 - 2s/epoch - 19ms/step\n",
            "Epoch 3/5\n",
            "108/108 - 2s - loss: 0.2433 - accuracy: 0.9318 - val_loss: 0.2681 - val_accuracy: 0.9299 - 2s/epoch - 20ms/step\n",
            "Epoch 4/5\n",
            "108/108 - 2s - loss: 0.1543 - accuracy: 0.9599 - val_loss: 0.2282 - val_accuracy: 0.9381 - 2s/epoch - 20ms/step\n",
            "Epoch 5/5\n",
            "108/108 - 3s - loss: 0.0900 - accuracy: 0.9790 - val_loss: 0.2060 - val_accuracy: 0.9440 - 3s/epoch - 28ms/step\n"
          ]
        },
        {
          "output_type": "stream",
          "name": "stderr",
          "text": [
            "WARNING:absl:`lr` is deprecated in Keras optimizer, please use `learning_rate` or use the legacy optimizer, e.g.,tf.keras.optimizers.legacy.Adam.\n"
          ]
        },
        {
          "output_type": "stream",
          "name": "stdout",
          "text": [
            "lr: 0.009986675472557844 num_filters: 127 filter_size: 4 dense_units: 56\n",
            "Epoch 1/5\n",
            "108/108 - 6s - loss: 0.6280 - accuracy: 0.8158 - val_loss: 0.4098 - val_accuracy: 0.8858 - 6s/epoch - 53ms/step\n",
            "Epoch 2/5\n",
            "108/108 - 4s - loss: 0.3247 - accuracy: 0.9020 - val_loss: 0.3041 - val_accuracy: 0.9228 - 4s/epoch - 35ms/step\n",
            "Epoch 3/5\n",
            "108/108 - 4s - loss: 0.2046 - accuracy: 0.9437 - val_loss: 0.2498 - val_accuracy: 0.9347 - 4s/epoch - 36ms/step\n",
            "Epoch 4/5\n",
            "108/108 - 4s - loss: 0.1308 - accuracy: 0.9664 - val_loss: 0.2191 - val_accuracy: 0.9462 - 4s/epoch - 35ms/step\n",
            "Epoch 5/5\n",
            "108/108 - 2s - loss: 0.0768 - accuracy: 0.9812 - val_loss: 0.2102 - val_accuracy: 0.9496 - 2s/epoch - 20ms/step\n"
          ]
        },
        {
          "output_type": "stream",
          "name": "stderr",
          "text": [
            "WARNING:absl:`lr` is deprecated in Keras optimizer, please use `learning_rate` or use the legacy optimizer, e.g.,tf.keras.optimizers.legacy.Adam.\n"
          ]
        },
        {
          "output_type": "stream",
          "name": "stdout",
          "text": [
            "lr: 0.0010676312100713506 num_filters: 86 filter_size: 6 dense_units: 56\n",
            "Epoch 1/5\n",
            "108/108 - 3s - loss: 0.6904 - accuracy: 0.7889 - val_loss: 0.4564 - val_accuracy: 0.8613 - 3s/epoch - 30ms/step\n",
            "Epoch 2/5\n",
            "108/108 - 2s - loss: 0.3575 - accuracy: 0.8893 - val_loss: 0.3535 - val_accuracy: 0.8913 - 2s/epoch - 20ms/step\n",
            "Epoch 3/5\n",
            "108/108 - 3s - loss: 0.2180 - accuracy: 0.9378 - val_loss: 0.2570 - val_accuracy: 0.9332 - 3s/epoch - 25ms/step\n",
            "Epoch 4/5\n",
            "108/108 - 4s - loss: 0.1292 - accuracy: 0.9671 - val_loss: 0.2279 - val_accuracy: 0.9381 - 4s/epoch - 34ms/step\n",
            "Epoch 5/5\n",
            "108/108 - 4s - loss: 0.0731 - accuracy: 0.9841 - val_loss: 0.2142 - val_accuracy: 0.9484 - 4s/epoch - 34ms/step\n"
          ]
        },
        {
          "output_type": "stream",
          "name": "stderr",
          "text": [
            "WARNING:absl:`lr` is deprecated in Keras optimizer, please use `learning_rate` or use the legacy optimizer, e.g.,tf.keras.optimizers.legacy.Adam.\n"
          ]
        },
        {
          "output_type": "stream",
          "name": "stdout",
          "text": [
            "lr: 0.004480610319910649 num_filters: 102 filter_size: 3 dense_units: 49\n",
            "Epoch 1/5\n",
            "108/108 - 5s - loss: 0.6559 - accuracy: 0.8157 - val_loss: 0.4295 - val_accuracy: 0.8776 - 5s/epoch - 46ms/step\n",
            "Epoch 2/5\n",
            "108/108 - 4s - loss: 0.3442 - accuracy: 0.8986 - val_loss: 0.3060 - val_accuracy: 0.9169 - 4s/epoch - 33ms/step\n",
            "Epoch 3/5\n",
            "108/108 - 2s - loss: 0.2196 - accuracy: 0.9399 - val_loss: 0.2427 - val_accuracy: 0.9343 - 2s/epoch - 21ms/step\n",
            "Epoch 4/5\n",
            "108/108 - 2s - loss: 0.1386 - accuracy: 0.9639 - val_loss: 0.2112 - val_accuracy: 0.9451 - 2s/epoch - 17ms/step\n",
            "Epoch 5/5\n",
            "108/108 - 2s - loss: 0.0839 - accuracy: 0.9799 - val_loss: 0.1929 - val_accuracy: 0.9518 - 2s/epoch - 17ms/step\n"
          ]
        },
        {
          "output_type": "stream",
          "name": "stderr",
          "text": [
            "WARNING:absl:`lr` is deprecated in Keras optimizer, please use `learning_rate` or use the legacy optimizer, e.g.,tf.keras.optimizers.legacy.Adam.\n"
          ]
        },
        {
          "output_type": "stream",
          "name": "stdout",
          "text": [
            "lr: 0.0030185187992964042 num_filters: 87 filter_size: 3 dense_units: 60\n",
            "Epoch 1/5\n",
            "108/108 - 3s - loss: 0.7168 - accuracy: 0.7898 - val_loss: 0.4534 - val_accuracy: 0.8713 - 3s/epoch - 27ms/step\n",
            "Epoch 2/5\n",
            "108/108 - 2s - loss: 0.3724 - accuracy: 0.8897 - val_loss: 0.3238 - val_accuracy: 0.9147 - 2s/epoch - 17ms/step\n",
            "Epoch 3/5\n",
            "108/108 - 3s - loss: 0.2404 - accuracy: 0.9345 - val_loss: 0.2551 - val_accuracy: 0.9332 - 3s/epoch - 29ms/step\n",
            "Epoch 4/5\n",
            "108/108 - 3s - loss: 0.1574 - accuracy: 0.9583 - val_loss: 0.2209 - val_accuracy: 0.9451 - 3s/epoch - 30ms/step\n",
            "Epoch 5/5\n",
            "108/108 - 3s - loss: 0.0999 - accuracy: 0.9745 - val_loss: 0.2030 - val_accuracy: 0.9525 - 3s/epoch - 29ms/step\n"
          ]
        },
        {
          "output_type": "stream",
          "name": "stderr",
          "text": [
            "WARNING:absl:`lr` is deprecated in Keras optimizer, please use `learning_rate` or use the legacy optimizer, e.g.,tf.keras.optimizers.legacy.Adam.\n"
          ]
        },
        {
          "output_type": "stream",
          "name": "stdout",
          "text": [
            "lr: 0.003898384419899165 num_filters: 68 filter_size: 5 dense_units: 46\n",
            "Epoch 1/5\n",
            "108/108 - 3s - loss: 0.7532 - accuracy: 0.7735 - val_loss: 0.4925 - val_accuracy: 0.8557 - 3s/epoch - 28ms/step\n",
            "Epoch 2/5\n",
            "108/108 - 2s - loss: 0.3967 - accuracy: 0.8789 - val_loss: 0.3376 - val_accuracy: 0.9091 - 2s/epoch - 18ms/step\n",
            "Epoch 3/5\n",
            "108/108 - 2s - loss: 0.2524 - accuracy: 0.9311 - val_loss: 0.2678 - val_accuracy: 0.9340 - 2s/epoch - 18ms/step\n",
            "Epoch 4/5\n",
            "108/108 - 2s - loss: 0.1628 - accuracy: 0.9581 - val_loss: 0.2264 - val_accuracy: 0.9425 - 2s/epoch - 18ms/step\n",
            "Epoch 5/5\n",
            "108/108 - 3s - loss: 0.1029 - accuracy: 0.9746 - val_loss: 0.2107 - val_accuracy: 0.9484 - 3s/epoch - 26ms/step\n"
          ]
        },
        {
          "output_type": "stream",
          "name": "stderr",
          "text": [
            "WARNING:absl:`lr` is deprecated in Keras optimizer, please use `learning_rate` or use the legacy optimizer, e.g.,tf.keras.optimizers.legacy.Adam.\n"
          ]
        },
        {
          "output_type": "stream",
          "name": "stdout",
          "text": [
            "lr: 0.00889545411691639 num_filters: 70 filter_size: 5 dense_units: 43\n",
            "Epoch 1/5\n",
            "108/108 - 5s - loss: 0.7547 - accuracy: 0.7807 - val_loss: 0.4879 - val_accuracy: 0.8553 - 5s/epoch - 44ms/step\n",
            "Epoch 2/5\n",
            "108/108 - 2s - loss: 0.3882 - accuracy: 0.8808 - val_loss: 0.3471 - val_accuracy: 0.9017 - 2s/epoch - 19ms/step\n",
            "Epoch 3/5\n",
            "108/108 - 2s - loss: 0.2438 - accuracy: 0.9284 - val_loss: 0.2676 - val_accuracy: 0.9273 - 2s/epoch - 19ms/step\n",
            "Epoch 4/5\n",
            "108/108 - 2s - loss: 0.1531 - accuracy: 0.9610 - val_loss: 0.2339 - val_accuracy: 0.9403 - 2s/epoch - 19ms/step\n",
            "Epoch 5/5\n",
            "108/108 - 2s - loss: 0.0924 - accuracy: 0.9778 - val_loss: 0.2129 - val_accuracy: 0.9462 - 2s/epoch - 23ms/step\n"
          ]
        },
        {
          "output_type": "stream",
          "name": "stderr",
          "text": [
            "WARNING:absl:`lr` is deprecated in Keras optimizer, please use `learning_rate` or use the legacy optimizer, e.g.,tf.keras.optimizers.legacy.Adam.\n"
          ]
        },
        {
          "output_type": "stream",
          "name": "stdout",
          "text": [
            "lr: 0.009825267600605907 num_filters: 107 filter_size: 6 dense_units: 62\n",
            "Epoch 1/5\n",
            "108/108 - 5s - loss: 0.6982 - accuracy: 0.7876 - val_loss: 0.4649 - val_accuracy: 0.8654 - 5s/epoch - 42ms/step\n",
            "Epoch 2/5\n",
            "108/108 - 3s - loss: 0.3471 - accuracy: 0.8951 - val_loss: 0.3186 - val_accuracy: 0.9151 - 3s/epoch - 25ms/step\n",
            "Epoch 3/5\n",
            "108/108 - 2s - loss: 0.2091 - accuracy: 0.9422 - val_loss: 0.2643 - val_accuracy: 0.9258 - 2s/epoch - 21ms/step\n",
            "Epoch 4/5\n",
            "108/108 - 2s - loss: 0.1248 - accuracy: 0.9704 - val_loss: 0.2317 - val_accuracy: 0.9395 - 2s/epoch - 21ms/step\n",
            "Epoch 5/5\n",
            "108/108 - 3s - loss: 0.0753 - accuracy: 0.9832 - val_loss: 0.2248 - val_accuracy: 0.9421 - 3s/epoch - 26ms/step\n"
          ]
        },
        {
          "output_type": "stream",
          "name": "stderr",
          "text": [
            "WARNING:absl:`lr` is deprecated in Keras optimizer, please use `learning_rate` or use the legacy optimizer, e.g.,tf.keras.optimizers.legacy.Adam.\n"
          ]
        },
        {
          "output_type": "stream",
          "name": "stdout",
          "text": [
            "lr: 0.003717826215488982 num_filters: 64 filter_size: 3 dense_units: 41\n",
            "Epoch 1/5\n",
            "108/108 - 6s - loss: 0.8845 - accuracy: 0.7302 - val_loss: 0.5050 - val_accuracy: 0.8565 - 6s/epoch - 53ms/step\n",
            "Epoch 2/5\n",
            "108/108 - 2s - loss: 0.4166 - accuracy: 0.8775 - val_loss: 0.3575 - val_accuracy: 0.8939 - 2s/epoch - 19ms/step\n",
            "Epoch 3/5\n",
            "108/108 - 2s - loss: 0.2840 - accuracy: 0.9211 - val_loss: 0.2819 - val_accuracy: 0.9262 - 2s/epoch - 16ms/step\n",
            "Epoch 4/5\n",
            "108/108 - 2s - loss: 0.1981 - accuracy: 0.9469 - val_loss: 0.2409 - val_accuracy: 0.9336 - 2s/epoch - 16ms/step\n",
            "Epoch 5/5\n",
            "108/108 - 2s - loss: 0.1382 - accuracy: 0.9649 - val_loss: 0.2071 - val_accuracy: 0.9477 - 2s/epoch - 16ms/step\n"
          ]
        },
        {
          "output_type": "stream",
          "name": "stderr",
          "text": [
            "WARNING:absl:`lr` is deprecated in Keras optimizer, please use `learning_rate` or use the legacy optimizer, e.g.,tf.keras.optimizers.legacy.Adam.\n"
          ]
        },
        {
          "output_type": "stream",
          "name": "stdout",
          "text": [
            "lr: 0.003209328393697927 num_filters: 99 filter_size: 4 dense_units: 54\n",
            "Epoch 1/5\n",
            "108/108 - 3s - loss: 0.6908 - accuracy: 0.7895 - val_loss: 0.4512 - val_accuracy: 0.8724 - 3s/epoch - 28ms/step\n",
            "Epoch 2/5\n",
            "108/108 - 3s - loss: 0.3420 - accuracy: 0.9000 - val_loss: 0.3155 - val_accuracy: 0.9139 - 3s/epoch - 27ms/step\n",
            "Epoch 3/5\n",
            "108/108 - 3s - loss: 0.2138 - accuracy: 0.9434 - val_loss: 0.2487 - val_accuracy: 0.9384 - 3s/epoch - 32ms/step\n",
            "Epoch 4/5\n",
            "108/108 - 3s - loss: 0.1342 - accuracy: 0.9680 - val_loss: 0.2190 - val_accuracy: 0.9458 - 3s/epoch - 31ms/step\n",
            "Epoch 5/5\n",
            "108/108 - 4s - loss: 0.0843 - accuracy: 0.9809 - val_loss: 0.2077 - val_accuracy: 0.9514 - 4s/epoch - 33ms/step\n"
          ]
        },
        {
          "output_type": "stream",
          "name": "stderr",
          "text": [
            "WARNING:absl:`lr` is deprecated in Keras optimizer, please use `learning_rate` or use the legacy optimizer, e.g.,tf.keras.optimizers.legacy.Adam.\n"
          ]
        },
        {
          "output_type": "stream",
          "name": "stdout",
          "text": [
            "lr: 0.0027286995448606724 num_filters: 102 filter_size: 5 dense_units: 43\n",
            "Epoch 1/5\n",
            "108/108 - 5s - loss: 0.6939 - accuracy: 0.7924 - val_loss: 0.4505 - val_accuracy: 0.8676 - 5s/epoch - 50ms/step\n",
            "Epoch 2/5\n",
            "108/108 - 2s - loss: 0.3570 - accuracy: 0.8932 - val_loss: 0.3264 - val_accuracy: 0.9069 - 2s/epoch - 20ms/step\n",
            "Epoch 3/5\n",
            "108/108 - 2s - loss: 0.2267 - accuracy: 0.9376 - val_loss: 0.2776 - val_accuracy: 0.9277 - 2s/epoch - 19ms/step\n",
            "Epoch 4/5\n",
            "108/108 - 2s - loss: 0.1425 - accuracy: 0.9633 - val_loss: 0.2324 - val_accuracy: 0.9418 - 2s/epoch - 19ms/step\n",
            "Epoch 5/5\n",
            "108/108 - 2s - loss: 0.0848 - accuracy: 0.9802 - val_loss: 0.2081 - val_accuracy: 0.9432 - 2s/epoch - 19ms/step\n"
          ]
        },
        {
          "output_type": "stream",
          "name": "stderr",
          "text": [
            "WARNING:absl:`lr` is deprecated in Keras optimizer, please use `learning_rate` or use the legacy optimizer, e.g.,tf.keras.optimizers.legacy.Adam.\n"
          ]
        },
        {
          "output_type": "stream",
          "name": "stdout",
          "text": [
            "lr: 0.0026718114242110834 num_filters: 100 filter_size: 6 dense_units: 62\n",
            "Epoch 1/5\n",
            "108/108 - 4s - loss: 0.6882 - accuracy: 0.7919 - val_loss: 0.4454 - val_accuracy: 0.8639 - 4s/epoch - 39ms/step\n",
            "Epoch 2/5\n",
            "108/108 - 4s - loss: 0.3383 - accuracy: 0.8956 - val_loss: 0.3185 - val_accuracy: 0.9091 - 4s/epoch - 34ms/step\n",
            "Epoch 3/5\n",
            "108/108 - 4s - loss: 0.1991 - accuracy: 0.9460 - val_loss: 0.2789 - val_accuracy: 0.9240 - 4s/epoch - 35ms/step\n",
            "Epoch 4/5\n",
            "108/108 - 4s - loss: 0.1139 - accuracy: 0.9719 - val_loss: 0.2452 - val_accuracy: 0.9403 - 4s/epoch - 35ms/step\n",
            "Epoch 5/5\n",
            "108/108 - 5s - loss: 0.0609 - accuracy: 0.9866 - val_loss: 0.2318 - val_accuracy: 0.9384 - 5s/epoch - 50ms/step\n"
          ]
        },
        {
          "output_type": "stream",
          "name": "stderr",
          "text": [
            "WARNING:absl:`lr` is deprecated in Keras optimizer, please use `learning_rate` or use the legacy optimizer, e.g.,tf.keras.optimizers.legacy.Adam.\n"
          ]
        },
        {
          "output_type": "stream",
          "name": "stdout",
          "text": [
            "lr: 0.00760698477684237 num_filters: 116 filter_size: 4 dense_units: 48\n",
            "Epoch 1/5\n",
            "108/108 - 5s - loss: 0.6751 - accuracy: 0.8018 - val_loss: 0.4427 - val_accuracy: 0.8694 - 5s/epoch - 42ms/step\n",
            "Epoch 2/5\n",
            "108/108 - 2s - loss: 0.3570 - accuracy: 0.8935 - val_loss: 0.3201 - val_accuracy: 0.9095 - 2s/epoch - 18ms/step\n",
            "Epoch 3/5\n",
            "108/108 - 2s - loss: 0.2272 - accuracy: 0.9374 - val_loss: 0.2538 - val_accuracy: 0.9343 - 2s/epoch - 18ms/step\n",
            "Epoch 4/5\n",
            "108/108 - 3s - loss: 0.1376 - accuracy: 0.9651 - val_loss: 0.2292 - val_accuracy: 0.9403 - 3s/epoch - 26ms/step\n",
            "Epoch 5/5\n",
            "108/108 - 3s - loss: 0.0811 - accuracy: 0.9813 - val_loss: 0.1948 - val_accuracy: 0.9540 - 3s/epoch - 32ms/step\n"
          ]
        },
        {
          "output_type": "stream",
          "name": "stderr",
          "text": [
            "WARNING:absl:`lr` is deprecated in Keras optimizer, please use `learning_rate` or use the legacy optimizer, e.g.,tf.keras.optimizers.legacy.Adam.\n"
          ]
        },
        {
          "output_type": "stream",
          "name": "stdout",
          "text": [
            "lr: 0.009004076669492489 num_filters: 94 filter_size: 6 dense_units: 60\n",
            "Epoch 1/5\n",
            "108/108 - 6s - loss: 0.6891 - accuracy: 0.7971 - val_loss: 0.4436 - val_accuracy: 0.8705 - 6s/epoch - 51ms/step\n",
            "Epoch 2/5\n",
            "108/108 - 4s - loss: 0.3495 - accuracy: 0.8936 - val_loss: 0.3264 - val_accuracy: 0.9136 - 4s/epoch - 34ms/step\n",
            "Epoch 3/5\n",
            "108/108 - 4s - loss: 0.2095 - accuracy: 0.9421 - val_loss: 0.2704 - val_accuracy: 0.9254 - 4s/epoch - 33ms/step\n",
            "Epoch 4/5\n",
            "108/108 - 2s - loss: 0.1201 - accuracy: 0.9693 - val_loss: 0.2274 - val_accuracy: 0.9355 - 2s/epoch - 19ms/step\n",
            "Epoch 5/5\n",
            "108/108 - 2s - loss: 0.0637 - accuracy: 0.9865 - val_loss: 0.2178 - val_accuracy: 0.9462 - 2s/epoch - 19ms/step\n"
          ]
        },
        {
          "output_type": "stream",
          "name": "stderr",
          "text": [
            "WARNING:absl:`lr` is deprecated in Keras optimizer, please use `learning_rate` or use the legacy optimizer, e.g.,tf.keras.optimizers.legacy.Adam.\n"
          ]
        },
        {
          "output_type": "stream",
          "name": "stdout",
          "text": [
            "lr: 0.0031373265311201853 num_filters: 121 filter_size: 5 dense_units: 52\n",
            "Epoch 1/5\n",
            "108/108 - 5s - loss: 0.7009 - accuracy: 0.7902 - val_loss: 0.4376 - val_accuracy: 0.8754 - 5s/epoch - 50ms/step\n",
            "Epoch 2/5\n",
            "108/108 - 4s - loss: 0.3499 - accuracy: 0.8931 - val_loss: 0.3111 - val_accuracy: 0.9169 - 4s/epoch - 35ms/step\n",
            "Epoch 3/5\n",
            "108/108 - 4s - loss: 0.2130 - accuracy: 0.9403 - val_loss: 0.2529 - val_accuracy: 0.9358 - 4s/epoch - 36ms/step\n",
            "Epoch 4/5\n",
            "108/108 - 4s - loss: 0.1268 - accuracy: 0.9691 - val_loss: 0.2242 - val_accuracy: 0.9455 - 4s/epoch - 36ms/step\n",
            "Epoch 5/5\n",
            "108/108 - 3s - loss: 0.0731 - accuracy: 0.9837 - val_loss: 0.2088 - val_accuracy: 0.9481 - 3s/epoch - 29ms/step\n"
          ]
        },
        {
          "output_type": "stream",
          "name": "stderr",
          "text": [
            "WARNING:absl:`lr` is deprecated in Keras optimizer, please use `learning_rate` or use the legacy optimizer, e.g.,tf.keras.optimizers.legacy.Adam.\n"
          ]
        },
        {
          "output_type": "stream",
          "name": "stdout",
          "text": [
            "lr: 0.00934748605545441 num_filters: 91 filter_size: 5 dense_units: 42\n",
            "Epoch 1/5\n",
            "108/108 - 3s - loss: 0.9085 - accuracy: 0.7225 - val_loss: 0.5390 - val_accuracy: 0.8509 - 3s/epoch - 30ms/step\n",
            "Epoch 2/5\n",
            "108/108 - 2s - loss: 0.4179 - accuracy: 0.8742 - val_loss: 0.3456 - val_accuracy: 0.9062 - 2s/epoch - 19ms/step\n",
            "Epoch 3/5\n",
            "108/108 - 2s - loss: 0.2545 - accuracy: 0.9272 - val_loss: 0.2699 - val_accuracy: 0.9295 - 2s/epoch - 19ms/step\n",
            "Epoch 4/5\n",
            "108/108 - 2s - loss: 0.1586 - accuracy: 0.9585 - val_loss: 0.2229 - val_accuracy: 0.9425 - 2s/epoch - 23ms/step\n",
            "Epoch 5/5\n",
            "108/108 - 4s - loss: 0.0963 - accuracy: 0.9771 - val_loss: 0.1914 - val_accuracy: 0.9488 - 4s/epoch - 33ms/step\n"
          ]
        },
        {
          "output_type": "stream",
          "name": "stderr",
          "text": [
            "WARNING:absl:`lr` is deprecated in Keras optimizer, please use `learning_rate` or use the legacy optimizer, e.g.,tf.keras.optimizers.legacy.Adam.\n"
          ]
        },
        {
          "output_type": "stream",
          "name": "stdout",
          "text": [
            "lr: 0.0010293252448923477 num_filters: 73 filter_size: 5 dense_units: 37\n",
            "Epoch 1/5\n",
            "108/108 - 4s - loss: 0.6935 - accuracy: 0.7932 - val_loss: 0.4714 - val_accuracy: 0.8620 - 4s/epoch - 37ms/step\n",
            "Epoch 2/5\n",
            "108/108 - 2s - loss: 0.3695 - accuracy: 0.8873 - val_loss: 0.3410 - val_accuracy: 0.9054 - 2s/epoch - 18ms/step\n",
            "Epoch 3/5\n",
            "108/108 - 2s - loss: 0.2353 - accuracy: 0.9354 - val_loss: 0.2676 - val_accuracy: 0.9269 - 2s/epoch - 18ms/step\n",
            "Epoch 4/5\n",
            "108/108 - 2s - loss: 0.1453 - accuracy: 0.9634 - val_loss: 0.2364 - val_accuracy: 0.9369 - 2s/epoch - 18ms/step\n",
            "Epoch 5/5\n",
            "108/108 - 2s - loss: 0.0889 - accuracy: 0.9786 - val_loss: 0.2151 - val_accuracy: 0.9436 - 2s/epoch - 18ms/step\n"
          ]
        },
        {
          "output_type": "stream",
          "name": "stderr",
          "text": [
            "WARNING:absl:`lr` is deprecated in Keras optimizer, please use `learning_rate` or use the legacy optimizer, e.g.,tf.keras.optimizers.legacy.Adam.\n"
          ]
        },
        {
          "output_type": "stream",
          "name": "stdout",
          "text": [
            "lr: 0.0029083881046227415 num_filters: 113 filter_size: 4 dense_units: 59\n",
            "Epoch 1/5\n",
            "108/108 - 5s - loss: 0.7177 - accuracy: 0.7859 - val_loss: 0.4519 - val_accuracy: 0.8694 - 5s/epoch - 48ms/step\n",
            "Epoch 2/5\n",
            "108/108 - 3s - loss: 0.3501 - accuracy: 0.8951 - val_loss: 0.3293 - val_accuracy: 0.9132 - 3s/epoch - 32ms/step\n",
            "Epoch 3/5\n",
            "108/108 - 4s - loss: 0.2244 - accuracy: 0.9399 - val_loss: 0.2621 - val_accuracy: 0.9306 - 4s/epoch - 34ms/step\n",
            "Epoch 4/5\n",
            "108/108 - 4s - loss: 0.1463 - accuracy: 0.9618 - val_loss: 0.2329 - val_accuracy: 0.9373 - 4s/epoch - 34ms/step\n",
            "Epoch 5/5\n",
            "108/108 - 4s - loss: 0.0895 - accuracy: 0.9786 - val_loss: 0.2166 - val_accuracy: 0.9432 - 4s/epoch - 33ms/step\n"
          ]
        },
        {
          "output_type": "stream",
          "name": "stderr",
          "text": [
            "WARNING:absl:`lr` is deprecated in Keras optimizer, please use `learning_rate` or use the legacy optimizer, e.g.,tf.keras.optimizers.legacy.Adam.\n"
          ]
        },
        {
          "output_type": "stream",
          "name": "stdout",
          "text": [
            "lr: 0.00170293532596256 num_filters: 80 filter_size: 3 dense_units: 32\n",
            "Epoch 1/5\n",
            "108/108 - 3s - loss: 0.7030 - accuracy: 0.7918 - val_loss: 0.4581 - val_accuracy: 0.8776 - 3s/epoch - 27ms/step\n",
            "Epoch 2/5\n",
            "108/108 - 2s - loss: 0.3743 - accuracy: 0.8927 - val_loss: 0.3223 - val_accuracy: 0.9158 - 2s/epoch - 16ms/step\n",
            "Epoch 3/5\n",
            "108/108 - 2s - loss: 0.2410 - accuracy: 0.9346 - val_loss: 0.2692 - val_accuracy: 0.9314 - 2s/epoch - 17ms/step\n",
            "Epoch 4/5\n",
            "108/108 - 2s - loss: 0.1579 - accuracy: 0.9599 - val_loss: 0.2156 - val_accuracy: 0.9462 - 2s/epoch - 16ms/step\n",
            "Epoch 5/5\n",
            "108/108 - 2s - loss: 0.1013 - accuracy: 0.9750 - val_loss: 0.1965 - val_accuracy: 0.9514 - 2s/epoch - 17ms/step\n",
            "final best params: [0.006935708171469271, 114, 3, 52]\n"
          ]
        }
      ]
    },
    {
      "cell_type": "code",
      "source": [
        "from keras.models import Sequential\n",
        "from keras.layers import Embedding, Conv1D, GlobalMaxPooling1D, Dense\n",
        "from keras.optimizers import Adam\n",
        "from keras.utils import to_categorical\n",
        "\n",
        "# Define the best hyperparameters\n",
        "best_learning_rate = 0.006935708171469271\n",
        "best_num_filters = 114\n",
        "best_filter_size = 3\n",
        "best_dense_units = 52\n",
        "\n",
        "# Define and compile the CNN model with the best hyperparameters\n",
        "model = Sequential()\n",
        "model.add(Embedding(top_words, embedding_dimension, input_length=24, mask_zero=True))\n",
        "model.add(Conv1D(best_num_filters, best_filter_size, activation='relu'))\n",
        "model.add(GlobalMaxPooling1D())\n",
        "model.add(Dense(best_dense_units, activation='relu'))\n",
        "model.add(Dense(6, activation='softmax'))\n",
        "model.compile(loss='categorical_crossentropy', optimizer=Adam(lr=best_learning_rate), metrics=['accuracy'])\n",
        "\n",
        "# Convert integer labels to one-hot encoded format for the entire training set\n",
        "train_labels_one_hot = to_categorical(train_labels, num_classes=6)\n",
        "\n",
        "# Train the model on the entire training dataset\n",
        "model.fit(train_data, train_labels_one_hot, epochs=best_n_epochs, batch_size=100, verbose=2)\n",
        "\n",
        "# Convert integer labels to one-hot encoded format for the test set\n",
        "test_labels_one_hot = to_categorical(test_labels, num_classes=6)\n",
        "\n",
        "# Evaluate the model on the test dataset\n",
        "test_loss, test_accuracy = model.evaluate(test_data, test_labels_one_hot, verbose=2)\n",
        "\n",
        "# Print the test accuracy\n",
        "print(\"Test Accuracy:\", test_accuracy)"
      ],
      "metadata": {
        "colab": {
          "base_uri": "https://localhost:8080/"
        },
        "id": "YCPPSWDLCYAX",
        "outputId": "a0fe800a-0974-4f9a-dae9-0f0277e163d7"
      },
      "execution_count": null,
      "outputs": [
        {
          "output_type": "stream",
          "name": "stderr",
          "text": [
            "WARNING:absl:`lr` is deprecated in Keras optimizer, please use `learning_rate` or use the legacy optimizer, e.g.,tf.keras.optimizers.legacy.Adam.\n"
          ]
        },
        {
          "output_type": "stream",
          "name": "stdout",
          "text": [
            "Epoch 1/5\n",
            "135/135 - 4s - loss: 0.9103 - accuracy: 0.7459 - 4s/epoch - 28ms/step\n",
            "Epoch 2/5\n",
            "135/135 - 3s - loss: 0.1990 - accuracy: 0.9560 - 3s/epoch - 19ms/step\n",
            "Epoch 3/5\n",
            "135/135 - 4s - loss: 0.0764 - accuracy: 0.9796 - 4s/epoch - 28ms/step\n",
            "Epoch 4/5\n",
            "135/135 - 4s - loss: 0.0476 - accuracy: 0.9856 - 4s/epoch - 29ms/step\n",
            "Epoch 5/5\n",
            "135/135 - 4s - loss: 0.0277 - accuracy: 0.9938 - 4s/epoch - 29ms/step\n",
            "106/106 - 1s - loss: 0.1083 - accuracy: 0.9831 - 740ms/epoch - 7ms/step\n",
            "Test Accuracy: 0.9830910563468933\n"
          ]
        }
      ]
    },
    {
      "cell_type": "markdown",
      "source": [
        "Hyperparameter for CNN-LSTM"
      ],
      "metadata": {
        "id": "uNqW-LVtCrWF"
      }
    },
    {
      "cell_type": "code",
      "source": [
        "import numpy as np\n",
        "from keras.models import Sequential\n",
        "from keras.layers import Embedding, Conv1D, MaxPooling1D, SpatialDropout1D, Bidirectional, LSTM, Dense\n",
        "from keras.optimizers import Adam\n",
        "from keras.callbacks import EarlyStopping\n",
        "from sklearn.metrics import classification_report, confusion_matrix\n",
        "\n",
        "# Define the function to generate random hyperparameters\n",
        "def get_hyper_param(n_iteration):\n",
        "    hyper_param = []  # learning_rate, num_filters, filter_size, dense_units\n",
        "    for i in range(n_iteration):\n",
        "        current_params = []\n",
        "        current_params.append(np.random.uniform(0.001, 0.01))  # Learning rate\n",
        "        current_params.append(np.random.randint(64, 128))  # Number of filters\n",
        "        current_params.append(np.random.randint(3, 7))  # Filter size\n",
        "        current_params.append(np.random.randint(32, 64))  # Number of units in the dense layer\n",
        "        hyper_param.append(current_params)\n",
        "    return hyper_param\n",
        "\n",
        "# Generate random hyperparameters\n",
        "hyper_parameter = get_hyper_param(40)\n",
        "\n",
        "# Define function to create and compile hybrid CNN-LSTM model with specific hyperparameters\n",
        "def create_hybrid_model(learning_rate, num_filters, filter_size, dense_units):\n",
        "    model = Sequential()\n",
        "    model.add(Embedding(input_dim=vocab_size, output_dim=embedding_dim, weights=[embedding_matrix], input_length=max_sequence_length, trainable=True))\n",
        "    model.add(Conv1D(num_filters, filter_size, activation='relu'))\n",
        "    model.add(MaxPooling1D(pool_size=4))\n",
        "    model.add(SpatialDropout1D(0.2))\n",
        "    model.add(Bidirectional(LSTM(dense_units)))\n",
        "    model.add(Dense(num_classes, activation='softmax'))  # Use softmax for multi-class classification\n",
        "    model.compile(optimizer=Adam(lr=learning_rate), loss='categorical_crossentropy', metrics=['accuracy'])\n",
        "    return model\n",
        "\n",
        "# Define function to fit hybrid CNN-LSTM model with random hyperparameters\n",
        "def fit_hybrid_random(batch_size):\n",
        "    min_val_loss = 999\n",
        "    best_params = None\n",
        "    for learning_rate, num_filters, filter_size, dense_units in hyper_parameter:\n",
        "        print('lr:', learning_rate, 'num_filters:', num_filters, 'filter_size:', filter_size, 'dense_units:', dense_units)\n",
        "        model = create_hybrid_model(learning_rate, num_filters, filter_size, dense_units)\n",
        "        # Convert labels to one-hot encoding\n",
        "        train_labels_encoded = to_categorical(train_labels, num_classes=num_classes)\n",
        "        # Fit model\n",
        "        hybrid_model = model.fit(train_data, train_labels_encoded, epochs=5, batch_size=batch_size, validation_split=0.2, verbose=2)\n",
        "        current_val_loss = hybrid_model.history['val_loss'][-1]\n",
        "        if current_val_loss < min_val_loss:\n",
        "            min_val_loss = current_val_loss\n",
        "            best_params = [learning_rate, num_filters, filter_size, dense_units]\n",
        "            print('best_params:', best_params)\n",
        "    print('final best params:', best_params)\n",
        "    return best_params\n",
        "\n",
        "# Define a function to run the random search\n",
        "def run_hybrid_random():\n",
        "    n_batch = 100\n",
        "    history = fit_hybrid_random(n_batch)\n",
        "\n",
        "# Run the random search\n",
        "run_hybrid_random()\n"
      ],
      "metadata": {
        "colab": {
          "base_uri": "https://localhost:8080/"
        },
        "id": "TkWd79JCCgX5",
        "outputId": "d19d857f-0255-4259-ecf7-4352e0a18b3b"
      },
      "execution_count": null,
      "outputs": [
        {
          "output_type": "stream",
          "name": "stdout",
          "text": [
            "lr: 0.0024481220317788066 num_filters: 72 filter_size: 3 dense_units: 34\n"
          ]
        },
        {
          "output_type": "stream",
          "name": "stderr",
          "text": [
            "WARNING:absl:`lr` is deprecated in Keras optimizer, please use `learning_rate` or use the legacy optimizer, e.g.,tf.keras.optimizers.legacy.Adam.\n"
          ]
        },
        {
          "output_type": "stream",
          "name": "stdout",
          "text": [
            "Epoch 1/5\n",
            "108/108 - 17s - loss: 0.8370 - accuracy: 0.7505 - val_loss: 0.5215 - val_accuracy: 0.8505 - 17s/epoch - 155ms/step\n",
            "Epoch 2/5\n",
            "108/108 - 9s - loss: 0.4668 - accuracy: 0.8515 - val_loss: 0.3757 - val_accuracy: 0.8858 - 9s/epoch - 86ms/step\n",
            "Epoch 3/5\n",
            "108/108 - 6s - loss: 0.3294 - accuracy: 0.8988 - val_loss: 0.2723 - val_accuracy: 0.9251 - 6s/epoch - 55ms/step\n",
            "Epoch 4/5\n",
            "108/108 - 7s - loss: 0.2218 - accuracy: 0.9380 - val_loss: 0.2057 - val_accuracy: 0.9481 - 7s/epoch - 63ms/step\n",
            "Epoch 5/5\n",
            "108/108 - 8s - loss: 0.1573 - accuracy: 0.9583 - val_loss: 0.1709 - val_accuracy: 0.9570 - 8s/epoch - 72ms/step\n",
            "best_params: [0.0024481220317788066, 72, 3, 34]\n",
            "lr: 0.009519609074543574 num_filters: 111 filter_size: 4 dense_units: 40\n"
          ]
        },
        {
          "output_type": "stream",
          "name": "stderr",
          "text": [
            "WARNING:absl:`lr` is deprecated in Keras optimizer, please use `learning_rate` or use the legacy optimizer, e.g.,tf.keras.optimizers.legacy.Adam.\n"
          ]
        },
        {
          "output_type": "stream",
          "name": "stdout",
          "text": [
            "Epoch 1/5\n",
            "108/108 - 14s - loss: 0.7842 - accuracy: 0.7623 - val_loss: 0.4988 - val_accuracy: 0.8483 - 14s/epoch - 128ms/step\n",
            "Epoch 2/5\n",
            "108/108 - 5s - loss: 0.4422 - accuracy: 0.8568 - val_loss: 0.3593 - val_accuracy: 0.8902 - 5s/epoch - 48ms/step\n",
            "Epoch 3/5\n",
            "108/108 - 3s - loss: 0.3053 - accuracy: 0.9119 - val_loss: 0.2678 - val_accuracy: 0.9266 - 3s/epoch - 30ms/step\n",
            "Epoch 4/5\n",
            "108/108 - 3s - loss: 0.2048 - accuracy: 0.9469 - val_loss: 0.2188 - val_accuracy: 0.9455 - 3s/epoch - 29ms/step\n",
            "Epoch 5/5\n",
            "108/108 - 4s - loss: 0.1384 - accuracy: 0.9640 - val_loss: 0.1888 - val_accuracy: 0.9562 - 4s/epoch - 34ms/step\n",
            "lr: 0.0034993560442639483 num_filters: 123 filter_size: 6 dense_units: 61\n"
          ]
        },
        {
          "output_type": "stream",
          "name": "stderr",
          "text": [
            "WARNING:absl:`lr` is deprecated in Keras optimizer, please use `learning_rate` or use the legacy optimizer, e.g.,tf.keras.optimizers.legacy.Adam.\n"
          ]
        },
        {
          "output_type": "stream",
          "name": "stdout",
          "text": [
            "Epoch 1/5\n",
            "108/108 - 16s - loss: 0.7354 - accuracy: 0.7743 - val_loss: 0.4852 - val_accuracy: 0.8535 - 16s/epoch - 151ms/step\n",
            "Epoch 2/5\n",
            "108/108 - 4s - loss: 0.4230 - accuracy: 0.8661 - val_loss: 0.3405 - val_accuracy: 0.9047 - 4s/epoch - 33ms/step\n",
            "Epoch 3/5\n",
            "108/108 - 4s - loss: 0.2778 - accuracy: 0.9184 - val_loss: 0.2574 - val_accuracy: 0.9336 - 4s/epoch - 34ms/step\n",
            "Epoch 4/5\n",
            "108/108 - 5s - loss: 0.1662 - accuracy: 0.9553 - val_loss: 0.2140 - val_accuracy: 0.9458 - 5s/epoch - 50ms/step\n",
            "Epoch 5/5\n",
            "108/108 - 7s - loss: 0.1079 - accuracy: 0.9718 - val_loss: 0.1925 - val_accuracy: 0.9559 - 7s/epoch - 60ms/step\n",
            "lr: 0.006958612292887783 num_filters: 93 filter_size: 3 dense_units: 36\n"
          ]
        },
        {
          "output_type": "stream",
          "name": "stderr",
          "text": [
            "WARNING:absl:`lr` is deprecated in Keras optimizer, please use `learning_rate` or use the legacy optimizer, e.g.,tf.keras.optimizers.legacy.Adam.\n"
          ]
        },
        {
          "output_type": "stream",
          "name": "stdout",
          "text": [
            "Epoch 1/5\n",
            "108/108 - 13s - loss: 0.8080 - accuracy: 0.7549 - val_loss: 0.5002 - val_accuracy: 0.8461 - 13s/epoch - 122ms/step\n",
            "Epoch 2/5\n",
            "108/108 - 3s - loss: 0.4532 - accuracy: 0.8591 - val_loss: 0.3587 - val_accuracy: 0.8943 - 3s/epoch - 26ms/step\n",
            "Epoch 3/5\n",
            "108/108 - 5s - loss: 0.3200 - accuracy: 0.9062 - val_loss: 0.2697 - val_accuracy: 0.9262 - 5s/epoch - 46ms/step\n",
            "Epoch 4/5\n",
            "108/108 - 5s - loss: 0.2203 - accuracy: 0.9407 - val_loss: 0.2113 - val_accuracy: 0.9477 - 5s/epoch - 47ms/step\n",
            "Epoch 5/5\n",
            "108/108 - 7s - loss: 0.1515 - accuracy: 0.9605 - val_loss: 0.1835 - val_accuracy: 0.9540 - 7s/epoch - 61ms/step\n",
            "lr: 0.00884279610692346 num_filters: 81 filter_size: 5 dense_units: 46\n"
          ]
        },
        {
          "output_type": "stream",
          "name": "stderr",
          "text": [
            "WARNING:absl:`lr` is deprecated in Keras optimizer, please use `learning_rate` or use the legacy optimizer, e.g.,tf.keras.optimizers.legacy.Adam.\n"
          ]
        },
        {
          "output_type": "stream",
          "name": "stdout",
          "text": [
            "Epoch 1/5\n",
            "108/108 - 8s - loss: 0.8003 - accuracy: 0.7576 - val_loss: 0.5098 - val_accuracy: 0.8483 - 8s/epoch - 76ms/step\n",
            "Epoch 2/5\n",
            "108/108 - 5s - loss: 0.4510 - accuracy: 0.8561 - val_loss: 0.3734 - val_accuracy: 0.8843 - 5s/epoch - 46ms/step\n",
            "Epoch 3/5\n",
            "108/108 - 6s - loss: 0.3157 - accuracy: 0.9046 - val_loss: 0.2861 - val_accuracy: 0.9195 - 6s/epoch - 54ms/step\n",
            "Epoch 4/5\n",
            "108/108 - 6s - loss: 0.2136 - accuracy: 0.9388 - val_loss: 0.2187 - val_accuracy: 0.9414 - 6s/epoch - 55ms/step\n",
            "Epoch 5/5\n",
            "108/108 - 4s - loss: 0.1436 - accuracy: 0.9612 - val_loss: 0.1878 - val_accuracy: 0.9551 - 4s/epoch - 38ms/step\n",
            "lr: 0.002943416831468286 num_filters: 126 filter_size: 3 dense_units: 53\n"
          ]
        },
        {
          "output_type": "stream",
          "name": "stderr",
          "text": [
            "WARNING:absl:`lr` is deprecated in Keras optimizer, please use `learning_rate` or use the legacy optimizer, e.g.,tf.keras.optimizers.legacy.Adam.\n"
          ]
        },
        {
          "output_type": "stream",
          "name": "stdout",
          "text": [
            "Epoch 1/5\n",
            "108/108 - 11s - loss: 0.7567 - accuracy: 0.7716 - val_loss: 0.4728 - val_accuracy: 0.8572 - 11s/epoch - 101ms/step\n",
            "Epoch 2/5\n",
            "108/108 - 4s - loss: 0.4160 - accuracy: 0.8689 - val_loss: 0.3380 - val_accuracy: 0.9017 - 4s/epoch - 33ms/step\n",
            "Epoch 3/5\n",
            "108/108 - 5s - loss: 0.2814 - accuracy: 0.9160 - val_loss: 0.2377 - val_accuracy: 0.9388 - 5s/epoch - 49ms/step\n",
            "Epoch 4/5\n",
            "108/108 - 6s - loss: 0.1823 - accuracy: 0.9506 - val_loss: 0.1794 - val_accuracy: 0.9566 - 6s/epoch - 60ms/step\n",
            "Epoch 5/5\n",
            "108/108 - 7s - loss: 0.1227 - accuracy: 0.9680 - val_loss: 0.1608 - val_accuracy: 0.9629 - 7s/epoch - 61ms/step\n",
            "best_params: [0.002943416831468286, 126, 3, 53]\n",
            "lr: 0.0010821849703314163 num_filters: 117 filter_size: 4 dense_units: 52\n"
          ]
        },
        {
          "output_type": "stream",
          "name": "stderr",
          "text": [
            "WARNING:absl:`lr` is deprecated in Keras optimizer, please use `learning_rate` or use the legacy optimizer, e.g.,tf.keras.optimizers.legacy.Adam.\n"
          ]
        },
        {
          "output_type": "stream",
          "name": "stdout",
          "text": [
            "Epoch 1/5\n",
            "108/108 - 13s - loss: 0.7564 - accuracy: 0.7706 - val_loss: 0.4828 - val_accuracy: 0.8476 - 13s/epoch - 121ms/step\n",
            "Epoch 2/5\n",
            "108/108 - 3s - loss: 0.4233 - accuracy: 0.8654 - val_loss: 0.3347 - val_accuracy: 0.9013 - 3s/epoch - 31ms/step\n",
            "Epoch 3/5\n",
            "108/108 - 3s - loss: 0.2835 - accuracy: 0.9197 - val_loss: 0.2604 - val_accuracy: 0.9306 - 3s/epoch - 31ms/step\n",
            "Epoch 4/5\n",
            "108/108 - 5s - loss: 0.1913 - accuracy: 0.9495 - val_loss: 0.2015 - val_accuracy: 0.9484 - 5s/epoch - 46ms/step\n",
            "Epoch 5/5\n",
            "108/108 - 6s - loss: 0.1322 - accuracy: 0.9649 - val_loss: 0.1801 - val_accuracy: 0.9562 - 6s/epoch - 56ms/step\n",
            "lr: 0.005177384780743358 num_filters: 116 filter_size: 4 dense_units: 58\n"
          ]
        },
        {
          "output_type": "stream",
          "name": "stderr",
          "text": [
            "WARNING:absl:`lr` is deprecated in Keras optimizer, please use `learning_rate` or use the legacy optimizer, e.g.,tf.keras.optimizers.legacy.Adam.\n"
          ]
        },
        {
          "output_type": "stream",
          "name": "stdout",
          "text": [
            "Epoch 1/5\n",
            "108/108 - 14s - loss: 0.7860 - accuracy: 0.7613 - val_loss: 0.4949 - val_accuracy: 0.8464 - 14s/epoch - 129ms/step\n",
            "Epoch 2/5\n",
            "108/108 - 4s - loss: 0.4231 - accuracy: 0.8658 - val_loss: 0.3371 - val_accuracy: 0.9010 - 4s/epoch - 36ms/step\n",
            "Epoch 3/5\n",
            "108/108 - 5s - loss: 0.2873 - accuracy: 0.9155 - val_loss: 0.2576 - val_accuracy: 0.9314 - 5s/epoch - 48ms/step\n",
            "Epoch 4/5\n",
            "108/108 - 7s - loss: 0.1888 - accuracy: 0.9499 - val_loss: 0.2010 - val_accuracy: 0.9496 - 7s/epoch - 61ms/step\n",
            "Epoch 5/5\n",
            "108/108 - 7s - loss: 0.1347 - accuracy: 0.9639 - val_loss: 0.1983 - val_accuracy: 0.9522 - 7s/epoch - 61ms/step\n",
            "lr: 0.002371526918289087 num_filters: 104 filter_size: 6 dense_units: 58\n"
          ]
        },
        {
          "output_type": "stream",
          "name": "stderr",
          "text": [
            "WARNING:absl:`lr` is deprecated in Keras optimizer, please use `learning_rate` or use the legacy optimizer, e.g.,tf.keras.optimizers.legacy.Adam.\n"
          ]
        },
        {
          "output_type": "stream",
          "name": "stdout",
          "text": [
            "Epoch 1/5\n",
            "108/108 - 17s - loss: 0.7664 - accuracy: 0.7657 - val_loss: 0.4855 - val_accuracy: 0.8527 - 17s/epoch - 159ms/step\n",
            "Epoch 2/5\n",
            "108/108 - 3s - loss: 0.4278 - accuracy: 0.8673 - val_loss: 0.3474 - val_accuracy: 0.9039 - 3s/epoch - 32ms/step\n",
            "Epoch 3/5\n",
            "108/108 - 3s - loss: 0.2848 - accuracy: 0.9159 - val_loss: 0.2614 - val_accuracy: 0.9299 - 3s/epoch - 32ms/step\n",
            "Epoch 4/5\n",
            "108/108 - 4s - loss: 0.1791 - accuracy: 0.9519 - val_loss: 0.2092 - val_accuracy: 0.9462 - 4s/epoch - 39ms/step\n",
            "Epoch 5/5\n",
            "108/108 - 6s - loss: 0.1173 - accuracy: 0.9687 - val_loss: 0.1862 - val_accuracy: 0.9518 - 6s/epoch - 57ms/step\n",
            "lr: 0.004322808378633835 num_filters: 114 filter_size: 5 dense_units: 49\n"
          ]
        },
        {
          "output_type": "stream",
          "name": "stderr",
          "text": [
            "WARNING:absl:`lr` is deprecated in Keras optimizer, please use `learning_rate` or use the legacy optimizer, e.g.,tf.keras.optimizers.legacy.Adam.\n"
          ]
        },
        {
          "output_type": "stream",
          "name": "stdout",
          "text": [
            "Epoch 1/5\n",
            "108/108 - 12s - loss: 0.7860 - accuracy: 0.7603 - val_loss: 0.4872 - val_accuracy: 0.8550 - 12s/epoch - 115ms/step\n",
            "Epoch 2/5\n",
            "108/108 - 4s - loss: 0.4295 - accuracy: 0.8652 - val_loss: 0.3603 - val_accuracy: 0.8909 - 4s/epoch - 34ms/step\n",
            "Epoch 3/5\n",
            "108/108 - 5s - loss: 0.2931 - accuracy: 0.9150 - val_loss: 0.2804 - val_accuracy: 0.9254 - 5s/epoch - 45ms/step\n",
            "Epoch 4/5\n",
            "108/108 - 7s - loss: 0.1926 - accuracy: 0.9477 - val_loss: 0.2099 - val_accuracy: 0.9477 - 7s/epoch - 62ms/step\n",
            "Epoch 5/5\n",
            "108/108 - 7s - loss: 0.1282 - accuracy: 0.9662 - val_loss: 0.1894 - val_accuracy: 0.9562 - 7s/epoch - 63ms/step\n",
            "lr: 0.008410060435587164 num_filters: 101 filter_size: 6 dense_units: 38\n"
          ]
        },
        {
          "output_type": "stream",
          "name": "stderr",
          "text": [
            "WARNING:absl:`lr` is deprecated in Keras optimizer, please use `learning_rate` or use the legacy optimizer, e.g.,tf.keras.optimizers.legacy.Adam.\n"
          ]
        },
        {
          "output_type": "stream",
          "name": "stdout",
          "text": [
            "Epoch 1/5\n",
            "108/108 - 9s - loss: 0.7966 - accuracy: 0.7561 - val_loss: 0.5117 - val_accuracy: 0.8487 - 9s/epoch - 81ms/step\n",
            "Epoch 2/5\n",
            "108/108 - 4s - loss: 0.4408 - accuracy: 0.8634 - val_loss: 0.3561 - val_accuracy: 0.8961 - 4s/epoch - 34ms/step\n",
            "Epoch 3/5\n",
            "108/108 - 6s - loss: 0.2956 - accuracy: 0.9142 - val_loss: 0.2704 - val_accuracy: 0.9284 - 6s/epoch - 52ms/step\n",
            "Epoch 4/5\n",
            "108/108 - 6s - loss: 0.1962 - accuracy: 0.9490 - val_loss: 0.2072 - val_accuracy: 0.9462 - 6s/epoch - 54ms/step\n",
            "Epoch 5/5\n",
            "108/108 - 5s - loss: 0.1307 - accuracy: 0.9653 - val_loss: 0.1757 - val_accuracy: 0.9585 - 5s/epoch - 51ms/step\n",
            "lr: 0.008662090162474238 num_filters: 98 filter_size: 6 dense_units: 32\n"
          ]
        },
        {
          "output_type": "stream",
          "name": "stderr",
          "text": [
            "WARNING:absl:`lr` is deprecated in Keras optimizer, please use `learning_rate` or use the legacy optimizer, e.g.,tf.keras.optimizers.legacy.Adam.\n"
          ]
        },
        {
          "output_type": "stream",
          "name": "stdout",
          "text": [
            "Epoch 1/5\n",
            "108/108 - 8s - loss: 0.8404 - accuracy: 0.7473 - val_loss: 0.5491 - val_accuracy: 0.8286 - 8s/epoch - 75ms/step\n",
            "Epoch 2/5\n",
            "108/108 - 4s - loss: 0.4727 - accuracy: 0.8485 - val_loss: 0.3791 - val_accuracy: 0.8839 - 4s/epoch - 36ms/step\n",
            "Epoch 3/5\n",
            "108/108 - 5s - loss: 0.3126 - accuracy: 0.9104 - val_loss: 0.2780 - val_accuracy: 0.9232 - 5s/epoch - 48ms/step\n",
            "Epoch 4/5\n",
            "108/108 - 5s - loss: 0.2085 - accuracy: 0.9452 - val_loss: 0.2210 - val_accuracy: 0.9407 - 5s/epoch - 48ms/step\n",
            "Epoch 5/5\n",
            "108/108 - 5s - loss: 0.1405 - accuracy: 0.9656 - val_loss: 0.1930 - val_accuracy: 0.9529 - 5s/epoch - 49ms/step\n",
            "lr: 0.006238854207637199 num_filters: 111 filter_size: 6 dense_units: 63\n"
          ]
        },
        {
          "output_type": "stream",
          "name": "stderr",
          "text": [
            "WARNING:absl:`lr` is deprecated in Keras optimizer, please use `learning_rate` or use the legacy optimizer, e.g.,tf.keras.optimizers.legacy.Adam.\n"
          ]
        },
        {
          "output_type": "stream",
          "name": "stdout",
          "text": [
            "Epoch 1/5\n",
            "108/108 - 9s - loss: 0.7342 - accuracy: 0.7766 - val_loss: 0.4747 - val_accuracy: 0.8576 - 9s/epoch - 79ms/step\n",
            "Epoch 2/5\n",
            "108/108 - 6s - loss: 0.4125 - accuracy: 0.8695 - val_loss: 0.3460 - val_accuracy: 0.9050 - 6s/epoch - 51ms/step\n",
            "Epoch 3/5\n",
            "108/108 - 7s - loss: 0.2715 - accuracy: 0.9202 - val_loss: 0.2659 - val_accuracy: 0.9295 - 7s/epoch - 62ms/step\n",
            "Epoch 4/5\n",
            "108/108 - 7s - loss: 0.1769 - accuracy: 0.9503 - val_loss: 0.2128 - val_accuracy: 0.9466 - 7s/epoch - 64ms/step\n",
            "Epoch 5/5\n",
            "108/108 - 5s - loss: 0.1110 - accuracy: 0.9704 - val_loss: 0.2004 - val_accuracy: 0.9488 - 5s/epoch - 51ms/step\n",
            "lr: 0.004148719730317326 num_filters: 116 filter_size: 4 dense_units: 57\n"
          ]
        },
        {
          "output_type": "stream",
          "name": "stderr",
          "text": [
            "WARNING:absl:`lr` is deprecated in Keras optimizer, please use `learning_rate` or use the legacy optimizer, e.g.,tf.keras.optimizers.legacy.Adam.\n"
          ]
        },
        {
          "output_type": "stream",
          "name": "stdout",
          "text": [
            "Epoch 1/5\n",
            "108/108 - 12s - loss: 0.7424 - accuracy: 0.7761 - val_loss: 0.4629 - val_accuracy: 0.8557 - 12s/epoch - 116ms/step\n",
            "Epoch 2/5\n",
            "108/108 - 4s - loss: 0.4061 - accuracy: 0.8723 - val_loss: 0.3228 - val_accuracy: 0.9054 - 4s/epoch - 36ms/step\n",
            "Epoch 3/5\n",
            "108/108 - 6s - loss: 0.2801 - accuracy: 0.9177 - val_loss: 0.2427 - val_accuracy: 0.9362 - 6s/epoch - 55ms/step\n",
            "Epoch 4/5\n",
            "108/108 - 7s - loss: 0.1825 - accuracy: 0.9502 - val_loss: 0.1952 - val_accuracy: 0.9499 - 7s/epoch - 67ms/step\n",
            "Epoch 5/5\n",
            "108/108 - 7s - loss: 0.1159 - accuracy: 0.9691 - val_loss: 0.1709 - val_accuracy: 0.9622 - 7s/epoch - 69ms/step\n",
            "lr: 0.005556068397068197 num_filters: 83 filter_size: 4 dense_units: 33\n"
          ]
        },
        {
          "output_type": "stream",
          "name": "stderr",
          "text": [
            "WARNING:absl:`lr` is deprecated in Keras optimizer, please use `learning_rate` or use the legacy optimizer, e.g.,tf.keras.optimizers.legacy.Adam.\n"
          ]
        },
        {
          "output_type": "stream",
          "name": "stdout",
          "text": [
            "Epoch 1/5\n",
            "108/108 - 9s - loss: 0.8181 - accuracy: 0.7511 - val_loss: 0.5335 - val_accuracy: 0.8353 - 9s/epoch - 80ms/step\n",
            "Epoch 2/5\n",
            "108/108 - 5s - loss: 0.4715 - accuracy: 0.8482 - val_loss: 0.3916 - val_accuracy: 0.8839 - 5s/epoch - 44ms/step\n",
            "Epoch 3/5\n",
            "108/108 - 6s - loss: 0.3315 - accuracy: 0.9021 - val_loss: 0.2845 - val_accuracy: 0.9214 - 6s/epoch - 52ms/step\n",
            "Epoch 4/5\n",
            "108/108 - 5s - loss: 0.2247 - accuracy: 0.9389 - val_loss: 0.2085 - val_accuracy: 0.9477 - 5s/epoch - 50ms/step\n",
            "Epoch 5/5\n",
            "108/108 - 5s - loss: 0.1560 - accuracy: 0.9561 - val_loss: 0.1788 - val_accuracy: 0.9525 - 5s/epoch - 43ms/step\n",
            "lr: 0.003450499477701735 num_filters: 67 filter_size: 4 dense_units: 44\n"
          ]
        },
        {
          "output_type": "stream",
          "name": "stderr",
          "text": [
            "WARNING:absl:`lr` is deprecated in Keras optimizer, please use `learning_rate` or use the legacy optimizer, e.g.,tf.keras.optimizers.legacy.Adam.\n"
          ]
        },
        {
          "output_type": "stream",
          "name": "stdout",
          "text": [
            "Epoch 1/5\n",
            "108/108 - 10s - loss: 0.8613 - accuracy: 0.7364 - val_loss: 0.5404 - val_accuracy: 0.8316 - 10s/epoch - 96ms/step\n",
            "Epoch 2/5\n",
            "108/108 - 3s - loss: 0.4824 - accuracy: 0.8443 - val_loss: 0.3890 - val_accuracy: 0.8843 - 3s/epoch - 26ms/step\n",
            "Epoch 3/5\n",
            "108/108 - 3s - loss: 0.3351 - accuracy: 0.8984 - val_loss: 0.2874 - val_accuracy: 0.9217 - 3s/epoch - 27ms/step\n",
            "Epoch 4/5\n",
            "108/108 - 5s - loss: 0.2319 - accuracy: 0.9351 - val_loss: 0.2252 - val_accuracy: 0.9425 - 5s/epoch - 47ms/step\n",
            "Epoch 5/5\n",
            "108/108 - 5s - loss: 0.1610 - accuracy: 0.9569 - val_loss: 0.1877 - val_accuracy: 0.9607 - 5s/epoch - 46ms/step\n",
            "lr: 0.003403980445326872 num_filters: 77 filter_size: 3 dense_units: 49\n"
          ]
        },
        {
          "output_type": "stream",
          "name": "stderr",
          "text": [
            "WARNING:absl:`lr` is deprecated in Keras optimizer, please use `learning_rate` or use the legacy optimizer, e.g.,tf.keras.optimizers.legacy.Adam.\n"
          ]
        },
        {
          "output_type": "stream",
          "name": "stdout",
          "text": [
            "Epoch 1/5\n",
            "108/108 - 10s - loss: 0.8124 - accuracy: 0.7561 - val_loss: 0.5164 - val_accuracy: 0.8416 - 10s/epoch - 96ms/step\n",
            "Epoch 2/5\n",
            "108/108 - 3s - loss: 0.4574 - accuracy: 0.8555 - val_loss: 0.3614 - val_accuracy: 0.8958 - 3s/epoch - 26ms/step\n",
            "Epoch 3/5\n",
            "108/108 - 3s - loss: 0.3194 - accuracy: 0.9039 - val_loss: 0.2636 - val_accuracy: 0.9306 - 3s/epoch - 27ms/step\n",
            "Epoch 4/5\n",
            "108/108 - 5s - loss: 0.2143 - accuracy: 0.9428 - val_loss: 0.2030 - val_accuracy: 0.9503 - 5s/epoch - 45ms/step\n",
            "Epoch 5/5\n",
            "108/108 - 5s - loss: 0.1504 - accuracy: 0.9606 - val_loss: 0.1659 - val_accuracy: 0.9636 - 5s/epoch - 49ms/step\n",
            "lr: 0.009337406776040402 num_filters: 74 filter_size: 6 dense_units: 46\n"
          ]
        },
        {
          "output_type": "stream",
          "name": "stderr",
          "text": [
            "WARNING:absl:`lr` is deprecated in Keras optimizer, please use `learning_rate` or use the legacy optimizer, e.g.,tf.keras.optimizers.legacy.Adam.\n"
          ]
        },
        {
          "output_type": "stream",
          "name": "stdout",
          "text": [
            "Epoch 1/5\n",
            "108/108 - 12s - loss: 0.7922 - accuracy: 0.7639 - val_loss: 0.5268 - val_accuracy: 0.8364 - 12s/epoch - 113ms/step\n",
            "Epoch 2/5\n",
            "108/108 - 3s - loss: 0.4697 - accuracy: 0.8506 - val_loss: 0.3816 - val_accuracy: 0.8861 - 3s/epoch - 28ms/step\n",
            "Epoch 3/5\n",
            "108/108 - 5s - loss: 0.3212 - accuracy: 0.9046 - val_loss: 0.2838 - val_accuracy: 0.9221 - 5s/epoch - 46ms/step\n",
            "Epoch 4/5\n",
            "108/108 - 5s - loss: 0.2172 - accuracy: 0.9404 - val_loss: 0.2206 - val_accuracy: 0.9444 - 5s/epoch - 50ms/step\n",
            "Epoch 5/5\n",
            "108/108 - 5s - loss: 0.1421 - accuracy: 0.9643 - val_loss: 0.1891 - val_accuracy: 0.9551 - 5s/epoch - 51ms/step\n"
          ]
        },
        {
          "output_type": "stream",
          "name": "stderr",
          "text": [
            "WARNING:absl:`lr` is deprecated in Keras optimizer, please use `learning_rate` or use the legacy optimizer, e.g.,tf.keras.optimizers.legacy.Adam.\n"
          ]
        },
        {
          "output_type": "stream",
          "name": "stdout",
          "text": [
            "Epoch 1/5\n",
            "108/108 - 10s - loss: 0.7633 - accuracy: 0.7685 - val_loss: 0.4844 - val_accuracy: 0.8509 - 10s/epoch - 94ms/step\n",
            "Epoch 2/5\n",
            "108/108 - 5s - loss: 0.4298 - accuracy: 0.8664 - val_loss: 0.3419 - val_accuracy: 0.9013 - 5s/epoch - 49ms/step\n",
            "Epoch 3/5\n",
            "108/108 - 7s - loss: 0.2958 - accuracy: 0.9140 - val_loss: 0.2592 - val_accuracy: 0.9325 - 7s/epoch - 63ms/step\n",
            "Epoch 4/5\n",
            "108/108 - 7s - loss: 0.1970 - accuracy: 0.9442 - val_loss: 0.2103 - val_accuracy: 0.9466 - 7s/epoch - 64ms/step\n",
            "Epoch 5/5\n",
            "108/108 - 4s - loss: 0.1364 - accuracy: 0.9652 - val_loss: 0.1755 - val_accuracy: 0.9596 - 4s/epoch - 35ms/step\n",
            "lr: 0.009097884367452222 num_filters: 93 filter_size: 4 dense_units: 63\n"
          ]
        },
        {
          "output_type": "stream",
          "name": "stderr",
          "text": [
            "WARNING:absl:`lr` is deprecated in Keras optimizer, please use `learning_rate` or use the legacy optimizer, e.g.,tf.keras.optimizers.legacy.Adam.\n"
          ]
        },
        {
          "output_type": "stream",
          "name": "stdout",
          "text": [
            "Epoch 1/5\n",
            "108/108 - 11s - loss: 0.7770 - accuracy: 0.7622 - val_loss: 0.5007 - val_accuracy: 0.8431 - 11s/epoch - 98ms/step\n",
            "Epoch 2/5\n",
            "108/108 - 7s - loss: 0.4343 - accuracy: 0.8640 - val_loss: 0.3523 - val_accuracy: 0.8943 - 7s/epoch - 63ms/step\n",
            "Epoch 3/5\n",
            "108/108 - 7s - loss: 0.3055 - accuracy: 0.9086 - val_loss: 0.2572 - val_accuracy: 0.9318 - 7s/epoch - 61ms/step\n",
            "Epoch 4/5\n",
            "108/108 - 4s - loss: 0.2032 - accuracy: 0.9448 - val_loss: 0.2103 - val_accuracy: 0.9455 - 4s/epoch - 33ms/step\n",
            "Epoch 5/5\n",
            "108/108 - 3s - loss: 0.1387 - accuracy: 0.9628 - val_loss: 0.1770 - val_accuracy: 0.9562 - 3s/epoch - 32ms/step\n",
            "lr: 0.008959266532680251 num_filters: 70 filter_size: 6 dense_units: 35\n"
          ]
        },
        {
          "output_type": "stream",
          "name": "stderr",
          "text": [
            "WARNING:absl:`lr` is deprecated in Keras optimizer, please use `learning_rate` or use the legacy optimizer, e.g.,tf.keras.optimizers.legacy.Adam.\n"
          ]
        },
        {
          "output_type": "stream",
          "name": "stdout",
          "text": [
            "Epoch 1/5\n",
            "108/108 - 12s - loss: 0.8044 - accuracy: 0.7586 - val_loss: 0.5490 - val_accuracy: 0.8294 - 12s/epoch - 112ms/step\n",
            "Epoch 2/5\n",
            "108/108 - 5s - loss: 0.4734 - accuracy: 0.8462 - val_loss: 0.4052 - val_accuracy: 0.8809 - 5s/epoch - 46ms/step\n",
            "Epoch 3/5\n",
            "108/108 - 4s - loss: 0.3344 - accuracy: 0.9009 - val_loss: 0.2983 - val_accuracy: 0.9173 - 4s/epoch - 38ms/step\n",
            "Epoch 4/5\n",
            "108/108 - 3s - loss: 0.2225 - accuracy: 0.9397 - val_loss: 0.2450 - val_accuracy: 0.9351 - 3s/epoch - 26ms/step\n",
            "Epoch 5/5\n",
            "108/108 - 3s - loss: 0.1514 - accuracy: 0.9589 - val_loss: 0.2166 - val_accuracy: 0.9421 - 3s/epoch - 26ms/step\n",
            "lr: 0.002994679568549241 num_filters: 127 filter_size: 4 dense_units: 49\n"
          ]
        },
        {
          "output_type": "stream",
          "name": "stderr",
          "text": [
            "WARNING:absl:`lr` is deprecated in Keras optimizer, please use `learning_rate` or use the legacy optimizer, e.g.,tf.keras.optimizers.legacy.Adam.\n"
          ]
        },
        {
          "output_type": "stream",
          "name": "stdout",
          "text": [
            "Epoch 1/5\n",
            "108/108 - 13s - loss: 0.7645 - accuracy: 0.7682 - val_loss: 0.4818 - val_accuracy: 0.8598 - 13s/epoch - 124ms/step\n",
            "Epoch 2/5\n",
            "108/108 - 6s - loss: 0.4198 - accuracy: 0.8676 - val_loss: 0.3363 - val_accuracy: 0.9062 - 6s/epoch - 60ms/step\n",
            "Epoch 3/5\n",
            "108/108 - 4s - loss: 0.2744 - accuracy: 0.9200 - val_loss: 0.2545 - val_accuracy: 0.9303 - 4s/epoch - 35ms/step\n",
            "Epoch 4/5\n",
            "108/108 - 4s - loss: 0.1816 - accuracy: 0.9498 - val_loss: 0.1965 - val_accuracy: 0.9507 - 4s/epoch - 32ms/step\n",
            "Epoch 5/5\n",
            "108/108 - 4s - loss: 0.1175 - accuracy: 0.9688 - val_loss: 0.1726 - val_accuracy: 0.9592 - 4s/epoch - 33ms/step\n",
            "lr: 0.009156883452798432 num_filters: 95 filter_size: 4 dense_units: 58\n"
          ]
        },
        {
          "output_type": "stream",
          "name": "stderr",
          "text": [
            "WARNING:absl:`lr` is deprecated in Keras optimizer, please use `learning_rate` or use the legacy optimizer, e.g.,tf.keras.optimizers.legacy.Adam.\n"
          ]
        },
        {
          "output_type": "stream",
          "name": "stdout",
          "text": [
            "Epoch 1/5\n",
            "108/108 - 13s - loss: 0.7790 - accuracy: 0.7633 - val_loss: 0.4796 - val_accuracy: 0.8542 - 13s/epoch - 120ms/step\n",
            "Epoch 2/5\n",
            "108/108 - 7s - loss: 0.4235 - accuracy: 0.8661 - val_loss: 0.3319 - val_accuracy: 0.9010 - 7s/epoch - 64ms/step\n",
            "Epoch 3/5\n",
            "108/108 - 7s - loss: 0.2911 - accuracy: 0.9150 - val_loss: 0.2535 - val_accuracy: 0.9351 - 7s/epoch - 61ms/step\n",
            "Epoch 4/5\n",
            "108/108 - 3s - loss: 0.1897 - accuracy: 0.9486 - val_loss: 0.1954 - val_accuracy: 0.9518 - 3s/epoch - 32ms/step\n",
            "Epoch 5/5\n",
            "108/108 - 4s - loss: 0.1332 - accuracy: 0.9635 - val_loss: 0.1677 - val_accuracy: 0.9592 - 4s/epoch - 33ms/step\n",
            "lr: 0.002486663922619131 num_filters: 106 filter_size: 6 dense_units: 40\n"
          ]
        },
        {
          "output_type": "stream",
          "name": "stderr",
          "text": [
            "WARNING:absl:`lr` is deprecated in Keras optimizer, please use `learning_rate` or use the legacy optimizer, e.g.,tf.keras.optimizers.legacy.Adam.\n"
          ]
        },
        {
          "output_type": "stream",
          "name": "stdout",
          "text": [
            "Epoch 1/5\n",
            "108/108 - 14s - loss: 0.8154 - accuracy: 0.7479 - val_loss: 0.5258 - val_accuracy: 0.8349 - 14s/epoch - 126ms/step\n",
            "Epoch 2/5\n",
            "108/108 - 6s - loss: 0.4566 - accuracy: 0.8537 - val_loss: 0.3663 - val_accuracy: 0.8876 - 6s/epoch - 55ms/step\n",
            "Epoch 3/5\n",
            "108/108 - 3s - loss: 0.3078 - accuracy: 0.9075 - val_loss: 0.2707 - val_accuracy: 0.9247 - 3s/epoch - 31ms/step\n",
            "Epoch 4/5\n",
            "108/108 - 3s - loss: 0.1969 - accuracy: 0.9458 - val_loss: 0.2174 - val_accuracy: 0.9421 - 3s/epoch - 30ms/step\n",
            "Epoch 5/5\n",
            "108/108 - 3s - loss: 0.1350 - accuracy: 0.9643 - val_loss: 0.1894 - val_accuracy: 0.9496 - 3s/epoch - 30ms/step\n",
            "lr: 0.002750651220740823 num_filters: 114 filter_size: 3 dense_units: 53\n"
          ]
        },
        {
          "output_type": "stream",
          "name": "stderr",
          "text": [
            "WARNING:absl:`lr` is deprecated in Keras optimizer, please use `learning_rate` or use the legacy optimizer, e.g.,tf.keras.optimizers.legacy.Adam.\n"
          ]
        },
        {
          "output_type": "stream",
          "name": "stdout",
          "text": [
            "Epoch 1/5\n",
            "108/108 - 15s - loss: 0.7628 - accuracy: 0.7688 - val_loss: 0.4679 - val_accuracy: 0.8542 - 15s/epoch - 142ms/step\n",
            "Epoch 2/5\n",
            "108/108 - 4s - loss: 0.4223 - accuracy: 0.8671 - val_loss: 0.3324 - val_accuracy: 0.9069 - 4s/epoch - 35ms/step\n",
            "Epoch 3/5\n",
            "108/108 - 3s - loss: 0.2840 - accuracy: 0.9159 - val_loss: 0.2387 - val_accuracy: 0.9384 - 3s/epoch - 32ms/step\n",
            "Epoch 4/5\n",
            "108/108 - 3s - loss: 0.1908 - accuracy: 0.9463 - val_loss: 0.1864 - val_accuracy: 0.9540 - 3s/epoch - 32ms/step\n",
            "Epoch 5/5\n",
            "108/108 - 6s - loss: 0.1282 - accuracy: 0.9658 - val_loss: 0.1539 - val_accuracy: 0.9636 - 6s/epoch - 57ms/step\n",
            "best_params: [0.002750651220740823, 114, 3, 53]\n",
            "lr: 0.008854621153977442 num_filters: 124 filter_size: 3 dense_units: 44\n"
          ]
        },
        {
          "output_type": "stream",
          "name": "stderr",
          "text": [
            "WARNING:absl:`lr` is deprecated in Keras optimizer, please use `learning_rate` or use the legacy optimizer, e.g.,tf.keras.optimizers.legacy.Adam.\n"
          ]
        },
        {
          "output_type": "stream",
          "name": "stdout",
          "text": [
            "Epoch 1/5\n",
            "108/108 - 13s - loss: 0.7704 - accuracy: 0.7694 - val_loss: 0.4812 - val_accuracy: 0.8546 - 13s/epoch - 116ms/step\n",
            "Epoch 2/5\n",
            "108/108 - 3s - loss: 0.4231 - accuracy: 0.8659 - val_loss: 0.3408 - val_accuracy: 0.9002 - 3s/epoch - 31ms/step\n",
            "Epoch 3/5\n",
            "108/108 - 3s - loss: 0.2888 - accuracy: 0.9149 - val_loss: 0.2487 - val_accuracy: 0.9381 - 3s/epoch - 31ms/step\n",
            "Epoch 4/5\n",
            "108/108 - 5s - loss: 0.1900 - accuracy: 0.9489 - val_loss: 0.2048 - val_accuracy: 0.9477 - 5s/epoch - 47ms/step\n",
            "Epoch 5/5\n",
            "108/108 - 6s - loss: 0.1289 - accuracy: 0.9656 - val_loss: 0.1875 - val_accuracy: 0.9603 - 6s/epoch - 57ms/step\n",
            "lr: 0.0020345059419795662 num_filters: 98 filter_size: 5 dense_units: 37\n"
          ]
        },
        {
          "output_type": "stream",
          "name": "stderr",
          "text": [
            "WARNING:absl:`lr` is deprecated in Keras optimizer, please use `learning_rate` or use the legacy optimizer, e.g.,tf.keras.optimizers.legacy.Adam.\n"
          ]
        },
        {
          "output_type": "stream",
          "name": "stdout",
          "text": [
            "Epoch 1/5\n",
            "108/108 - 12s - loss: 0.8073 - accuracy: 0.7549 - val_loss: 0.5230 - val_accuracy: 0.8405 - 12s/epoch - 113ms/step\n",
            "Epoch 2/5\n",
            "108/108 - 3s - loss: 0.4625 - accuracy: 0.8519 - val_loss: 0.3725 - val_accuracy: 0.8935 - 3s/epoch - 30ms/step\n",
            "Epoch 3/5\n",
            "108/108 - 6s - loss: 0.3106 - accuracy: 0.9074 - val_loss: 0.2715 - val_accuracy: 0.9262 - 6s/epoch - 52ms/step\n",
            "Epoch 4/5\n",
            "108/108 - 6s - loss: 0.2065 - accuracy: 0.9447 - val_loss: 0.2133 - val_accuracy: 0.9466 - 6s/epoch - 56ms/step\n",
            "Epoch 5/5\n",
            "108/108 - 6s - loss: 0.1420 - accuracy: 0.9643 - val_loss: 0.1849 - val_accuracy: 0.9562 - 6s/epoch - 57ms/step\n",
            "lr: 0.002755499166023708 num_filters: 102 filter_size: 4 dense_units: 54\n"
          ]
        },
        {
          "output_type": "stream",
          "name": "stderr",
          "text": [
            "WARNING:absl:`lr` is deprecated in Keras optimizer, please use `learning_rate` or use the legacy optimizer, e.g.,tf.keras.optimizers.legacy.Adam.\n"
          ]
        },
        {
          "output_type": "stream",
          "name": "stdout",
          "text": [
            "Epoch 1/5\n",
            "108/108 - 12s - loss: 0.8097 - accuracy: 0.7512 - val_loss: 0.4899 - val_accuracy: 0.8494 - 12s/epoch - 114ms/step\n",
            "Epoch 2/5\n",
            "108/108 - 3s - loss: 0.4292 - accuracy: 0.8642 - val_loss: 0.3416 - val_accuracy: 0.9039 - 3s/epoch - 31ms/step\n",
            "Epoch 3/5\n",
            "108/108 - 4s - loss: 0.2970 - accuracy: 0.9115 - val_loss: 0.2559 - val_accuracy: 0.9351 - 4s/epoch - 33ms/step\n",
            "Epoch 4/5\n",
            "108/108 - 6s - loss: 0.1987 - accuracy: 0.9453 - val_loss: 0.2057 - val_accuracy: 0.9481 - 6s/epoch - 59ms/step\n",
            "Epoch 5/5\n",
            "108/108 - 7s - loss: 0.1345 - accuracy: 0.9637 - val_loss: 0.1815 - val_accuracy: 0.9570 - 7s/epoch - 62ms/step\n",
            "lr: 0.0033437426510464093 num_filters: 73 filter_size: 6 dense_units: 41\n"
          ]
        },
        {
          "output_type": "stream",
          "name": "stderr",
          "text": [
            "WARNING:absl:`lr` is deprecated in Keras optimizer, please use `learning_rate` or use the legacy optimizer, e.g.,tf.keras.optimizers.legacy.Adam.\n"
          ]
        },
        {
          "output_type": "stream",
          "name": "stdout",
          "text": [
            "Epoch 1/5\n",
            "108/108 - 13s - loss: 0.8089 - accuracy: 0.7566 - val_loss: 0.5341 - val_accuracy: 0.8375 - 13s/epoch - 123ms/step\n",
            "Epoch 2/5\n",
            "108/108 - 3s - loss: 0.4733 - accuracy: 0.8476 - val_loss: 0.4013 - val_accuracy: 0.8691 - 3s/epoch - 26ms/step\n",
            "Epoch 3/5\n",
            "108/108 - 3s - loss: 0.3309 - accuracy: 0.8988 - val_loss: 0.2897 - val_accuracy: 0.9188 - 3s/epoch - 25ms/step\n",
            "Epoch 4/5\n",
            "108/108 - 3s - loss: 0.2186 - accuracy: 0.9391 - val_loss: 0.2349 - val_accuracy: 0.9347 - 3s/epoch - 26ms/step\n",
            "Epoch 5/5\n",
            "108/108 - 4s - loss: 0.1431 - accuracy: 0.9607 - val_loss: 0.1995 - val_accuracy: 0.9466 - 4s/epoch - 36ms/step\n",
            "lr: 0.00277032885131289 num_filters: 75 filter_size: 3 dense_units: 46\n"
          ]
        },
        {
          "output_type": "stream",
          "name": "stderr",
          "text": [
            "WARNING:absl:`lr` is deprecated in Keras optimizer, please use `learning_rate` or use the legacy optimizer, e.g.,tf.keras.optimizers.legacy.Adam.\n"
          ]
        },
        {
          "output_type": "stream",
          "name": "stdout",
          "text": [
            "Epoch 1/5\n",
            "108/108 - 13s - loss: 0.8246 - accuracy: 0.7438 - val_loss: 0.5162 - val_accuracy: 0.8435 - 13s/epoch - 123ms/step\n",
            "Epoch 2/5\n",
            "108/108 - 3s - loss: 0.4618 - accuracy: 0.8539 - val_loss: 0.3695 - val_accuracy: 0.8902 - 3s/epoch - 27ms/step\n",
            "Epoch 3/5\n",
            "108/108 - 3s - loss: 0.3184 - accuracy: 0.9066 - val_loss: 0.2627 - val_accuracy: 0.9292 - 3s/epoch - 26ms/step\n",
            "Epoch 4/5\n",
            "108/108 - 3s - loss: 0.2131 - accuracy: 0.9412 - val_loss: 0.2029 - val_accuracy: 0.9507 - 3s/epoch - 26ms/step\n",
            "Epoch 5/5\n",
            "108/108 - 4s - loss: 0.1555 - accuracy: 0.9592 - val_loss: 0.1710 - val_accuracy: 0.9607 - 4s/epoch - 38ms/step\n",
            "lr: 0.0070627221148251455 num_filters: 112 filter_size: 6 dense_units: 52\n"
          ]
        },
        {
          "output_type": "stream",
          "name": "stderr",
          "text": [
            "WARNING:absl:`lr` is deprecated in Keras optimizer, please use `learning_rate` or use the legacy optimizer, e.g.,tf.keras.optimizers.legacy.Adam.\n"
          ]
        },
        {
          "output_type": "stream",
          "name": "stdout",
          "text": [
            "Epoch 1/5\n",
            "108/108 - 14s - loss: 0.7421 - accuracy: 0.7744 - val_loss: 0.4801 - val_accuracy: 0.8527 - 14s/epoch - 127ms/step\n",
            "Epoch 2/5\n",
            "108/108 - 3s - loss: 0.4228 - accuracy: 0.8664 - val_loss: 0.3472 - val_accuracy: 0.8969 - 3s/epoch - 30ms/step\n",
            "Epoch 3/5\n",
            "108/108 - 3s - loss: 0.2777 - accuracy: 0.9189 - val_loss: 0.2606 - val_accuracy: 0.9299 - 3s/epoch - 31ms/step\n",
            "Epoch 4/5\n",
            "108/108 - 4s - loss: 0.1798 - accuracy: 0.9491 - val_loss: 0.2119 - val_accuracy: 0.9425 - 4s/epoch - 39ms/step\n",
            "Epoch 5/5\n",
            "108/108 - 6s - loss: 0.1102 - accuracy: 0.9718 - val_loss: 0.1907 - val_accuracy: 0.9518 - 6s/epoch - 57ms/step\n",
            "lr: 0.006152272062698094 num_filters: 100 filter_size: 4 dense_units: 54\n"
          ]
        },
        {
          "output_type": "stream",
          "name": "stderr",
          "text": [
            "WARNING:absl:`lr` is deprecated in Keras optimizer, please use `learning_rate` or use the legacy optimizer, e.g.,tf.keras.optimizers.legacy.Adam.\n"
          ]
        },
        {
          "output_type": "stream",
          "name": "stdout",
          "text": [
            "Epoch 1/5\n",
            "108/108 - 11s - loss: 0.8022 - accuracy: 0.7550 - val_loss: 0.5014 - val_accuracy: 0.8420 - 11s/epoch - 106ms/step\n",
            "Epoch 2/5\n",
            "108/108 - 4s - loss: 0.4434 - accuracy: 0.8603 - val_loss: 0.3661 - val_accuracy: 0.8939 - 4s/epoch - 33ms/step\n",
            "Epoch 3/5\n",
            "108/108 - 6s - loss: 0.3079 - accuracy: 0.9065 - val_loss: 0.2720 - val_accuracy: 0.9295 - 6s/epoch - 54ms/step\n",
            "Epoch 4/5\n",
            "108/108 - 6s - loss: 0.2123 - accuracy: 0.9408 - val_loss: 0.2291 - val_accuracy: 0.9381 - 6s/epoch - 60ms/step\n",
            "Epoch 5/5\n",
            "108/108 - 7s - loss: 0.1447 - accuracy: 0.9623 - val_loss: 0.1764 - val_accuracy: 0.9577 - 7s/epoch - 61ms/step\n",
            "lr: 0.0062265915190245665 num_filters: 95 filter_size: 5 dense_units: 56\n"
          ]
        },
        {
          "output_type": "stream",
          "name": "stderr",
          "text": [
            "WARNING:absl:`lr` is deprecated in Keras optimizer, please use `learning_rate` or use the legacy optimizer, e.g.,tf.keras.optimizers.legacy.Adam.\n"
          ]
        },
        {
          "output_type": "stream",
          "name": "stdout",
          "text": [
            "Epoch 1/5\n",
            "108/108 - 9s - loss: 0.7600 - accuracy: 0.7708 - val_loss: 0.4924 - val_accuracy: 0.8461 - 9s/epoch - 83ms/step\n",
            "Epoch 2/5\n",
            "108/108 - 5s - loss: 0.4367 - accuracy: 0.8605 - val_loss: 0.3603 - val_accuracy: 0.8921 - 5s/epoch - 44ms/step\n",
            "Epoch 3/5\n",
            "108/108 - 6s - loss: 0.2949 - accuracy: 0.9118 - val_loss: 0.2695 - val_accuracy: 0.9251 - 6s/epoch - 60ms/step\n",
            "Epoch 4/5\n",
            "108/108 - 7s - loss: 0.1912 - accuracy: 0.9448 - val_loss: 0.2101 - val_accuracy: 0.9440 - 7s/epoch - 62ms/step\n",
            "Epoch 5/5\n",
            "108/108 - 4s - loss: 0.1250 - accuracy: 0.9680 - val_loss: 0.1803 - val_accuracy: 0.9573 - 4s/epoch - 40ms/step\n",
            "lr: 0.004630776178460645 num_filters: 105 filter_size: 4 dense_units: 56\n"
          ]
        },
        {
          "output_type": "stream",
          "name": "stderr",
          "text": [
            "WARNING:absl:`lr` is deprecated in Keras optimizer, please use `learning_rate` or use the legacy optimizer, e.g.,tf.keras.optimizers.legacy.Adam.\n"
          ]
        },
        {
          "output_type": "stream",
          "name": "stdout",
          "text": [
            "Epoch 1/5\n",
            "108/108 - 10s - loss: 0.7565 - accuracy: 0.7717 - val_loss: 0.4887 - val_accuracy: 0.8516 - 10s/epoch - 90ms/step\n",
            "Epoch 2/5\n",
            "108/108 - 6s - loss: 0.4260 - accuracy: 0.8651 - val_loss: 0.3596 - val_accuracy: 0.8909 - 6s/epoch - 58ms/step\n",
            "Epoch 3/5\n",
            "108/108 - 7s - loss: 0.2894 - accuracy: 0.9141 - val_loss: 0.2568 - val_accuracy: 0.9336 - 7s/epoch - 63ms/step\n",
            "Epoch 4/5\n",
            "108/108 - 5s - loss: 0.1959 - accuracy: 0.9461 - val_loss: 0.2148 - val_accuracy: 0.9466 - 5s/epoch - 42ms/step\n",
            "Epoch 5/5\n",
            "108/108 - 3s - loss: 0.1339 - accuracy: 0.9640 - val_loss: 0.2038 - val_accuracy: 0.9455 - 3s/epoch - 31ms/step\n",
            "lr: 0.00329225456925372 num_filters: 123 filter_size: 5 dense_units: 57\n"
          ]
        },
        {
          "output_type": "stream",
          "name": "stderr",
          "text": [
            "WARNING:absl:`lr` is deprecated in Keras optimizer, please use `learning_rate` or use the legacy optimizer, e.g.,tf.keras.optimizers.legacy.Adam.\n"
          ]
        },
        {
          "output_type": "stream",
          "name": "stdout",
          "text": [
            "Epoch 1/5\n",
            "108/108 - 13s - loss: 0.7525 - accuracy: 0.7664 - val_loss: 0.4744 - val_accuracy: 0.8490 - 13s/epoch - 117ms/step\n",
            "Epoch 2/5\n",
            "108/108 - 7s - loss: 0.4121 - accuracy: 0.8715 - val_loss: 0.3408 - val_accuracy: 0.9054 - 7s/epoch - 66ms/step\n",
            "Epoch 3/5\n",
            "108/108 - 5s - loss: 0.2748 - accuracy: 0.9205 - val_loss: 0.2665 - val_accuracy: 0.9262 - 5s/epoch - 45ms/step\n",
            "Epoch 4/5\n",
            "108/108 - 4s - loss: 0.1773 - accuracy: 0.9514 - val_loss: 0.2002 - val_accuracy: 0.9507 - 4s/epoch - 35ms/step\n",
            "Epoch 5/5\n",
            "108/108 - 4s - loss: 0.1093 - accuracy: 0.9714 - val_loss: 0.1801 - val_accuracy: 0.9544 - 4s/epoch - 34ms/step\n",
            "lr: 0.0056684675027001185 num_filters: 67 filter_size: 6 dense_units: 37\n"
          ]
        },
        {
          "output_type": "stream",
          "name": "stderr",
          "text": [
            "WARNING:absl:`lr` is deprecated in Keras optimizer, please use `learning_rate` or use the legacy optimizer, e.g.,tf.keras.optimizers.legacy.Adam.\n"
          ]
        },
        {
          "output_type": "stream",
          "name": "stdout",
          "text": [
            "Epoch 1/5\n",
            "108/108 - 16s - loss: 0.8047 - accuracy: 0.7615 - val_loss: 0.5472 - val_accuracy: 0.8386 - 16s/epoch - 148ms/step\n",
            "Epoch 2/5\n",
            "108/108 - 3s - loss: 0.4783 - accuracy: 0.8503 - val_loss: 0.4013 - val_accuracy: 0.8783 - 3s/epoch - 26ms/step\n",
            "Epoch 3/5\n",
            "108/108 - 4s - loss: 0.3340 - accuracy: 0.8991 - val_loss: 0.2893 - val_accuracy: 0.9195 - 4s/epoch - 37ms/step\n",
            "Epoch 4/5\n",
            "108/108 - 4s - loss: 0.2259 - accuracy: 0.9355 - val_loss: 0.2351 - val_accuracy: 0.9403 - 4s/epoch - 34ms/step\n",
            "Epoch 5/5\n",
            "108/108 - 7s - loss: 0.1501 - accuracy: 0.9601 - val_loss: 0.2082 - val_accuracy: 0.9518 - 7s/epoch - 67ms/step\n",
            "lr: 0.004212233631118596 num_filters: 109 filter_size: 6 dense_units: 34\n"
          ]
        },
        {
          "output_type": "stream",
          "name": "stderr",
          "text": [
            "WARNING:absl:`lr` is deprecated in Keras optimizer, please use `learning_rate` or use the legacy optimizer, e.g.,tf.keras.optimizers.legacy.Adam.\n"
          ]
        },
        {
          "output_type": "stream",
          "name": "stdout",
          "text": [
            "Epoch 1/5\n",
            "108/108 - 10s - loss: 0.7841 - accuracy: 0.7648 - val_loss: 0.5218 - val_accuracy: 0.8409 - 10s/epoch - 94ms/step\n",
            "Epoch 2/5\n",
            "108/108 - 5s - loss: 0.4499 - accuracy: 0.8549 - val_loss: 0.3687 - val_accuracy: 0.8921 - 5s/epoch - 51ms/step\n",
            "Epoch 3/5\n",
            "108/108 - 6s - loss: 0.3012 - accuracy: 0.9096 - val_loss: 0.2617 - val_accuracy: 0.9295 - 6s/epoch - 52ms/step\n",
            "Epoch 4/5\n",
            "108/108 - 5s - loss: 0.1878 - accuracy: 0.9483 - val_loss: 0.2023 - val_accuracy: 0.9470 - 5s/epoch - 43ms/step\n",
            "Epoch 5/5\n",
            "108/108 - 3s - loss: 0.1222 - accuracy: 0.9689 - val_loss: 0.1955 - val_accuracy: 0.9555 - 3s/epoch - 29ms/step\n",
            "lr: 0.009415300072359668 num_filters: 104 filter_size: 6 dense_units: 61\n"
          ]
        },
        {
          "output_type": "stream",
          "name": "stderr",
          "text": [
            "WARNING:absl:`lr` is deprecated in Keras optimizer, please use `learning_rate` or use the legacy optimizer, e.g.,tf.keras.optimizers.legacy.Adam.\n"
          ]
        },
        {
          "output_type": "stream",
          "name": "stdout",
          "text": [
            "Epoch 1/5\n",
            "108/108 - 9s - loss: 0.7512 - accuracy: 0.7723 - val_loss: 0.4828 - val_accuracy: 0.8572 - 9s/epoch - 87ms/step\n",
            "Epoch 2/5\n",
            "108/108 - 4s - loss: 0.4197 - accuracy: 0.8668 - val_loss: 0.3436 - val_accuracy: 0.9024 - 4s/epoch - 37ms/step\n",
            "Epoch 3/5\n",
            "108/108 - 6s - loss: 0.2832 - accuracy: 0.9154 - val_loss: 0.2658 - val_accuracy: 0.9254 - 6s/epoch - 59ms/step\n",
            "Epoch 4/5\n",
            "108/108 - 7s - loss: 0.1834 - accuracy: 0.9501 - val_loss: 0.2072 - val_accuracy: 0.9492 - 7s/epoch - 61ms/step\n",
            "Epoch 5/5\n",
            "108/108 - 6s - loss: 0.1210 - accuracy: 0.9686 - val_loss: 0.1838 - val_accuracy: 0.9536 - 6s/epoch - 51ms/step\n",
            "lr: 0.00998583828339103 num_filters: 92 filter_size: 6 dense_units: 44\n"
          ]
        },
        {
          "output_type": "stream",
          "name": "stderr",
          "text": [
            "WARNING:absl:`lr` is deprecated in Keras optimizer, please use `learning_rate` or use the legacy optimizer, e.g.,tf.keras.optimizers.legacy.Adam.\n"
          ]
        },
        {
          "output_type": "stream",
          "name": "stdout",
          "text": [
            "Epoch 1/5\n",
            "108/108 - 8s - loss: 0.7998 - accuracy: 0.7563 - val_loss: 0.5179 - val_accuracy: 0.8453 - 8s/epoch - 74ms/step\n",
            "Epoch 2/5\n",
            "108/108 - 5s - loss: 0.4531 - accuracy: 0.8564 - val_loss: 0.3767 - val_accuracy: 0.8832 - 5s/epoch - 50ms/step\n",
            "Epoch 3/5\n",
            "108/108 - 5s - loss: 0.3075 - accuracy: 0.9078 - val_loss: 0.2959 - val_accuracy: 0.9173 - 5s/epoch - 49ms/step\n",
            "Epoch 4/5\n",
            "108/108 - 5s - loss: 0.2020 - accuracy: 0.9444 - val_loss: 0.2167 - val_accuracy: 0.9455 - 5s/epoch - 50ms/step\n",
            "Epoch 5/5\n",
            "108/108 - 4s - loss: 0.1280 - accuracy: 0.9649 - val_loss: 0.1878 - val_accuracy: 0.9540 - 4s/epoch - 40ms/step\n",
            "lr: 0.0030723946129891763 num_filters: 85 filter_size: 3 dense_units: 54\n"
          ]
        },
        {
          "output_type": "stream",
          "name": "stderr",
          "text": [
            "WARNING:absl:`lr` is deprecated in Keras optimizer, please use `learning_rate` or use the legacy optimizer, e.g.,tf.keras.optimizers.legacy.Adam.\n"
          ]
        },
        {
          "output_type": "stream",
          "name": "stdout",
          "text": [
            "Epoch 1/5\n",
            "108/108 - 8s - loss: 0.8089 - accuracy: 0.7552 - val_loss: 0.4925 - val_accuracy: 0.8505 - 8s/epoch - 76ms/step\n",
            "Epoch 2/5\n",
            "108/108 - 6s - loss: 0.4416 - accuracy: 0.8588 - val_loss: 0.3418 - val_accuracy: 0.8984 - 6s/epoch - 53ms/step\n",
            "Epoch 3/5\n",
            "108/108 - 6s - loss: 0.3014 - accuracy: 0.9088 - val_loss: 0.2571 - val_accuracy: 0.9329 - 6s/epoch - 55ms/step\n",
            "Epoch 4/5\n",
            "108/108 - 6s - loss: 0.2118 - accuracy: 0.9421 - val_loss: 0.1976 - val_accuracy: 0.9529 - 6s/epoch - 55ms/step\n",
            "Epoch 5/5\n",
            "108/108 - 3s - loss: 0.1447 - accuracy: 0.9604 - val_loss: 0.1604 - val_accuracy: 0.9622 - 3s/epoch - 32ms/step\n",
            "final best params: [0.002750651220740823, 114, 3, 53]\n"
          ]
        }
      ]
    },
    {
      "cell_type": "code",
      "source": [
        "from keras.models import Sequential\n",
        "from keras.layers import Embedding, Conv1D, GlobalMaxPooling1D, Dense, LSTM, Bidirectional, SpatialDropout1D\n",
        "from keras.optimizers import Adam\n",
        "from keras.utils import to_categorical\n",
        "\n",
        "# Define the best hyperparameters for the hybrid CNN-LSTM model\n",
        "best_learning_rate = 0.002750651220740823\n",
        "best_num_filters = 114\n",
        "best_filter_size = 3\n",
        "best_dense_units = 53\n",
        "\n",
        "from keras.layers import Reshape\n",
        "\n",
        "# Build the hybrid CNN-LSTM model with the best hyperparameters\n",
        "model_hybrid = Sequential()\n",
        "model_hybrid.add(Embedding(input_dim=vocab_size, output_dim=embedding_dim, weights=[embedding_matrix], input_length=max_sequence_length, trainable=True))\n",
        "model_hybrid.add(Conv1D(best_num_filters, best_filter_size, activation='relu'))\n",
        "model_hybrid.add(GlobalMaxPooling1D())\n",
        "model_hybrid.add(Reshape((-1, best_num_filters)))  # Reshape the output to 3D tensor\n",
        "model_hybrid.add(SpatialDropout1D(0.2))\n",
        "model_hybrid.add(Bidirectional(LSTM(best_dense_units)))\n",
        "model_hybrid.add(Dense(num_classes, activation='softmax'))  # Use softmax for multi-class classification\n",
        "\n",
        "# Compile the model\n",
        "model_hybrid.compile(optimizer=Adam(lr=best_learning_rate), loss='categorical_crossentropy', metrics=['accuracy'])\n",
        "\n",
        "# Train the hybrid CNN-LSTM model\n",
        "model_hybrid.fit(train_data, train_labels_encoded, epochs=5, validation_split=0.2, callbacks=[EarlyStopping(patience=3)])\n",
        "\n",
        "# Evaluate the hybrid CNN-LSTM model on the test dataset\n",
        "test_loss, test_accuracy = model_hybrid.evaluate(test_data, test_labels_encoded, verbose=2)\n",
        "\n",
        "# Print the test accuracy\n",
        "print(\"Test Accuracy:\", test_accuracy)"
      ],
      "metadata": {
        "colab": {
          "base_uri": "https://localhost:8080/"
        },
        "id": "w2q1rauiCkIb",
        "outputId": "8236a627-bd4e-4326-bfee-a12562cb4302"
      },
      "execution_count": null,
      "outputs": [
        {
          "output_type": "stream",
          "name": "stderr",
          "text": [
            "WARNING:absl:`lr` is deprecated in Keras optimizer, please use `learning_rate` or use the legacy optimizer, e.g.,tf.keras.optimizers.legacy.Adam.\n"
          ]
        },
        {
          "output_type": "stream",
          "name": "stdout",
          "text": [
            "Epoch 1/5\n",
            "337/337 [==============================] - 14s 30ms/step - loss: 0.5623 - accuracy: 0.8326 - val_loss: 0.3359 - val_accuracy: 0.9125\n",
            "Epoch 2/5\n",
            "337/337 [==============================] - 10s 30ms/step - loss: 0.2720 - accuracy: 0.9270 - val_loss: 0.2096 - val_accuracy: 0.9510\n",
            "Epoch 3/5\n",
            "337/337 [==============================] - 6s 19ms/step - loss: 0.1638 - accuracy: 0.9596 - val_loss: 0.1547 - val_accuracy: 0.9659\n",
            "Epoch 4/5\n",
            "337/337 [==============================] - 6s 17ms/step - loss: 0.0970 - accuracy: 0.9770 - val_loss: 0.1411 - val_accuracy: 0.9711\n",
            "Epoch 5/5\n",
            "337/337 [==============================] - 10s 30ms/step - loss: 0.0630 - accuracy: 0.9841 - val_loss: 0.1262 - val_accuracy: 0.9755\n",
            "106/106 - 0s - loss: 0.1527 - accuracy: 0.9691 - 382ms/epoch - 4ms/step\n",
            "Test Accuracy: 0.9691486358642578\n"
          ]
        }
      ]
    },
    {
      "cell_type": "markdown",
      "source": [
        "Accuracy Graph"
      ],
      "metadata": {
        "id": "5-1cV_AjG6oC"
      }
    },
    {
      "cell_type": "code",
      "source": [
        "import matplotlib.pyplot as plt\n",
        "\n",
        "# Calculate accuracies\n",
        "lstm_accuracy = model_lstm.evaluate(test_data, test_labels, verbose=0)[1]\n",
        "cnn_accuracy = model_cnn.evaluate(test_data, test_labels_encoded, verbose=0)[1]\n",
        "hybrid_accuracy = model_hybrid.evaluate(test_data, test_labels_encoded, verbose=0)[1]\n",
        "\n",
        "# Create a bar graph with accuracy labels\n",
        "classifiers = ['LSTM', 'CNN', 'Hybrid CNN-LSTM']\n",
        "accuracies = [lstm_accuracy, cnn_accuracy, hybrid_accuracy]\n",
        "\n",
        "fig, ax = plt.subplots()\n",
        "bars = ax.bar(classifiers, accuracies, color=['blue', 'green', 'orange'], width=0.4)  # Adjust the width parameter\n",
        "\n",
        "# Add accuracy values as labels on top of the bars\n",
        "for bar, accuracy in zip(bars, accuracies):\n",
        "    yval = bar.get_height()\n",
        "    plt.text(bar.get_x() + bar.get_width()/2, yval, round(accuracy, 2), ha='center', va='bottom', color='black', fontweight='bold')\n",
        "\n",
        "plt.xlabel('Classifiers')\n",
        "plt.ylabel('Accuracy')\n",
        "plt.title('Classifier Accuracy Comparison')\n",
        "plt.ylim(0, 1)  # Set the y-axis limit to 0-1 for accuracy percentage\n",
        "plt.show()"
      ],
      "metadata": {
        "colab": {
          "base_uri": "https://localhost:8080/",
          "height": 472
        },
        "id": "x_TLa5W3G8Ok",
        "outputId": "0cacac44-1201-4b21-d13c-a9441fe194e1"
      },
      "execution_count": null,
      "outputs": [
        {
          "output_type": "display_data",
          "data": {
            "text/plain": [
              "<Figure size 640x480 with 1 Axes>"
            ],
            "image/png": "[encoded data removed]"
          },
          "metadata": {}
        }
      ]
    },
    {
      "cell_type": "markdown",
      "source": [
        "Metrics Graph"
      ],
      "metadata": {
        "id": "P8_qsLGFHC3A"
      }
    },
    {
      "cell_type": "code",
      "source": [
        "import matplotlib.pyplot as plt\n",
        "import numpy as np\n",
        "from sklearn.metrics import precision_recall_fscore_support\n",
        "\n",
        "def plot_metrics(classifier_name, precision, recall, f1, categories):\n",
        "    bar_width = 0.2\n",
        "    index = np.arange(len(categories))\n",
        "\n",
        "    plt.figure(figsize=(7,5))\n",
        "\n",
        "    plt.bar(index - bar_width, precision, bar_width, label='Precision', alpha=0.7)\n",
        "    plt.bar(index, recall, bar_width, label='Recall', alpha=0.7)\n",
        "    plt.bar(index + bar_width, f1, bar_width, label='F1 Score', alpha=0.7)\n",
        "\n",
        "    plt.title(f'{classifier_name} Metrics for Each Category')\n",
        "    plt.xlabel('Categories')\n",
        "    plt.ylabel('Score')\n",
        "    plt.xticks(index, categories)\n",
        "    plt.legend(loc='upper right')\n",
        "    plt.tight_layout()\n",
        "    plt.show()\n",
        "\n",
        "# LSTM Metrics\n",
        "lstm_metrics = precision_recall_fscore_support(test_labels, lstm_predicted_labels, labels=label_encoder.transform(label_encoder.classes_), average=None)\n",
        "lstm_precision, lstm_recall, lstm_f1, _ = lstm_metrics\n",
        "\n",
        "# CNN Metrics\n",
        "cnn_metrics = precision_recall_fscore_support(test_labels, cnn_predicted_labels, labels=label_encoder.transform(label_encoder.classes_), average=None)\n",
        "cnn_precision, cnn_recall, cnn_f1, _ = cnn_metrics\n",
        "\n",
        "# Hybrid CNN-LSTM Metrics\n",
        "hybrid_metrics = precision_recall_fscore_support(test_labels, hybrid_predicted_labels, labels=label_encoder.transform(label_encoder.classes_), average=None)\n",
        "hybrid_precision, hybrid_recall, hybrid_f1, _ = hybrid_metrics\n",
        "\n",
        "# Plot metrics for each classifier\n",
        "plot_metrics('LSTM', lstm_precision, lstm_recall, lstm_f1, label_encoder.classes_)\n",
        "plot_metrics('CNN', cnn_precision, cnn_recall, cnn_f1, label_encoder.classes_)\n",
        "plot_metrics('Hybrid CNN-LSTM', hybrid_precision, hybrid_recall, hybrid_f1, label_encoder.classes_)\n"
      ],
      "metadata": {
        "colab": {
          "base_uri": "https://localhost:8080/",
          "height": 1000
        },
        "id": "u85NK1y-HCep",
        "outputId": "9f0c15ff-9fed-4a5d-9159-4ba6459d975c"
      },
      "execution_count": null,
      "outputs": [
        {
          "output_type": "stream",
          "name": "stderr",
          "text": [
            "/usr/local/lib/python3.10/dist-packages/sklearn/metrics/_classification.py:1344: UndefinedMetricWarning: Precision and F-score are ill-defined and being set to 0.0 in labels with no predicted samples. Use `zero_division` parameter to control this behavior.\n",
            "  _warn_prf(average, modifier, msg_start, len(result))\n"
          ]
        },
        {
          "output_type": "display_data",
          "data": {
            "text/plain": [
              "<Figure size 700x500 with 1 Axes>"
            ],
            "image/png": "[encoded data removed]"
          },
          "metadata": {}
        },
        {
          "output_type": "display_data",
          "data": {
            "text/plain": [
              "<Figure size 700x500 with 1 Axes>"
            ],
            "image/png": "[encoded data removed]"
          },
          "metadata": {}
        },
        {
          "output_type": "display_data",
          "data": {
            "text/plain": [
              "<Figure size 700x500 with 1 Axes>"
            ],
            "image/png": "[encoded data removed]"
          },
          "metadata": {}
        }
      ]
    },
    {
      "cell_type": "markdown",
      "source": [
        "ROC- AUC Curve"
      ],
      "metadata": {
        "id": "XiXeDX56HNq7"
      }
    },
    {
      "cell_type": "code",
      "source": [
        "import matplotlib.pyplot as plt\n",
        "from sklearn.metrics import roc_auc_score, roc_curve\n",
        "from sklearn.preprocessing import label_binarize\n",
        "from itertools import cycle\n",
        "\n",
        "# Function to plot ROC-AUC curve\n",
        "def plot_roc_auc(model, data, labels, label_encoder, model_name):\n",
        "    # Binarize the labels\n",
        "    labels_binarized = label_binarize(labels, classes=label_encoder.classes_)\n",
        "\n",
        "    # Make predictions\n",
        "    predictions = model.predict(data)\n",
        "\n",
        "    # Compute ROC curve and ROC area for each class\n",
        "    fpr = dict()\n",
        "    tpr = dict()\n",
        "    roc_auc = dict()\n",
        "\n",
        "    for i in range(len(label_encoder.classes_)):\n",
        "        fpr[i], tpr[i], _ = roc_curve(labels_binarized[:, i], predictions[:, i])\n",
        "        roc_auc[i] = roc_auc_score(labels_binarized[:, i], predictions[:, i])\n",
        "\n",
        "    # Compute micro-average ROC curve and ROC area\n",
        "    fpr[\"micro\"], tpr[\"micro\"], _ = roc_curve(labels_binarized.ravel(), predictions.ravel())\n",
        "    roc_auc[\"micro\"] = roc_auc_score(labels_binarized, predictions, multi_class='ovr', average='micro')\n",
        "\n",
        "    # Plot ROC curve\n",
        "    plt.figure(figsize=(7, 5))\n",
        "    colors = cycle(['aqua', 'darkorange', 'cornflowerblue', 'red', 'green', 'purple'])\n",
        "    for i, color in zip(range(len(label_encoder.classes_)), colors):\n",
        "        plt.plot(fpr[i], tpr[i], color=color, lw=2,\n",
        "                 label=f'{label_encoder.classes_[i]} (area = {roc_auc[i]:0.2f})')\n",
        "\n",
        "    plt.plot([0, 1], [0, 1], 'k--', lw=2)\n",
        "    plt.xlim([0.0, 1.0])\n",
        "    plt.ylim([0.0, 1.05])\n",
        "    plt.xlabel('False Positive Rate')\n",
        "    plt.ylabel('True Positive Rate')\n",
        "    plt.title(f'ROC-AUC Curve - {model_name}')\n",
        "    plt.legend(loc=\"lower right\")\n",
        "    plt.show()\n",
        "\n",
        "# Plot ROC-AUC for LSTM model\n",
        "plot_roc_auc(model_lstm, test_data, test_labels_encoded, label_encoder, model_name=\"LSTM\")\n",
        "\n",
        "# Plot ROC-AUC for CNN model\n",
        "plot_roc_auc(model_cnn, test_data, test_labels_encoded, label_encoder, model_name=\"CNN\")\n",
        "\n",
        "# Plot ROC-AUC for Hybrid CNN-LSTM model\n",
        "plot_roc_auc(model_hybrid, test_data, test_labels_encoded, label_encoder, model_name=\"Hybrid CNN-LSTM\")\n"
      ],
      "metadata": {
        "colab": {
          "base_uri": "https://localhost:8080/",
          "height": 1000
        },
        "id": "vzwkH9AfHIff",
        "outputId": "8bb9d4c8-bb5e-4c19-f930-3cde7db04ce5"
      },
      "execution_count": null,
      "outputs": [
        {
          "output_type": "stream",
          "name": "stdout",
          "text": [
            "106/106 [==============================] - 1s 9ms/step\n"
          ]
        },
        {
          "output_type": "display_data",
          "data": {
            "text/plain": [
              "<Figure size 700x500 with 1 Axes>"
            ],
            "image/png": "[encoded data removed]"
          },
          "metadata": {}
        },
        {
          "output_type": "stream",
          "name": "stdout",
          "text": [
            "106/106 [==============================] - 1s 5ms/step\n"
          ]
        },
        {
          "output_type": "display_data",
          "data": {
            "text/plain": [
              "<Figure size 700x500 with 1 Axes>"
            ],
            "image/png": "[encoded data removed]"
          },
          "metadata": {}
        },
        {
          "output_type": "stream",
          "name": "stdout",
          "text": [
            "106/106 [==============================] - 2s 4ms/step\n"
          ]
        },
        {
          "output_type": "display_data",
          "data": {
            "text/plain": [
              "<Figure size 700x500 with 1 Axes>"
            ],
            "image/png": "[encoded data removed]"
          },
          "metadata": {}
        }
      ]
    },
    {
      "cell_type": "markdown",
      "source": [
        "Confusion Graph"
      ],
      "metadata": {
        "id": "JmZgSul7HS-M"
      }
    },
    {
      "cell_type": "code",
      "source": [
        "!pip install scikit-learn\n",
        "!pip install seaborn"
      ],
      "metadata": {
        "colab": {
          "base_uri": "https://localhost:8080/"
        },
        "id": "AgDBMVpKHRAD",
        "outputId": "d20f7a1f-2bb8-468e-fc5c-d48bb46ab039"
      },
      "execution_count": null,
      "outputs": [
        {
          "output_type": "stream",
          "name": "stdout",
          "text": [
            "Requirement already satisfied: scikit-learn in /usr/local/lib/python3.10/dist-packages (1.2.2)\n",
            "Requirement already satisfied: numpy>=1.17.3 in /usr/local/lib/python3.10/dist-packages (from scikit-learn) (1.25.2)\n",
            "Requirement already satisfied: scipy>=1.3.2 in /usr/local/lib/python3.10/dist-packages (from scikit-learn) (1.11.4)\n",
            "Requirement already satisfied: joblib>=1.1.1 in /usr/local/lib/python3.10/dist-packages (from scikit-learn) (1.3.2)\n",
            "Requirement already satisfied: threadpoolctl>=2.0.0 in /usr/local/lib/python3.10/dist-packages (from scikit-learn) (3.3.0)\n",
            "Requirement already satisfied: seaborn in /usr/local/lib/python3.10/dist-packages (0.13.1)\n",
            "Requirement already satisfied: numpy!=1.24.0,>=1.20 in /usr/local/lib/python3.10/dist-packages (from seaborn) (1.25.2)\n",
            "Requirement already satisfied: pandas>=1.2 in /usr/local/lib/python3.10/dist-packages (from seaborn) (1.5.3)\n",
            "Requirement already satisfied: matplotlib!=3.6.1,>=3.4 in /usr/local/lib/python3.10/dist-packages (from seaborn) (3.7.1)\n",
            "Requirement already satisfied: contourpy>=1.0.1 in /usr/local/lib/python3.10/dist-packages (from matplotlib!=3.6.1,>=3.4->seaborn) (1.2.0)\n",
            "Requirement already satisfied: cycler>=0.10 in /usr/local/lib/python3.10/dist-packages (from matplotlib!=3.6.1,>=3.4->seaborn) (0.12.1)\n",
            "Requirement already satisfied: fonttools>=4.22.0 in /usr/local/lib/python3.10/dist-packages (from matplotlib!=3.6.1,>=3.4->seaborn) (4.49.0)\n",
            "Requirement already satisfied: kiwisolver>=1.0.1 in /usr/local/lib/python3.10/dist-packages (from matplotlib!=3.6.1,>=3.4->seaborn) (1.4.5)\n",
            "Requirement already satisfied: packaging>=20.0 in /usr/local/lib/python3.10/dist-packages (from matplotlib!=3.6.1,>=3.4->seaborn) (23.2)\n",
            "Requirement already satisfied: pillow>=6.2.0 in /usr/local/lib/python3.10/dist-packages (from matplotlib!=3.6.1,>=3.4->seaborn) (9.4.0)\n",
            "Requirement already satisfied: pyparsing>=2.3.1 in /usr/local/lib/python3.10/dist-packages (from matplotlib!=3.6.1,>=3.4->seaborn) (3.1.1)\n",
            "Requirement already satisfied: python-dateutil>=2.7 in /usr/local/lib/python3.10/dist-packages (from matplotlib!=3.6.1,>=3.4->seaborn) (2.8.2)\n",
            "Requirement already satisfied: pytz>=2020.1 in /usr/local/lib/python3.10/dist-packages (from pandas>=1.2->seaborn) (2023.4)\n",
            "Requirement already satisfied: six>=1.5 in /usr/local/lib/python3.10/dist-packages (from python-dateutil>=2.7->matplotlib!=3.6.1,>=3.4->seaborn) (1.16.0)\n"
          ]
        }
      ]
    },
    {
      "cell_type": "code",
      "source": [
        "from sklearn.metrics import confusion_matrix\n",
        "import seaborn as sns\n",
        "\n",
        "# Function to plot confusion matrix\n",
        "def plot_model_confusion_matrix(model, test_data, test_labels, label_encoder, model_name):\n",
        "    # Make predictions\n",
        "    predictions = model.predict(test_data)\n",
        "    predicted_labels = np.argmax(predictions, axis=1)\n",
        "\n",
        "    # Compute confusion matrix\n",
        "    cm = confusion_matrix(test_labels, predicted_labels)\n",
        "\n",
        "    # Plot confusion matrix using seaborn\n",
        "    plt.figure(figsize=(5, 4))\n",
        "    sns.heatmap(cm, annot=True, fmt='d', cmap='Blues',\n",
        "                xticklabels=label_encoder.classes_,\n",
        "                yticklabels=label_encoder.classes_)\n",
        "\n",
        "    plt.title(f'Confusion Matrix - {model_name}')\n",
        "    plt.xlabel('Predicted')\n",
        "    plt.ylabel('True')\n",
        "    plt.show()\n",
        "\n",
        "# Plot confusion matrix for LSTM model\n",
        "plot_model_confusion_matrix(model_lstm, test_data, test_labels, label_encoder, model_name=\"LSTM\")\n",
        "\n",
        "# Plot confusion matrix for CNN model\n",
        "plot_model_confusion_matrix(model_cnn, test_data, test_labels, label_encoder, model_name=\"CNN\")\n",
        "\n",
        "# Plot confusion matrix for Hybrid CNN-LSTM model\n",
        "plot_model_confusion_matrix(model_hybrid, test_data, test_labels, label_encoder, model_name=\"Hybrid CNN-LSTM\")"
      ],
      "metadata": {
        "colab": {
          "base_uri": "https://localhost:8080/",
          "height": 1000
        },
        "id": "FbsNHyVoHhZg",
        "outputId": "ad392717-5c9b-452f-fdf0-c2eda5aa5a88"
      },
      "execution_count": null,
      "outputs": [
        {
          "output_type": "stream",
          "name": "stdout",
          "text": [
            "106/106 [==============================] - 1s 6ms/step\n"
          ]
        },
        {
          "output_type": "display_data",
          "data": {
            "text/plain": [
              "<Figure size 500x400 with 2 Axes>"
            ],
            "image/png": "[encoded data removed]"
          },
          "metadata": {}
        },
        {
          "output_type": "stream",
          "name": "stdout",
          "text": [
            "106/106 [==============================] - 0s 3ms/step\n"
          ]
        },
        {
          "output_type": "display_data",
          "data": {
            "text/plain": [
              "<Figure size 500x400 with 2 Axes>"
            ],
            "image/png": "[encoded data removed]"
          },
          "metadata": {}
        },
        {
          "output_type": "stream",
          "name": "stdout",
          "text": [
            "106/106 [==============================] - 0s 4ms/step\n"
          ]
        },
        {
          "output_type": "display_data",
          "data": {
            "text/plain": [
              "<Figure size 500x400 with 2 Axes>"
            ],
            "image/png": "[encoded data removed]"
          },
          "metadata": {}
        }
      ]
    }
  ]
}